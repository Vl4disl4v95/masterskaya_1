{
 "cells": [
  {
   "cell_type": "markdown",
   "metadata": {
    "id": "650z04L14Swv"
   },
   "source": [
    "# Мастерская: модель, предсказывающая жизнеспособность стартапов"
   ]
  },
  {
   "cell_type": "markdown",
   "metadata": {
    "id": "n9vb3iWl_VlP"
   },
   "source": [
    "**Задача**: необходимо работать с псевдо-реальными (реальные данные в которые добавлена синтетическая составляющая) данными о стартапах, функционировавших в период с 1970 по 2018 годы, и предсказать, какие из них закроются.\n",
    "\n",
    "В ходе работы в пройдете все основные этапы полноценного исследования:\n",
    "- загрузка и ознакомление с данными,\n",
    "- предварительная обработка,\n",
    "- полноценный разведочный анализ,\n",
    "- разработка новых синтетических признаков,\n",
    "- проверка на мультиколлинеарность,\n",
    "- отбор финального набора обучающих признаков,\n",
    "- выбор и обучение моделей,\n",
    "- итоговая оценка качества предсказания лучшей модели,\n",
    "- анализ важности ее признаков,\n",
    "- подготовка отчета по исследованию."
   ]
  },
  {
   "cell_type": "code",
   "execution_count": 1,
   "metadata": {},
   "outputs": [
    {
     "name": "stdout",
     "output_type": "stream",
     "text": [
      "Requirement already satisfied: phik in /opt/conda/lib/python3.9/site-packages (0.12.4)\n",
      "Requirement already satisfied: numpy>=1.18.0 in /opt/conda/lib/python3.9/site-packages (from phik) (1.21.1)\n",
      "Requirement already satisfied: joblib>=0.14.1 in /opt/conda/lib/python3.9/site-packages (from phik) (1.1.0)\n",
      "Requirement already satisfied: matplotlib>=2.2.3 in /opt/conda/lib/python3.9/site-packages (from phik) (3.3.4)\n",
      "Requirement already satisfied: scipy>=1.5.2 in /opt/conda/lib/python3.9/site-packages (from phik) (1.9.1)\n",
      "Requirement already satisfied: pandas>=0.25.1 in /opt/conda/lib/python3.9/site-packages (from phik) (1.2.4)\n",
      "Requirement already satisfied: pyparsing!=2.0.4,!=2.1.2,!=2.1.6,>=2.0.3 in /opt/conda/lib/python3.9/site-packages (from matplotlib>=2.2.3->phik) (2.4.7)\n",
      "Requirement already satisfied: cycler>=0.10 in /opt/conda/lib/python3.9/site-packages (from matplotlib>=2.2.3->phik) (0.11.0)\n",
      "Requirement already satisfied: kiwisolver>=1.0.1 in /opt/conda/lib/python3.9/site-packages (from matplotlib>=2.2.3->phik) (1.4.4)\n",
      "Requirement already satisfied: pillow>=6.2.0 in /opt/conda/lib/python3.9/site-packages (from matplotlib>=2.2.3->phik) (8.4.0)\n",
      "Requirement already satisfied: python-dateutil>=2.1 in /opt/conda/lib/python3.9/site-packages (from matplotlib>=2.2.3->phik) (2.8.1)\n",
      "Requirement already satisfied: pytz>=2017.3 in /opt/conda/lib/python3.9/site-packages (from pandas>=0.25.1->phik) (2021.1)\n",
      "Requirement already satisfied: six>=1.5 in /opt/conda/lib/python3.9/site-packages (from python-dateutil>=2.1->matplotlib>=2.2.3->phik) (1.16.0)\n",
      "Requirement already satisfied: shap in /opt/conda/lib/python3.9/site-packages (0.46.0)\n",
      "Requirement already satisfied: tqdm>=4.27.0 in /opt/conda/lib/python3.9/site-packages (from shap) (4.61.2)\n",
      "Requirement already satisfied: scipy in /opt/conda/lib/python3.9/site-packages (from shap) (1.9.1)\n",
      "Requirement already satisfied: scikit-learn in /opt/conda/lib/python3.9/site-packages (from shap) (1.1.3)\n",
      "Requirement already satisfied: packaging>20.9 in /opt/conda/lib/python3.9/site-packages (from shap) (21.3)\n",
      "Requirement already satisfied: cloudpickle in /opt/conda/lib/python3.9/site-packages (from shap) (3.0.0)\n",
      "Requirement already satisfied: numpy in /opt/conda/lib/python3.9/site-packages (from shap) (1.21.1)\n",
      "Requirement already satisfied: slicer==0.0.8 in /opt/conda/lib/python3.9/site-packages (from shap) (0.0.8)\n",
      "Requirement already satisfied: numba in /opt/conda/lib/python3.9/site-packages (from shap) (0.56.0)\n",
      "Requirement already satisfied: pandas in /opt/conda/lib/python3.9/site-packages (from shap) (1.2.4)\n",
      "Requirement already satisfied: pyparsing!=3.0.5,>=2.0.2 in /opt/conda/lib/python3.9/site-packages (from packaging>20.9->shap) (2.4.7)\n",
      "Requirement already satisfied: llvmlite<0.40,>=0.39.0dev0 in /opt/conda/lib/python3.9/site-packages (from numba->shap) (0.39.0)\n",
      "Requirement already satisfied: setuptools in /opt/conda/lib/python3.9/site-packages (from numba->shap) (49.6.0.post20210108)\n",
      "Requirement already satisfied: python-dateutil>=2.7.3 in /opt/conda/lib/python3.9/site-packages (from pandas->shap) (2.8.1)\n",
      "Requirement already satisfied: pytz>=2017.3 in /opt/conda/lib/python3.9/site-packages (from pandas->shap) (2021.1)\n",
      "Requirement already satisfied: six>=1.5 in /opt/conda/lib/python3.9/site-packages (from python-dateutil>=2.7.3->pandas->shap) (1.16.0)\n",
      "Requirement already satisfied: joblib>=1.0.0 in /opt/conda/lib/python3.9/site-packages (from scikit-learn->shap) (1.1.0)\n",
      "Requirement already satisfied: threadpoolctl>=2.0.0 in /opt/conda/lib/python3.9/site-packages (from scikit-learn->shap) (3.1.0)\n",
      "Requirement already satisfied: optuna-integration in /opt/conda/lib/python3.9/site-packages (3.6.0)\n",
      "Requirement already satisfied: optuna in /opt/conda/lib/python3.9/site-packages (from optuna-integration) (3.6.1)\n",
      "Requirement already satisfied: colorlog in /opt/conda/lib/python3.9/site-packages (from optuna->optuna-integration) (6.8.2)\n",
      "Requirement already satisfied: numpy in /opt/conda/lib/python3.9/site-packages (from optuna->optuna-integration) (1.21.1)\n",
      "Requirement already satisfied: tqdm in /opt/conda/lib/python3.9/site-packages (from optuna->optuna-integration) (4.61.2)\n",
      "Requirement already satisfied: PyYAML in /opt/conda/lib/python3.9/site-packages (from optuna->optuna-integration) (6.0)\n",
      "Requirement already satisfied: packaging>=20.0 in /opt/conda/lib/python3.9/site-packages (from optuna->optuna-integration) (21.3)\n",
      "Requirement already satisfied: alembic>=1.5.0 in /opt/conda/lib/python3.9/site-packages (from optuna->optuna-integration) (1.6.5)\n",
      "Requirement already satisfied: sqlalchemy>=1.3.0 in /opt/conda/lib/python3.9/site-packages (from optuna->optuna-integration) (1.4.20)\n",
      "Requirement already satisfied: python-dateutil in /opt/conda/lib/python3.9/site-packages (from alembic>=1.5.0->optuna->optuna-integration) (2.8.1)\n",
      "Requirement already satisfied: python-editor>=0.3 in /opt/conda/lib/python3.9/site-packages (from alembic>=1.5.0->optuna->optuna-integration) (1.0.4)\n",
      "Requirement already satisfied: Mako in /opt/conda/lib/python3.9/site-packages (from alembic>=1.5.0->optuna->optuna-integration) (1.1.4)\n",
      "Requirement already satisfied: pyparsing!=3.0.5,>=2.0.2 in /opt/conda/lib/python3.9/site-packages (from packaging>=20.0->optuna->optuna-integration) (2.4.7)\n",
      "Requirement already satisfied: greenlet!=0.4.17 in /opt/conda/lib/python3.9/site-packages (from sqlalchemy>=1.3.0->optuna->optuna-integration) (1.1.0)\n",
      "Requirement already satisfied: MarkupSafe>=0.9.2 in /opt/conda/lib/python3.9/site-packages (from Mako->alembic>=1.5.0->optuna->optuna-integration) (2.1.1)\n",
      "Requirement already satisfied: six>=1.5 in /opt/conda/lib/python3.9/site-packages (from python-dateutil->alembic>=1.5.0->optuna->optuna-integration) (1.16.0)\n"
     ]
    }
   ],
   "source": [
    "# Установка библиотек\n",
    "!pip install phik \n",
    "!pip install shap\n",
    "!pip install scikit-learn==1.1.3 -q\n",
    "!pip install optuna-integration\n",
    "# !pip install numpy --upgrade\n",
    "# !pip install matplotlib --upgrade"
   ]
  },
  {
   "cell_type": "code",
   "execution_count": 2,
   "metadata": {},
   "outputs": [],
   "source": [
    "import pandas as pd\n",
    "#import seaborn as sns\n",
    "import numpy as np\n",
    "import sklearn\n",
    "import shap\n",
    "import optuna"
   ]
  },
  {
   "cell_type": "code",
   "execution_count": 3,
   "metadata": {},
   "outputs": [],
   "source": [
    "import seaborn as sns"
   ]
  },
  {
   "cell_type": "code",
   "execution_count": 4,
   "metadata": {
    "colab": {
     "base_uri": "https://localhost:8080/",
     "height": 529
    },
    "id": "7zAy4xby4ODO",
    "outputId": "cd455b08-f71a-49dc-fc0d-2ffc469041ac"
   },
   "outputs": [],
   "source": [
    "# Выгрузим библиотеки и инструменты для работы\n",
    "\n",
    "from datetime import datetime\n",
    "from phik import phik_matrix\n",
    "\n",
    "# Инструменты.\n",
    "from pkg_resources import Distribution\n",
    "from sklearn.model_selection import train_test_split, RandomizedSearchCV, GridSearchCV\n",
    "from sklearn.pipeline import Pipeline\n",
    "from sklearn.linear_model import LogisticRegression\n",
    "from sklearn.preprocessing import StandardScaler, OneHotEncoder, OrdinalEncoder, MinMaxScaler, LabelEncoder, PolynomialFeatures\n",
    "from sklearn.metrics import accuracy_score, recall_score, precision_score, roc_auc_score, f1_score\n",
    "from sklearn.compose import ColumnTransformer\n",
    "from sklearn.neighbors import KNeighborsClassifier\n",
    "from sklearn.tree import DecisionTreeClassifier\n",
    "from sklearn.svm import SVC\n",
    "from sklearn.impute import SimpleImputer \n",
    "from sklearn.feature_selection import SelectKBest, f_classif\n",
    "from phik.report import plot_correlation_matrix\n",
    "from scipy import stats as st\n",
    "from matplotlib import pyplot as plt\n",
    "from phik import phik_matrix\n",
    "import warnings\n",
    "from optuna.integration import OptunaSearchCV\n",
    "warnings.filterwarnings(\"ignore\")"
   ]
  },
  {
   "cell_type": "code",
   "execution_count": 5,
   "metadata": {},
   "outputs": [],
   "source": [
    "# Константы\n",
    "RANDOM_STATE = 42\n",
    "TEST_SIZE = 0.25"
   ]
  },
  {
   "cell_type": "markdown",
   "metadata": {
    "id": "YNhTSHljNGcF"
   },
   "source": [
    "## ЭТАП 1. Загрузка и ознакомление с данными\n",
    "На данном этапе прочитаем имеющиеся данные и изучим информацию о них."
   ]
  },
  {
   "cell_type": "markdown",
   "metadata": {
    "id": "68MY65xE7OYt"
   },
   "source": [
    "### Тренировочные данные"
   ]
  },
  {
   "cell_type": "code",
   "execution_count": 6,
   "metadata": {
    "colab": {
     "base_uri": "https://localhost:8080/",
     "height": 215
    },
    "id": "gammyJCr7DW0",
    "outputId": "aff85774-64bd-452c-bc5f-b0a2082ceca6"
   },
   "outputs": [
    {
     "data": {
      "text/html": [
       "<div>\n",
       "<style scoped>\n",
       "    .dataframe tbody tr th:only-of-type {\n",
       "        vertical-align: middle;\n",
       "    }\n",
       "\n",
       "    .dataframe tbody tr th {\n",
       "        vertical-align: top;\n",
       "    }\n",
       "\n",
       "    .dataframe thead th {\n",
       "        text-align: right;\n",
       "    }\n",
       "</style>\n",
       "<table border=\"1\" class=\"dataframe\">\n",
       "  <thead>\n",
       "    <tr style=\"text-align: right;\">\n",
       "      <th></th>\n",
       "      <th>name</th>\n",
       "      <th>category_list</th>\n",
       "      <th>funding_total_usd</th>\n",
       "      <th>status</th>\n",
       "      <th>country_code</th>\n",
       "      <th>state_code</th>\n",
       "      <th>region</th>\n",
       "      <th>city</th>\n",
       "      <th>funding_rounds</th>\n",
       "      <th>founded_at</th>\n",
       "      <th>first_funding_at</th>\n",
       "      <th>last_funding_at</th>\n",
       "      <th>closed_at</th>\n",
       "    </tr>\n",
       "  </thead>\n",
       "  <tbody>\n",
       "    <tr>\n",
       "      <th>0</th>\n",
       "      <td>Lunchgate</td>\n",
       "      <td>Online Reservations|Restaurants</td>\n",
       "      <td>828626.0</td>\n",
       "      <td>operating</td>\n",
       "      <td>CHE</td>\n",
       "      <td>25</td>\n",
       "      <td>Zurich</td>\n",
       "      <td>Zürich</td>\n",
       "      <td>2</td>\n",
       "      <td>2009-10-17</td>\n",
       "      <td>2011-05-01</td>\n",
       "      <td>2014-12-01</td>\n",
       "      <td>NaN</td>\n",
       "    </tr>\n",
       "    <tr>\n",
       "      <th>1</th>\n",
       "      <td>EarLens</td>\n",
       "      <td>Manufacturing|Medical|Medical Devices</td>\n",
       "      <td>42935019.0</td>\n",
       "      <td>operating</td>\n",
       "      <td>USA</td>\n",
       "      <td>CA</td>\n",
       "      <td>SF Bay Area</td>\n",
       "      <td>Redwood City</td>\n",
       "      <td>4</td>\n",
       "      <td>2005-01-01</td>\n",
       "      <td>2010-05-04</td>\n",
       "      <td>2014-02-25</td>\n",
       "      <td>NaN</td>\n",
       "    </tr>\n",
       "    <tr>\n",
       "      <th>2</th>\n",
       "      <td>Reviva Pharmaceuticals</td>\n",
       "      <td>Biotechnology</td>\n",
       "      <td>35456381.0</td>\n",
       "      <td>operating</td>\n",
       "      <td>USA</td>\n",
       "      <td>CA</td>\n",
       "      <td>SF Bay Area</td>\n",
       "      <td>San Jose</td>\n",
       "      <td>3</td>\n",
       "      <td>2006-01-01</td>\n",
       "      <td>2012-08-20</td>\n",
       "      <td>2014-07-02</td>\n",
       "      <td>NaN</td>\n",
       "    </tr>\n",
       "  </tbody>\n",
       "</table>\n",
       "</div>"
      ],
      "text/plain": [
       "                     name                          category_list  \\\n",
       "0               Lunchgate        Online Reservations|Restaurants   \n",
       "1                 EarLens  Manufacturing|Medical|Medical Devices   \n",
       "2  Reviva Pharmaceuticals                          Biotechnology   \n",
       "\n",
       "   funding_total_usd     status country_code state_code       region  \\\n",
       "0           828626.0  operating          CHE         25       Zurich   \n",
       "1         42935019.0  operating          USA         CA  SF Bay Area   \n",
       "2         35456381.0  operating          USA         CA  SF Bay Area   \n",
       "\n",
       "           city  funding_rounds  founded_at first_funding_at last_funding_at  \\\n",
       "0        Zürich               2  2009-10-17       2011-05-01      2014-12-01   \n",
       "1  Redwood City               4  2005-01-01       2010-05-04      2014-02-25   \n",
       "2      San Jose               3  2006-01-01       2012-08-20      2014-07-02   \n",
       "\n",
       "  closed_at  \n",
       "0       NaN  \n",
       "1       NaN  \n",
       "2       NaN  "
      ]
     },
     "execution_count": 6,
     "metadata": {},
     "output_type": "execute_result"
    }
   ],
   "source": [
    "df_train = pd.read_csv(\"kaggle_startups_train_28062024.csv\")\n",
    "df_train.head(3)"
   ]
  },
  {
   "cell_type": "code",
   "execution_count": 7,
   "metadata": {
    "colab": {
     "base_uri": "https://localhost:8080/"
    },
    "id": "S0a909FW7YsF",
    "outputId": "94b61c20-7710-4c72-86d2-62550ea660cf"
   },
   "outputs": [
    {
     "name": "stdout",
     "output_type": "stream",
     "text": [
      "<class 'pandas.core.frame.DataFrame'>\n",
      "RangeIndex: 52516 entries, 0 to 52515\n",
      "Data columns (total 13 columns):\n",
      " #   Column             Non-Null Count  Dtype  \n",
      "---  ------             --------------  -----  \n",
      " 0   name               52515 non-null  object \n",
      " 1   category_list      50051 non-null  object \n",
      " 2   funding_total_usd  42447 non-null  float64\n",
      " 3   status             52516 non-null  object \n",
      " 4   country_code       47014 non-null  object \n",
      " 5   state_code         45753 non-null  object \n",
      " 6   region             46157 non-null  object \n",
      " 7   city               46157 non-null  object \n",
      " 8   funding_rounds     52516 non-null  int64  \n",
      " 9   founded_at         52516 non-null  object \n",
      " 10  first_funding_at   52516 non-null  object \n",
      " 11  last_funding_at    52516 non-null  object \n",
      " 12  closed_at          4917 non-null   object \n",
      "dtypes: float64(1), int64(1), object(11)\n",
      "memory usage: 5.2+ MB\n"
     ]
    }
   ],
   "source": [
    "df_train.info()"
   ]
  },
  {
   "cell_type": "markdown",
   "metadata": {
    "id": "ui47_AJO7qF7"
   },
   "source": [
    "В тренировочных данных обнаружено большое количество пропусков.\\\n",
    "В столбцах founded_at, first_funding_at, last_funding_at и closed_at необходимо изменить тип на дату."
   ]
  },
  {
   "cell_type": "code",
   "execution_count": 8,
   "metadata": {
    "id": "V6N0k7_g9bxc"
   },
   "outputs": [],
   "source": [
    "df_train['founded_at'] = pd.to_datetime(df_train['founded_at'])\n",
    "df_train['first_funding_at'] = pd.to_datetime(df_train['first_funding_at'])\n",
    "df_train['last_funding_at'] = pd.to_datetime(df_train['last_funding_at'])\n",
    "df_train['closed_at'] = pd.to_datetime(df_train['closed_at'])"
   ]
  },
  {
   "cell_type": "code",
   "execution_count": 9,
   "metadata": {
    "colab": {
     "base_uri": "https://localhost:8080/",
     "height": 317
    },
    "id": "OC4hOo5e7fTV",
    "outputId": "1ceec27b-0e29-4a14-dd1e-511aca4c1d97"
   },
   "outputs": [
    {
     "data": {
      "text/html": [
       "<div>\n",
       "<style scoped>\n",
       "    .dataframe tbody tr th:only-of-type {\n",
       "        vertical-align: middle;\n",
       "    }\n",
       "\n",
       "    .dataframe tbody tr th {\n",
       "        vertical-align: top;\n",
       "    }\n",
       "\n",
       "    .dataframe thead th {\n",
       "        text-align: right;\n",
       "    }\n",
       "</style>\n",
       "<table border=\"1\" class=\"dataframe\">\n",
       "  <thead>\n",
       "    <tr style=\"text-align: right;\">\n",
       "      <th></th>\n",
       "      <th>funding_total_usd</th>\n",
       "      <th>funding_rounds</th>\n",
       "    </tr>\n",
       "  </thead>\n",
       "  <tbody>\n",
       "    <tr>\n",
       "      <th>count</th>\n",
       "      <td>4.244700e+04</td>\n",
       "      <td>52516.000000</td>\n",
       "    </tr>\n",
       "    <tr>\n",
       "      <th>mean</th>\n",
       "      <td>1.824748e+07</td>\n",
       "      <td>1.740670</td>\n",
       "    </tr>\n",
       "    <tr>\n",
       "      <th>std</th>\n",
       "      <td>1.871173e+08</td>\n",
       "      <td>1.374522</td>\n",
       "    </tr>\n",
       "    <tr>\n",
       "      <th>min</th>\n",
       "      <td>1.000000e+00</td>\n",
       "      <td>1.000000</td>\n",
       "    </tr>\n",
       "    <tr>\n",
       "      <th>25%</th>\n",
       "      <td>3.360275e+05</td>\n",
       "      <td>1.000000</td>\n",
       "    </tr>\n",
       "    <tr>\n",
       "      <th>50%</th>\n",
       "      <td>2.000000e+06</td>\n",
       "      <td>1.000000</td>\n",
       "    </tr>\n",
       "    <tr>\n",
       "      <th>75%</th>\n",
       "      <td>1.000000e+07</td>\n",
       "      <td>2.000000</td>\n",
       "    </tr>\n",
       "    <tr>\n",
       "      <th>max</th>\n",
       "      <td>3.007950e+10</td>\n",
       "      <td>19.000000</td>\n",
       "    </tr>\n",
       "  </tbody>\n",
       "</table>\n",
       "</div>"
      ],
      "text/plain": [
       "       funding_total_usd  funding_rounds\n",
       "count       4.244700e+04    52516.000000\n",
       "mean        1.824748e+07        1.740670\n",
       "std         1.871173e+08        1.374522\n",
       "min         1.000000e+00        1.000000\n",
       "25%         3.360275e+05        1.000000\n",
       "50%         2.000000e+06        1.000000\n",
       "75%         1.000000e+07        2.000000\n",
       "max         3.007950e+10       19.000000"
      ]
     },
     "execution_count": 9,
     "metadata": {},
     "output_type": "execute_result"
    }
   ],
   "source": [
    "df_train.describe()"
   ]
  },
  {
   "cell_type": "markdown",
   "metadata": {
    "id": "uynsybnw7D1Z"
   },
   "source": [
    "### Тестовые данные"
   ]
  },
  {
   "cell_type": "code",
   "execution_count": 10,
   "metadata": {
    "colab": {
     "base_uri": "https://localhost:8080/",
     "height": 215
    },
    "id": "ObsMwl06-CpZ",
    "outputId": "7d02c161-6c06-4a38-c8a8-5925269b23ca"
   },
   "outputs": [
    {
     "data": {
      "text/html": [
       "<div>\n",
       "<style scoped>\n",
       "    .dataframe tbody tr th:only-of-type {\n",
       "        vertical-align: middle;\n",
       "    }\n",
       "\n",
       "    .dataframe tbody tr th {\n",
       "        vertical-align: top;\n",
       "    }\n",
       "\n",
       "    .dataframe thead th {\n",
       "        text-align: right;\n",
       "    }\n",
       "</style>\n",
       "<table border=\"1\" class=\"dataframe\">\n",
       "  <thead>\n",
       "    <tr style=\"text-align: right;\">\n",
       "      <th></th>\n",
       "      <th>name</th>\n",
       "      <th>category_list</th>\n",
       "      <th>funding_total_usd</th>\n",
       "      <th>status</th>\n",
       "      <th>country_code</th>\n",
       "      <th>state_code</th>\n",
       "      <th>region</th>\n",
       "      <th>city</th>\n",
       "      <th>funding_rounds</th>\n",
       "      <th>founded_at</th>\n",
       "      <th>first_funding_at</th>\n",
       "      <th>last_funding_at</th>\n",
       "      <th>closed_at</th>\n",
       "    </tr>\n",
       "  </thead>\n",
       "  <tbody>\n",
       "    <tr>\n",
       "      <th>0</th>\n",
       "      <td>Lunchgate</td>\n",
       "      <td>Online Reservations|Restaurants</td>\n",
       "      <td>828626.0</td>\n",
       "      <td>operating</td>\n",
       "      <td>CHE</td>\n",
       "      <td>25</td>\n",
       "      <td>Zurich</td>\n",
       "      <td>Zürich</td>\n",
       "      <td>2</td>\n",
       "      <td>2009-10-17</td>\n",
       "      <td>2011-05-01</td>\n",
       "      <td>2014-12-01</td>\n",
       "      <td>NaT</td>\n",
       "    </tr>\n",
       "    <tr>\n",
       "      <th>1</th>\n",
       "      <td>EarLens</td>\n",
       "      <td>Manufacturing|Medical|Medical Devices</td>\n",
       "      <td>42935019.0</td>\n",
       "      <td>operating</td>\n",
       "      <td>USA</td>\n",
       "      <td>CA</td>\n",
       "      <td>SF Bay Area</td>\n",
       "      <td>Redwood City</td>\n",
       "      <td>4</td>\n",
       "      <td>2005-01-01</td>\n",
       "      <td>2010-05-04</td>\n",
       "      <td>2014-02-25</td>\n",
       "      <td>NaT</td>\n",
       "    </tr>\n",
       "    <tr>\n",
       "      <th>2</th>\n",
       "      <td>Reviva Pharmaceuticals</td>\n",
       "      <td>Biotechnology</td>\n",
       "      <td>35456381.0</td>\n",
       "      <td>operating</td>\n",
       "      <td>USA</td>\n",
       "      <td>CA</td>\n",
       "      <td>SF Bay Area</td>\n",
       "      <td>San Jose</td>\n",
       "      <td>3</td>\n",
       "      <td>2006-01-01</td>\n",
       "      <td>2012-08-20</td>\n",
       "      <td>2014-07-02</td>\n",
       "      <td>NaT</td>\n",
       "    </tr>\n",
       "  </tbody>\n",
       "</table>\n",
       "</div>"
      ],
      "text/plain": [
       "                     name                          category_list  \\\n",
       "0               Lunchgate        Online Reservations|Restaurants   \n",
       "1                 EarLens  Manufacturing|Medical|Medical Devices   \n",
       "2  Reviva Pharmaceuticals                          Biotechnology   \n",
       "\n",
       "   funding_total_usd     status country_code state_code       region  \\\n",
       "0           828626.0  operating          CHE         25       Zurich   \n",
       "1         42935019.0  operating          USA         CA  SF Bay Area   \n",
       "2         35456381.0  operating          USA         CA  SF Bay Area   \n",
       "\n",
       "           city  funding_rounds founded_at first_funding_at last_funding_at  \\\n",
       "0        Zürich               2 2009-10-17       2011-05-01      2014-12-01   \n",
       "1  Redwood City               4 2005-01-01       2010-05-04      2014-02-25   \n",
       "2      San Jose               3 2006-01-01       2012-08-20      2014-07-02   \n",
       "\n",
       "  closed_at  \n",
       "0       NaT  \n",
       "1       NaT  \n",
       "2       NaT  "
      ]
     },
     "execution_count": 10,
     "metadata": {},
     "output_type": "execute_result"
    }
   ],
   "source": [
    "df_test = pd.read_csv(\"kaggle_startups_test_28062024.csv\")\n",
    "df_train.head(3)"
   ]
  },
  {
   "cell_type": "code",
   "execution_count": 11,
   "metadata": {
    "colab": {
     "base_uri": "https://localhost:8080/"
    },
    "id": "o4eLg2rA-CzE",
    "outputId": "f65bc958-d26c-4324-e724-8c723c8516da"
   },
   "outputs": [
    {
     "name": "stdout",
     "output_type": "stream",
     "text": [
      "<class 'pandas.core.frame.DataFrame'>\n",
      "RangeIndex: 13125 entries, 0 to 13124\n",
      "Data columns (total 11 columns):\n",
      " #   Column             Non-Null Count  Dtype  \n",
      "---  ------             --------------  -----  \n",
      " 0   name               13125 non-null  object \n",
      " 1   category_list      12534 non-null  object \n",
      " 2   funding_total_usd  10547 non-null  float64\n",
      " 3   country_code       11743 non-null  object \n",
      " 4   state_code         11430 non-null  object \n",
      " 5   region             11536 non-null  object \n",
      " 6   city               11538 non-null  object \n",
      " 7   funding_rounds     13125 non-null  int64  \n",
      " 8   first_funding_at   13125 non-null  object \n",
      " 9   last_funding_at    13125 non-null  object \n",
      " 10  lifetime           13125 non-null  int64  \n",
      "dtypes: float64(1), int64(2), object(8)\n",
      "memory usage: 1.1+ MB\n"
     ]
    }
   ],
   "source": [
    "df_test.info()"
   ]
  },
  {
   "cell_type": "code",
   "execution_count": 12,
   "metadata": {
    "id": "3kxRYXSc-C7-"
   },
   "outputs": [],
   "source": [
    "df_test['first_funding_at'] = pd.to_datetime(df_train['first_funding_at'])\n",
    "df_test['last_funding_at'] = pd.to_datetime(df_train['last_funding_at'])"
   ]
  },
  {
   "cell_type": "code",
   "execution_count": 13,
   "metadata": {
    "colab": {
     "base_uri": "https://localhost:8080/",
     "height": 300
    },
    "id": "ML16PgLM-DEd",
    "outputId": "4421a1f9-b8dc-4c36-b018-38a92481fc67"
   },
   "outputs": [
    {
     "data": {
      "text/html": [
       "<div>\n",
       "<style scoped>\n",
       "    .dataframe tbody tr th:only-of-type {\n",
       "        vertical-align: middle;\n",
       "    }\n",
       "\n",
       "    .dataframe tbody tr th {\n",
       "        vertical-align: top;\n",
       "    }\n",
       "\n",
       "    .dataframe thead th {\n",
       "        text-align: right;\n",
       "    }\n",
       "</style>\n",
       "<table border=\"1\" class=\"dataframe\">\n",
       "  <thead>\n",
       "    <tr style=\"text-align: right;\">\n",
       "      <th></th>\n",
       "      <th>funding_total_usd</th>\n",
       "      <th>funding_rounds</th>\n",
       "      <th>lifetime</th>\n",
       "    </tr>\n",
       "  </thead>\n",
       "  <tbody>\n",
       "    <tr>\n",
       "      <th>count</th>\n",
       "      <td>1.054700e+04</td>\n",
       "      <td>13125.000000</td>\n",
       "      <td>13125.000000</td>\n",
       "    </tr>\n",
       "    <tr>\n",
       "      <th>mean</th>\n",
       "      <td>1.654910e+07</td>\n",
       "      <td>1.714438</td>\n",
       "      <td>3097.609524</td>\n",
       "    </tr>\n",
       "    <tr>\n",
       "      <th>std</th>\n",
       "      <td>9.217283e+07</td>\n",
       "      <td>1.318800</td>\n",
       "      <td>2128.356554</td>\n",
       "    </tr>\n",
       "    <tr>\n",
       "      <th>min</th>\n",
       "      <td>1.000000e+00</td>\n",
       "      <td>1.000000</td>\n",
       "      <td>52.000000</td>\n",
       "    </tr>\n",
       "    <tr>\n",
       "      <th>25%</th>\n",
       "      <td>3.200000e+05</td>\n",
       "      <td>1.000000</td>\n",
       "      <td>1726.000000</td>\n",
       "    </tr>\n",
       "    <tr>\n",
       "      <th>50%</th>\n",
       "      <td>2.000000e+06</td>\n",
       "      <td>1.000000</td>\n",
       "      <td>2526.000000</td>\n",
       "    </tr>\n",
       "    <tr>\n",
       "      <th>75%</th>\n",
       "      <td>1.000000e+07</td>\n",
       "      <td>2.000000</td>\n",
       "      <td>3866.000000</td>\n",
       "    </tr>\n",
       "    <tr>\n",
       "      <th>max</th>\n",
       "      <td>4.715000e+09</td>\n",
       "      <td>15.000000</td>\n",
       "      <td>17167.000000</td>\n",
       "    </tr>\n",
       "  </tbody>\n",
       "</table>\n",
       "</div>"
      ],
      "text/plain": [
       "       funding_total_usd  funding_rounds      lifetime\n",
       "count       1.054700e+04    13125.000000  13125.000000\n",
       "mean        1.654910e+07        1.714438   3097.609524\n",
       "std         9.217283e+07        1.318800   2128.356554\n",
       "min         1.000000e+00        1.000000     52.000000\n",
       "25%         3.200000e+05        1.000000   1726.000000\n",
       "50%         2.000000e+06        1.000000   2526.000000\n",
       "75%         1.000000e+07        2.000000   3866.000000\n",
       "max         4.715000e+09       15.000000  17167.000000"
      ]
     },
     "execution_count": 13,
     "metadata": {},
     "output_type": "execute_result"
    }
   ],
   "source": [
    "df_test.describe()"
   ]
  },
  {
   "cell_type": "code",
   "execution_count": 14,
   "metadata": {
    "colab": {
     "base_uri": "https://localhost:8080/",
     "height": 143
    },
    "id": "rBjUyX6GLtq8",
    "outputId": "81adbd63-ba81-427e-f334-82770f65fa62"
   },
   "outputs": [
    {
     "data": {
      "text/html": [
       "<div>\n",
       "<style scoped>\n",
       "    .dataframe tbody tr th:only-of-type {\n",
       "        vertical-align: middle;\n",
       "    }\n",
       "\n",
       "    .dataframe tbody tr th {\n",
       "        vertical-align: top;\n",
       "    }\n",
       "\n",
       "    .dataframe thead th {\n",
       "        text-align: right;\n",
       "    }\n",
       "</style>\n",
       "<table border=\"1\" class=\"dataframe\">\n",
       "  <thead>\n",
       "    <tr style=\"text-align: right;\">\n",
       "      <th></th>\n",
       "      <th>name</th>\n",
       "      <th>status</th>\n",
       "    </tr>\n",
       "  </thead>\n",
       "  <tbody>\n",
       "    <tr>\n",
       "      <th>0</th>\n",
       "      <td>Crystalsol</td>\n",
       "      <td>closed</td>\n",
       "    </tr>\n",
       "    <tr>\n",
       "      <th>1</th>\n",
       "      <td>JBI Fish &amp; Wings</td>\n",
       "      <td>operating</td>\n",
       "    </tr>\n",
       "    <tr>\n",
       "      <th>2</th>\n",
       "      <td>COINPLUS</td>\n",
       "      <td>closed</td>\n",
       "    </tr>\n",
       "  </tbody>\n",
       "</table>\n",
       "</div>"
      ],
      "text/plain": [
       "               name     status\n",
       "0        Crystalsol     closed\n",
       "1  JBI Fish & Wings  operating\n",
       "2          COINPLUS     closed"
      ]
     },
     "execution_count": 14,
     "metadata": {},
     "output_type": "execute_result"
    }
   ],
   "source": [
    "status = pd.read_csv(\"kaggle_startups_sample_submit_28062024.csv\")\n",
    "status.head(3)"
   ]
  },
  {
   "cell_type": "code",
   "execution_count": 15,
   "metadata": {
    "colab": {
     "base_uri": "https://localhost:8080/"
    },
    "id": "51LYrZprL8mL",
    "outputId": "17214ac6-68b3-4d36-8753-b72b4e199ff5"
   },
   "outputs": [
    {
     "name": "stdout",
     "output_type": "stream",
     "text": [
      "<class 'pandas.core.frame.DataFrame'>\n",
      "RangeIndex: 13125 entries, 0 to 13124\n",
      "Data columns (total 2 columns):\n",
      " #   Column  Non-Null Count  Dtype \n",
      "---  ------  --------------  ----- \n",
      " 0   name    13125 non-null  object\n",
      " 1   status  13125 non-null  object\n",
      "dtypes: object(2)\n",
      "memory usage: 205.2+ KB\n"
     ]
    }
   ],
   "source": [
    "status.info()"
   ]
  },
  {
   "cell_type": "markdown",
   "metadata": {
    "id": "RPjyB-GTOIrF"
   },
   "source": [
    "## ЭТАП 2. Предварительная обработка\n"
   ]
  },
  {
   "cell_type": "markdown",
   "metadata": {
    "id": "A-xzVhVD_Gla"
   },
   "source": [
    "### Проверка на наличие дубликатов в данных"
   ]
  },
  {
   "cell_type": "code",
   "execution_count": 16,
   "metadata": {
    "colab": {
     "base_uri": "https://localhost:8080/"
    },
    "id": "WOdgkT7vOPYG",
    "outputId": "82d71ec3-de5e-4eda-903c-7c7f5f32397d"
   },
   "outputs": [
    {
     "data": {
      "text/plain": [
       "0"
      ]
     },
     "execution_count": 16,
     "metadata": {},
     "output_type": "execute_result"
    }
   ],
   "source": [
    "status.duplicated().sum()"
   ]
  },
  {
   "cell_type": "code",
   "execution_count": 17,
   "metadata": {
    "colab": {
     "base_uri": "https://localhost:8080/"
    },
    "id": "GeGdRH4WReYJ",
    "outputId": "68886044-a4be-4d5c-d6b3-bb0205e122d2"
   },
   "outputs": [
    {
     "data": {
      "text/plain": [
       "0"
      ]
     },
     "execution_count": 17,
     "metadata": {},
     "output_type": "execute_result"
    }
   ],
   "source": [
    "df_train.duplicated().sum()"
   ]
  },
  {
   "cell_type": "code",
   "execution_count": 18,
   "metadata": {
    "colab": {
     "base_uri": "https://localhost:8080/"
    },
    "id": "BVl9KaToRkXF",
    "outputId": "d7a7fc46-354e-4535-f1c4-e2686f8c20fa"
   },
   "outputs": [
    {
     "data": {
      "text/plain": [
       "0"
      ]
     },
     "execution_count": 18,
     "metadata": {},
     "output_type": "execute_result"
    }
   ],
   "source": [
    "df_test.duplicated().sum()"
   ]
  },
  {
   "cell_type": "markdown",
   "metadata": {
    "id": "mOjxccOt_myq"
   },
   "source": [
    "В данных отсутствуют явные дубликаты."
   ]
  },
  {
   "cell_type": "markdown",
   "metadata": {
    "id": "drMB1bAg_hru"
   },
   "source": [
    "### Добавление признака lifetime в тренировочные данные"
   ]
  },
  {
   "cell_type": "markdown",
   "metadata": {
    "id": "MAj1A-TAAH1v"
   },
   "source": [
    "Мы видим, что в тренировочных данных есть дата основания стартапа, а также дата закрытия, а в тестовых данных есть только срок жизни компании.\\\n",
    "Целесообразно добавить в тренировочные данные столбец со сроком жизни компании и потом удалить дату сонования/закрытия."
   ]
  },
  {
   "cell_type": "code",
   "execution_count": 19,
   "metadata": {
    "id": "9jF9tOBX_-CQ"
   },
   "outputs": [],
   "source": [
    "# Заполним пропущенные данные в столбце с закрытием компании последним днем выгрузки (01.01.2018)\n",
    "df_train['closed_at'] = df_train['closed_at'].fillna(pd.to_datetime('2018-01-01'))\n",
    "# Добавим столбец со сроком существования компании в днях period of operation\n",
    "df_train['lifetime'] = (df_train['closed_at'] - df_train['founded_at']).dt.days\n",
    "# Удалим из тренировочных данных лишние столбцы\n",
    "df_train = df_train.drop(['closed_at', 'founded_at'], axis=1)"
   ]
  },
  {
   "cell_type": "code",
   "execution_count": 20,
   "metadata": {
    "colab": {
     "base_uri": "https://localhost:8080/",
     "height": 215
    },
    "id": "XojR71GI_-it",
    "outputId": "52799bfc-7dbb-4dca-8a99-d4c9d5cfb5bb"
   },
   "outputs": [
    {
     "data": {
      "text/html": [
       "<div>\n",
       "<style scoped>\n",
       "    .dataframe tbody tr th:only-of-type {\n",
       "        vertical-align: middle;\n",
       "    }\n",
       "\n",
       "    .dataframe tbody tr th {\n",
       "        vertical-align: top;\n",
       "    }\n",
       "\n",
       "    .dataframe thead th {\n",
       "        text-align: right;\n",
       "    }\n",
       "</style>\n",
       "<table border=\"1\" class=\"dataframe\">\n",
       "  <thead>\n",
       "    <tr style=\"text-align: right;\">\n",
       "      <th></th>\n",
       "      <th>name</th>\n",
       "      <th>category_list</th>\n",
       "      <th>funding_total_usd</th>\n",
       "      <th>status</th>\n",
       "      <th>country_code</th>\n",
       "      <th>state_code</th>\n",
       "      <th>region</th>\n",
       "      <th>city</th>\n",
       "      <th>funding_rounds</th>\n",
       "      <th>first_funding_at</th>\n",
       "      <th>last_funding_at</th>\n",
       "      <th>lifetime</th>\n",
       "    </tr>\n",
       "  </thead>\n",
       "  <tbody>\n",
       "    <tr>\n",
       "      <th>0</th>\n",
       "      <td>Lunchgate</td>\n",
       "      <td>Online Reservations|Restaurants</td>\n",
       "      <td>828626.0</td>\n",
       "      <td>operating</td>\n",
       "      <td>CHE</td>\n",
       "      <td>25</td>\n",
       "      <td>Zurich</td>\n",
       "      <td>Zürich</td>\n",
       "      <td>2</td>\n",
       "      <td>2011-05-01</td>\n",
       "      <td>2014-12-01</td>\n",
       "      <td>2998</td>\n",
       "    </tr>\n",
       "    <tr>\n",
       "      <th>1</th>\n",
       "      <td>EarLens</td>\n",
       "      <td>Manufacturing|Medical|Medical Devices</td>\n",
       "      <td>42935019.0</td>\n",
       "      <td>operating</td>\n",
       "      <td>USA</td>\n",
       "      <td>CA</td>\n",
       "      <td>SF Bay Area</td>\n",
       "      <td>Redwood City</td>\n",
       "      <td>4</td>\n",
       "      <td>2010-05-04</td>\n",
       "      <td>2014-02-25</td>\n",
       "      <td>4748</td>\n",
       "    </tr>\n",
       "    <tr>\n",
       "      <th>2</th>\n",
       "      <td>Reviva Pharmaceuticals</td>\n",
       "      <td>Biotechnology</td>\n",
       "      <td>35456381.0</td>\n",
       "      <td>operating</td>\n",
       "      <td>USA</td>\n",
       "      <td>CA</td>\n",
       "      <td>SF Bay Area</td>\n",
       "      <td>San Jose</td>\n",
       "      <td>3</td>\n",
       "      <td>2012-08-20</td>\n",
       "      <td>2014-07-02</td>\n",
       "      <td>4383</td>\n",
       "    </tr>\n",
       "  </tbody>\n",
       "</table>\n",
       "</div>"
      ],
      "text/plain": [
       "                     name                          category_list  \\\n",
       "0               Lunchgate        Online Reservations|Restaurants   \n",
       "1                 EarLens  Manufacturing|Medical|Medical Devices   \n",
       "2  Reviva Pharmaceuticals                          Biotechnology   \n",
       "\n",
       "   funding_total_usd     status country_code state_code       region  \\\n",
       "0           828626.0  operating          CHE         25       Zurich   \n",
       "1         42935019.0  operating          USA         CA  SF Bay Area   \n",
       "2         35456381.0  operating          USA         CA  SF Bay Area   \n",
       "\n",
       "           city  funding_rounds first_funding_at last_funding_at  lifetime  \n",
       "0        Zürich               2       2011-05-01      2014-12-01      2998  \n",
       "1  Redwood City               4       2010-05-04      2014-02-25      4748  \n",
       "2      San Jose               3       2012-08-20      2014-07-02      4383  "
      ]
     },
     "execution_count": 20,
     "metadata": {},
     "output_type": "execute_result"
    }
   ],
   "source": [
    "df_train.head(3)"
   ]
  },
  {
   "cell_type": "markdown",
   "metadata": {
    "id": "mRNwx8oFF58t"
   },
   "source": [
    "### Обработка пропусков"
   ]
  },
  {
   "cell_type": "code",
   "execution_count": 21,
   "metadata": {
    "colab": {
     "base_uri": "https://localhost:8080/",
     "height": 460
    },
    "id": "qrU8jtwOQSyy",
    "outputId": "87472811-aac2-4268-a299-82433cd0090b"
   },
   "outputs": [
    {
     "data": {
      "text/plain": [
       "name                     1\n",
       "category_list         2465\n",
       "funding_total_usd    10069\n",
       "status                   0\n",
       "country_code          5502\n",
       "state_code            6763\n",
       "region                6359\n",
       "city                  6359\n",
       "funding_rounds           0\n",
       "first_funding_at         0\n",
       "last_funding_at          0\n",
       "lifetime                 0\n",
       "dtype: int64"
      ]
     },
     "execution_count": 21,
     "metadata": {},
     "output_type": "execute_result"
    }
   ],
   "source": [
    "# Выведем количество пропусков\n",
    "df_train.isnull().sum()"
   ]
  },
  {
   "cell_type": "code",
   "execution_count": 22,
   "metadata": {
    "id": "3vAC_wyQGHMd"
   },
   "outputs": [],
   "source": [
    "# Проставим нули в отсутствующих данных о сумме финансирования\n",
    "df_train['funding_total_usd'] = df_train['funding_total_usd'].fillna(df_train['funding_total_usd'].median())"
   ]
  },
  {
   "cell_type": "code",
   "execution_count": 23,
   "metadata": {
    "id": "MYRSfdhOGHV_"
   },
   "outputs": [],
   "source": [
    "# В пропущенных категориальных данных заменим пропуски на other (для name - Unknown)\n",
    "df_train['name'] = df_train['name'].fillna('Unknown')\n",
    "df_train['category_list'] = df_train['category_list'].fillna('other')\n",
    "df_train['country_code'] = df_train['country_code'].fillna('other')\n",
    "df_train['state_code'] = df_train['state_code'].fillna('other')\n",
    "df_train['region'] = df_train['region'].fillna('other')\n",
    "df_train['city'] = df_train['city'].fillna('other')"
   ]
  },
  {
   "cell_type": "code",
   "execution_count": 24,
   "metadata": {
    "colab": {
     "base_uri": "https://localhost:8080/",
     "height": 429
    },
    "id": "fnaxogEYGHe7",
    "outputId": "2391f246-74dc-41b8-bc35-78ebccffbda9"
   },
   "outputs": [
    {
     "data": {
      "text/plain": [
       "name                    0\n",
       "category_list         591\n",
       "funding_total_usd    2578\n",
       "country_code         1382\n",
       "state_code           1695\n",
       "region               1589\n",
       "city                 1587\n",
       "funding_rounds          0\n",
       "first_funding_at        0\n",
       "last_funding_at         0\n",
       "lifetime                0\n",
       "dtype: int64"
      ]
     },
     "execution_count": 24,
     "metadata": {},
     "output_type": "execute_result"
    }
   ],
   "source": [
    "# Выведем количество пропусков\n",
    "df_test.isnull().sum()"
   ]
  },
  {
   "cell_type": "code",
   "execution_count": 25,
   "metadata": {
    "id": "h2rYJR25M8uE"
   },
   "outputs": [],
   "source": [
    "# Проставим нули в отсутствующих данных о сумме финансирования\n",
    "df_test['funding_total_usd'] = df_test['funding_total_usd'].fillna(df_test['funding_total_usd'].median())"
   ]
  },
  {
   "cell_type": "code",
   "execution_count": 26,
   "metadata": {
    "id": "6PZXWKILM85i"
   },
   "outputs": [],
   "source": [
    "# В пропущенных категориальных данных заменим пропуски на other (для name - Unknown)\n",
    "df_test['category_list'] = df_test['category_list'].fillna('other')\n",
    "df_test['country_code'] = df_test['country_code'].fillna('other')\n",
    "df_test['state_code'] = df_test['state_code'].fillna('other')\n",
    "df_test['region'] = df_test['region'].fillna('other')\n",
    "df_test['city'] = df_test['city'].fillna('other')"
   ]
  },
  {
   "cell_type": "markdown",
   "metadata": {},
   "source": [
    "### Укрупнение данных по регионам"
   ]
  },
  {
   "cell_type": "code",
   "execution_count": 27,
   "metadata": {},
   "outputs": [
    {
     "data": {
      "text/plain": [
       "array(['CHE', 'USA', 'other', 'GBR', 'RUS', 'ESP', 'FRA', 'SWE', 'IND',\n",
       "       'KOR', 'AUS', 'TWN', 'CHN', 'HUN', 'CAN', 'FIN', 'BRA', 'EGY',\n",
       "       'PRT', 'ISR', 'CHL', 'SVK', 'NLD', 'ARG', 'ARE', 'JPN', 'IRL',\n",
       "       'DEU', 'LBN', 'EST', 'IDN', 'BEL', 'MEX', 'DNK', 'ITA', 'GRC',\n",
       "       'ROM', 'TUR', 'SGP', 'SAU', 'MYS', 'NGA', 'QAT', 'VNM', 'BGR',\n",
       "       'GHA', 'UGA', 'JOR', 'AUT', 'PAK', 'NZL', 'HKG', 'ZAF', 'LVA',\n",
       "       'NOR', 'HRV', 'VEN', 'PER', 'LUX', 'SVN', 'POL', 'PHL', 'NIC',\n",
       "       'CZE', 'ISL', 'PAN', 'URY', 'BGD', 'MCO', 'GTM', 'THA', 'TTO',\n",
       "       'UKR', 'KEN', 'CRI', 'DZA', 'LTU', 'CYM', 'MUS', 'BLR', 'SLV',\n",
       "       'COL', 'MLT', 'PSE', 'BLZ', 'CYP', 'MMR', 'MKD', 'KHM', 'GIB',\n",
       "       'SRB', 'DOM', 'BWA', 'BLM', 'PRY', 'BMU', 'TAN', 'LIE', 'GRD',\n",
       "       'UZB', 'GEO', 'SEN', 'ALB', 'ECU', 'MOZ', 'LKA', 'LAO', 'TUN',\n",
       "       'HND', 'ZWE', 'BAH', 'MDA', 'MAF', 'BHR', 'AZE', 'MAR', 'KWT',\n",
       "       'IRN', 'GGY', 'KNA', 'PRI', 'OMN', 'KAZ', 'JAM', 'NPL', 'ARM',\n",
       "       'TGO', 'RWA', 'BRN', 'JEY', 'SOM', 'CMR', 'MNE', 'SYC', 'ZMB'],\n",
       "      dtype=object)"
      ]
     },
     "execution_count": 27,
     "metadata": {},
     "output_type": "execute_result"
    }
   ],
   "source": [
    "df_train['country_code'].unique()"
   ]
  },
  {
   "cell_type": "code",
   "execution_count": 28,
   "metadata": {},
   "outputs": [
    {
     "data": {
      "text/html": [
       "<div>\n",
       "<style scoped>\n",
       "    .dataframe tbody tr th:only-of-type {\n",
       "        vertical-align: middle;\n",
       "    }\n",
       "\n",
       "    .dataframe tbody tr th {\n",
       "        vertical-align: top;\n",
       "    }\n",
       "\n",
       "    .dataframe thead th {\n",
       "        text-align: right;\n",
       "    }\n",
       "</style>\n",
       "<table border=\"1\" class=\"dataframe\">\n",
       "  <thead>\n",
       "    <tr style=\"text-align: right;\">\n",
       "      <th></th>\n",
       "      <th>name</th>\n",
       "      <th>category_list</th>\n",
       "      <th>funding_total_usd</th>\n",
       "      <th>status</th>\n",
       "      <th>country_code</th>\n",
       "      <th>state_code</th>\n",
       "      <th>region</th>\n",
       "      <th>city</th>\n",
       "      <th>funding_rounds</th>\n",
       "      <th>first_funding_at</th>\n",
       "      <th>last_funding_at</th>\n",
       "      <th>lifetime</th>\n",
       "    </tr>\n",
       "  </thead>\n",
       "  <tbody>\n",
       "    <tr>\n",
       "      <th>0</th>\n",
       "      <td>Lunchgate</td>\n",
       "      <td>Online Reservations|Restaurants</td>\n",
       "      <td>828626.0</td>\n",
       "      <td>operating</td>\n",
       "      <td>CHE</td>\n",
       "      <td>25</td>\n",
       "      <td>Central Europe</td>\n",
       "      <td>Zürich</td>\n",
       "      <td>2</td>\n",
       "      <td>2011-05-01</td>\n",
       "      <td>2014-12-01</td>\n",
       "      <td>2998</td>\n",
       "    </tr>\n",
       "    <tr>\n",
       "      <th>1</th>\n",
       "      <td>EarLens</td>\n",
       "      <td>Manufacturing|Medical|Medical Devices</td>\n",
       "      <td>42935019.0</td>\n",
       "      <td>operating</td>\n",
       "      <td>USA</td>\n",
       "      <td>CA</td>\n",
       "      <td>North America</td>\n",
       "      <td>Redwood City</td>\n",
       "      <td>4</td>\n",
       "      <td>2010-05-04</td>\n",
       "      <td>2014-02-25</td>\n",
       "      <td>4748</td>\n",
       "    </tr>\n",
       "    <tr>\n",
       "      <th>2</th>\n",
       "      <td>Reviva Pharmaceuticals</td>\n",
       "      <td>Biotechnology</td>\n",
       "      <td>35456381.0</td>\n",
       "      <td>operating</td>\n",
       "      <td>USA</td>\n",
       "      <td>CA</td>\n",
       "      <td>North America</td>\n",
       "      <td>San Jose</td>\n",
       "      <td>3</td>\n",
       "      <td>2012-08-20</td>\n",
       "      <td>2014-07-02</td>\n",
       "      <td>4383</td>\n",
       "    </tr>\n",
       "  </tbody>\n",
       "</table>\n",
       "</div>"
      ],
      "text/plain": [
       "                     name                          category_list  \\\n",
       "0               Lunchgate        Online Reservations|Restaurants   \n",
       "1                 EarLens  Manufacturing|Medical|Medical Devices   \n",
       "2  Reviva Pharmaceuticals                          Biotechnology   \n",
       "\n",
       "   funding_total_usd     status country_code state_code          region  \\\n",
       "0           828626.0  operating          CHE         25  Central Europe   \n",
       "1         42935019.0  operating          USA         CA   North America   \n",
       "2         35456381.0  operating          USA         CA   North America   \n",
       "\n",
       "           city  funding_rounds first_funding_at last_funding_at  lifetime  \n",
       "0        Zürich               2       2011-05-01      2014-12-01      2998  \n",
       "1  Redwood City               4       2010-05-04      2014-02-25      4748  \n",
       "2      San Jose               3       2012-08-20      2014-07-02      4383  "
      ]
     },
     "execution_count": 28,
     "metadata": {},
     "output_type": "execute_result"
    }
   ],
   "source": [
    "# Создадим функцию, которая будет указывать регион страны по ISO 3166-1 alpha-3\n",
    "def country_region(country):\n",
    "    regions = {\n",
    "        'Central Africa' : ['RWA'],\n",
    "        'Central America' : ['BLZ', 'CRI', 'GTM', 'HND', 'MEX', 'NIC', 'PAN', 'SLV'],\n",
    "        'Central Asia' : ['KAZ', 'UZB'],\n",
    "        'Central Europe' : ['AUT', 'CHE', 'CZE', 'HUN', 'LIE', 'SVK'],\n",
    "        'East Asia' : ['CHN', 'HKG', 'JPN', 'KOR', 'TWN'],\n",
    "        'Eastern Africa' : ['KEN', 'SOM', 'TAN', 'UGA'],\n",
    "        'Eastern Europe' : ['BLR', 'EST', 'LTU', 'LVA', 'MDA', 'POL', 'UKR'],\n",
    "        'Indian Ocean' : ['MUS', 'SYC'],\n",
    "        'no_region' : ['other'],\n",
    "        'North America' : ['CAN', 'USA'],\n",
    "        'Northern Africa' : ['DZA', 'EGY', 'MAR', 'TUN'],\n",
    "        'Northern Asia' : ['RUS'],\n",
    "        'Northern Europe' : ['DNK', 'FIN', 'ISL', 'NOR', 'SWE'],\n",
    "        'Pacific' : ['AUS', 'NZL'],\n",
    "        'South America' : ['ARG', 'BRA', 'CHL', 'COL', 'ECU', 'PER', 'PRY', 'URY', 'VEN'],\n",
    "        'South Asia' : ['BGD', 'IND', 'LKA', 'NPL', 'PAK'],\n",
    "        'South East Asia' : ['BRN', 'IDN', 'KHM', 'LAO', 'MMR', 'MYS', 'PHL', 'SGP', 'THA', 'VNM'],\n",
    "        'South East Europe' : ['ALB', 'BGR', 'GRC', 'HRV', 'MKD', 'MNE', 'ROM', 'SRB', 'SVN'],\n",
    "        'South West Asia' : ['ARE', 'ARM', 'AZE', 'BHR', 'CYP', 'GEO', 'IRN', 'ISR', 'JOR', 'KWT', 'LBN', 'OMN', 'PSE', 'QAT', 'SAU', 'TUR'],\n",
    "        'South West Europe' : ['ESP', 'GIB', 'PRT'],\n",
    "        'Southern Africa' : ['BWA', 'MOZ', 'ZAF', 'ZMB', 'ZWE'],\n",
    "        'Southern Europe' : ['ITA', 'MLT'],\n",
    "        'West Indies' : ['BAH', 'BLM', 'BMU', 'CYM', 'DOM', 'GRD', 'JAM', 'KNA', 'MAF', 'PRI', 'TTO', 'BRB', 'DMA'],\n",
    "        'Western Africa' : ['CMR', 'GHA', 'NGA', 'SEN', 'TGO', 'CIV'],\n",
    "        'Western Europe' : ['BEL', 'DEU', 'FRA', 'GBR', 'GGY', 'IRL', 'JEY', 'LUX', 'MCO', 'NLD']\n",
    "    }\n",
    "    for k in regions.keys():\n",
    "        if country in regions[k]:\n",
    "            return k\n",
    "\n",
    "df_train.loc[:, 'region'] = df_train.loc[:, 'country_code'].apply(country_region)\n",
    "df_test.loc[:, 'region'] = df_test.loc[:, 'country_code'].apply(country_region)\n",
    "\n",
    "df_train.head(3)"
   ]
  },
  {
   "cell_type": "code",
   "execution_count": 29,
   "metadata": {},
   "outputs": [
    {
     "data": {
      "text/html": [
       "<div>\n",
       "<style scoped>\n",
       "    .dataframe tbody tr th:only-of-type {\n",
       "        vertical-align: middle;\n",
       "    }\n",
       "\n",
       "    .dataframe tbody tr th {\n",
       "        vertical-align: top;\n",
       "    }\n",
       "\n",
       "    .dataframe thead th {\n",
       "        text-align: right;\n",
       "    }\n",
       "</style>\n",
       "<table border=\"1\" class=\"dataframe\">\n",
       "  <thead>\n",
       "    <tr style=\"text-align: right;\">\n",
       "      <th></th>\n",
       "      <th>name</th>\n",
       "      <th>category_list</th>\n",
       "      <th>funding_total_usd</th>\n",
       "      <th>status</th>\n",
       "      <th>region</th>\n",
       "      <th>funding_rounds</th>\n",
       "      <th>first_funding_at</th>\n",
       "      <th>last_funding_at</th>\n",
       "      <th>lifetime</th>\n",
       "    </tr>\n",
       "  </thead>\n",
       "  <tbody>\n",
       "    <tr>\n",
       "      <th>0</th>\n",
       "      <td>Lunchgate</td>\n",
       "      <td>Online Reservations|Restaurants</td>\n",
       "      <td>828626.0</td>\n",
       "      <td>operating</td>\n",
       "      <td>Central Europe</td>\n",
       "      <td>2</td>\n",
       "      <td>2011-05-01</td>\n",
       "      <td>2014-12-01</td>\n",
       "      <td>2998</td>\n",
       "    </tr>\n",
       "    <tr>\n",
       "      <th>1</th>\n",
       "      <td>EarLens</td>\n",
       "      <td>Manufacturing|Medical|Medical Devices</td>\n",
       "      <td>42935019.0</td>\n",
       "      <td>operating</td>\n",
       "      <td>North America</td>\n",
       "      <td>4</td>\n",
       "      <td>2010-05-04</td>\n",
       "      <td>2014-02-25</td>\n",
       "      <td>4748</td>\n",
       "    </tr>\n",
       "    <tr>\n",
       "      <th>2</th>\n",
       "      <td>Reviva Pharmaceuticals</td>\n",
       "      <td>Biotechnology</td>\n",
       "      <td>35456381.0</td>\n",
       "      <td>operating</td>\n",
       "      <td>North America</td>\n",
       "      <td>3</td>\n",
       "      <td>2012-08-20</td>\n",
       "      <td>2014-07-02</td>\n",
       "      <td>4383</td>\n",
       "    </tr>\n",
       "  </tbody>\n",
       "</table>\n",
       "</div>"
      ],
      "text/plain": [
       "                     name                          category_list  \\\n",
       "0               Lunchgate        Online Reservations|Restaurants   \n",
       "1                 EarLens  Manufacturing|Medical|Medical Devices   \n",
       "2  Reviva Pharmaceuticals                          Biotechnology   \n",
       "\n",
       "   funding_total_usd     status          region  funding_rounds  \\\n",
       "0           828626.0  operating  Central Europe               2   \n",
       "1         42935019.0  operating   North America               4   \n",
       "2         35456381.0  operating   North America               3   \n",
       "\n",
       "  first_funding_at last_funding_at  lifetime  \n",
       "0       2011-05-01      2014-12-01      2998  \n",
       "1       2010-05-04      2014-02-25      4748  \n",
       "2       2012-08-20      2014-07-02      4383  "
      ]
     },
     "execution_count": 29,
     "metadata": {},
     "output_type": "execute_result"
    }
   ],
   "source": [
    "# Удалим лишние столбцы с кодом страны, городом и кодом штата\n",
    "df_train = df_train.drop(['country_code', 'state_code', 'city'], axis=1)\n",
    "df_test = df_test.drop(['country_code', 'state_code', 'city'], axis=1)\n",
    "df_train.head(3)"
   ]
  },
  {
   "cell_type": "markdown",
   "metadata": {},
   "source": [
    "### Группировка категорий"
   ]
  },
  {
   "cell_type": "code",
   "execution_count": 30,
   "metadata": {},
   "outputs": [
    {
     "data": {
      "text/plain": [
       "22106"
      ]
     },
     "execution_count": 30,
     "metadata": {},
     "output_type": "execute_result"
    }
   ],
   "source": [
    "df_train['category_list'].nunique()"
   ]
  },
  {
   "cell_type": "code",
   "execution_count": 31,
   "metadata": {},
   "outputs": [
    {
     "data": {
      "text/html": [
       "<div>\n",
       "<style scoped>\n",
       "    .dataframe tbody tr th:only-of-type {\n",
       "        vertical-align: middle;\n",
       "    }\n",
       "\n",
       "    .dataframe tbody tr th {\n",
       "        vertical-align: top;\n",
       "    }\n",
       "\n",
       "    .dataframe thead th {\n",
       "        text-align: right;\n",
       "    }\n",
       "</style>\n",
       "<table border=\"1\" class=\"dataframe\">\n",
       "  <thead>\n",
       "    <tr style=\"text-align: right;\">\n",
       "      <th></th>\n",
       "      <th>name</th>\n",
       "      <th>category_list</th>\n",
       "      <th>funding_total_usd</th>\n",
       "      <th>status</th>\n",
       "      <th>region</th>\n",
       "      <th>funding_rounds</th>\n",
       "      <th>first_funding_at</th>\n",
       "      <th>last_funding_at</th>\n",
       "      <th>lifetime</th>\n",
       "      <th>main_category</th>\n",
       "    </tr>\n",
       "  </thead>\n",
       "  <tbody>\n",
       "    <tr>\n",
       "      <th>0</th>\n",
       "      <td>Lunchgate</td>\n",
       "      <td>Online Reservations|Restaurants</td>\n",
       "      <td>828626.0</td>\n",
       "      <td>operating</td>\n",
       "      <td>Central Europe</td>\n",
       "      <td>2</td>\n",
       "      <td>2011-05-01</td>\n",
       "      <td>2014-12-01</td>\n",
       "      <td>2998</td>\n",
       "      <td>Online Reservations</td>\n",
       "    </tr>\n",
       "    <tr>\n",
       "      <th>1</th>\n",
       "      <td>EarLens</td>\n",
       "      <td>Manufacturing|Medical|Medical Devices</td>\n",
       "      <td>42935019.0</td>\n",
       "      <td>operating</td>\n",
       "      <td>North America</td>\n",
       "      <td>4</td>\n",
       "      <td>2010-05-04</td>\n",
       "      <td>2014-02-25</td>\n",
       "      <td>4748</td>\n",
       "      <td>Manufacturing</td>\n",
       "    </tr>\n",
       "    <tr>\n",
       "      <th>2</th>\n",
       "      <td>Reviva Pharmaceuticals</td>\n",
       "      <td>Biotechnology</td>\n",
       "      <td>35456381.0</td>\n",
       "      <td>operating</td>\n",
       "      <td>North America</td>\n",
       "      <td>3</td>\n",
       "      <td>2012-08-20</td>\n",
       "      <td>2014-07-02</td>\n",
       "      <td>4383</td>\n",
       "      <td>Biotechnology</td>\n",
       "    </tr>\n",
       "  </tbody>\n",
       "</table>\n",
       "</div>"
      ],
      "text/plain": [
       "                     name                          category_list  \\\n",
       "0               Lunchgate        Online Reservations|Restaurants   \n",
       "1                 EarLens  Manufacturing|Medical|Medical Devices   \n",
       "2  Reviva Pharmaceuticals                          Biotechnology   \n",
       "\n",
       "   funding_total_usd     status          region  funding_rounds  \\\n",
       "0           828626.0  operating  Central Europe               2   \n",
       "1         42935019.0  operating   North America               4   \n",
       "2         35456381.0  operating   North America               3   \n",
       "\n",
       "  first_funding_at last_funding_at  lifetime        main_category  \n",
       "0       2011-05-01      2014-12-01      2998  Online Reservations  \n",
       "1       2010-05-04      2014-02-25      4748        Manufacturing  \n",
       "2       2012-08-20      2014-07-02      4383        Biotechnology  "
      ]
     },
     "execution_count": 31,
     "metadata": {},
     "output_type": "execute_result"
    }
   ],
   "source": [
    "# выделяю первое значение категории из значений в category_list\n",
    "df_train.loc[:, 'main_category'] = df_train.loc[:, 'category_list'].map(lambda x: str.split(x.strip(), sep='|')[0])\n",
    "df_test.loc[:, 'main_category'] = df_test.loc[:, 'category_list'].map(lambda x: str.split(x.strip(), sep='|')[0])\n",
    "df_train.head(3)"
   ]
  },
  {
   "cell_type": "code",
   "execution_count": 32,
   "metadata": {},
   "outputs": [
    {
     "data": {
      "text/html": [
       "<div>\n",
       "<style scoped>\n",
       "    .dataframe tbody tr th:only-of-type {\n",
       "        vertical-align: middle;\n",
       "    }\n",
       "\n",
       "    .dataframe tbody tr th {\n",
       "        vertical-align: top;\n",
       "    }\n",
       "\n",
       "    .dataframe thead th {\n",
       "        text-align: right;\n",
       "    }\n",
       "</style>\n",
       "<table border=\"1\" class=\"dataframe\">\n",
       "  <thead>\n",
       "    <tr style=\"text-align: right;\">\n",
       "      <th></th>\n",
       "      <th>name</th>\n",
       "      <th>funding_total_usd</th>\n",
       "      <th>status</th>\n",
       "      <th>region</th>\n",
       "      <th>funding_rounds</th>\n",
       "      <th>first_funding_at</th>\n",
       "      <th>last_funding_at</th>\n",
       "      <th>lifetime</th>\n",
       "      <th>main_category</th>\n",
       "    </tr>\n",
       "  </thead>\n",
       "  <tbody>\n",
       "    <tr>\n",
       "      <th>0</th>\n",
       "      <td>Lunchgate</td>\n",
       "      <td>828626.0</td>\n",
       "      <td>operating</td>\n",
       "      <td>Central Europe</td>\n",
       "      <td>2</td>\n",
       "      <td>2011-05-01</td>\n",
       "      <td>2014-12-01</td>\n",
       "      <td>2998</td>\n",
       "      <td>Online Reservations</td>\n",
       "    </tr>\n",
       "    <tr>\n",
       "      <th>1</th>\n",
       "      <td>EarLens</td>\n",
       "      <td>42935019.0</td>\n",
       "      <td>operating</td>\n",
       "      <td>North America</td>\n",
       "      <td>4</td>\n",
       "      <td>2010-05-04</td>\n",
       "      <td>2014-02-25</td>\n",
       "      <td>4748</td>\n",
       "      <td>Manufacturing</td>\n",
       "    </tr>\n",
       "    <tr>\n",
       "      <th>2</th>\n",
       "      <td>Reviva Pharmaceuticals</td>\n",
       "      <td>35456381.0</td>\n",
       "      <td>operating</td>\n",
       "      <td>North America</td>\n",
       "      <td>3</td>\n",
       "      <td>2012-08-20</td>\n",
       "      <td>2014-07-02</td>\n",
       "      <td>4383</td>\n",
       "      <td>Biotechnology</td>\n",
       "    </tr>\n",
       "  </tbody>\n",
       "</table>\n",
       "</div>"
      ],
      "text/plain": [
       "                     name  funding_total_usd     status          region  \\\n",
       "0               Lunchgate           828626.0  operating  Central Europe   \n",
       "1                 EarLens         42935019.0  operating   North America   \n",
       "2  Reviva Pharmaceuticals         35456381.0  operating   North America   \n",
       "\n",
       "   funding_rounds first_funding_at last_funding_at  lifetime  \\\n",
       "0               2       2011-05-01      2014-12-01      2998   \n",
       "1               4       2010-05-04      2014-02-25      4748   \n",
       "2               3       2012-08-20      2014-07-02      4383   \n",
       "\n",
       "         main_category  \n",
       "0  Online Reservations  \n",
       "1        Manufacturing  \n",
       "2        Biotechnology  "
      ]
     },
     "execution_count": 32,
     "metadata": {},
     "output_type": "execute_result"
    }
   ],
   "source": [
    "# Удалим лишние столбцы с кодом страны, городом и кодом штата\n",
    "df_train = df_train.drop('category_list', axis=1)\n",
    "df_test = df_test.drop(['category_list'], axis=1)\n",
    "df_train.head(3)"
   ]
  },
  {
   "cell_type": "code",
   "execution_count": 33,
   "metadata": {},
   "outputs": [
    {
     "data": {
      "text/plain": [
       "708"
      ]
     },
     "execution_count": 33,
     "metadata": {},
     "output_type": "execute_result"
    }
   ],
   "source": [
    "df_train['main_category'].nunique()"
   ]
  },
  {
   "cell_type": "code",
   "execution_count": 34,
   "metadata": {},
   "outputs": [
    {
     "name": "stdout",
     "output_type": "stream",
     "text": [
      "['Fmcg', 'Usability', 'Social Buying', 'Mobile Shopping', 'Experience Design', 'Subscription Businesses', 'Vacation Rentals', 'Direct Advertising', 'Musicians', 'Homeless Shelter', 'GreenTech', 'Group Email', 'Senior Health', 'Gay & Lesbian', 'EDA Tools', 'Darknet', 'Private School', 'Real Estate Investors', 'Mens Specific', 'Testing']\n"
     ]
    }
   ],
   "source": [
    "# Проверит категории из тестовых данных, которых нет в тренировочных\n",
    "not_in_train = []\n",
    "dict_cat = df_train['main_category'].unique()\n",
    "for i in df_test['main_category'].unique():\n",
    "    if i not in dict_cat:\n",
    "        not_in_train.append(i)\n",
    "print(not_in_train)"
   ]
  },
  {
   "cell_type": "markdown",
   "metadata": {},
   "source": [
    "### Группировка по длительности жизни"
   ]
  },
  {
   "cell_type": "code",
   "execution_count": 35,
   "metadata": {},
   "outputs": [
    {
     "data": {
      "text/plain": [
       "0.05     3.0\n",
       "0.30     5.0\n",
       "0.50     7.0\n",
       "0.70    10.0\n",
       "0.95    20.0\n",
       "Name: lifetime, dtype: float64"
      ]
     },
     "execution_count": 35,
     "metadata": {},
     "output_type": "execute_result"
    }
   ],
   "source": [
    "percentiles = [0.05, 0.3, 0.5, 0.7, 0.95]\n",
    "round(df_train['lifetime'].quantile(percentiles)/365)"
   ]
  },
  {
   "cell_type": "code",
   "execution_count": 36,
   "metadata": {},
   "outputs": [],
   "source": [
    "def lifecycle_cat(lifetime):\n",
    "  \n",
    "    if lifetime < 365 * 3:\n",
    "        return 'менее 3 лет'\n",
    "    elif lifetime <= 365 * 5:\n",
    "        return '3-5 лет'\n",
    "    elif lifetime <= 365 * 7:\n",
    "        return '5-7 лет'\n",
    "    elif lifetime <= 365 * 10:\n",
    "        return '7-10 лет'\n",
    "    elif lifetime <= 365 * 20:\n",
    "        return '10-20 лет'\n",
    "    else:\n",
    "        return 'более 20 лет'\n",
    "\n",
    "df_train.loc[:, 'lifetime_category'] = df_train['lifetime'].apply(lifecycle_cat)\n",
    "df_test.loc[:, 'lifetime_category'] = df_test['lifetime'].apply(lifecycle_cat)"
   ]
  },
  {
   "cell_type": "code",
   "execution_count": 37,
   "metadata": {},
   "outputs": [
    {
     "data": {
      "text/html": [
       "<div>\n",
       "<style scoped>\n",
       "    .dataframe tbody tr th:only-of-type {\n",
       "        vertical-align: middle;\n",
       "    }\n",
       "\n",
       "    .dataframe tbody tr th {\n",
       "        vertical-align: top;\n",
       "    }\n",
       "\n",
       "    .dataframe thead th {\n",
       "        text-align: right;\n",
       "    }\n",
       "</style>\n",
       "<table border=\"1\" class=\"dataframe\">\n",
       "  <thead>\n",
       "    <tr style=\"text-align: right;\">\n",
       "      <th></th>\n",
       "      <th>name</th>\n",
       "      <th>funding_total_usd</th>\n",
       "      <th>status</th>\n",
       "      <th>region</th>\n",
       "      <th>funding_rounds</th>\n",
       "      <th>first_funding_at</th>\n",
       "      <th>last_funding_at</th>\n",
       "      <th>lifetime</th>\n",
       "      <th>main_category</th>\n",
       "      <th>lifetime_category</th>\n",
       "    </tr>\n",
       "  </thead>\n",
       "  <tbody>\n",
       "    <tr>\n",
       "      <th>0</th>\n",
       "      <td>Lunchgate</td>\n",
       "      <td>828626.0</td>\n",
       "      <td>operating</td>\n",
       "      <td>Central Europe</td>\n",
       "      <td>2</td>\n",
       "      <td>2011-05-01</td>\n",
       "      <td>2014-12-01</td>\n",
       "      <td>2998</td>\n",
       "      <td>Online Reservations</td>\n",
       "      <td>7-10 лет</td>\n",
       "    </tr>\n",
       "    <tr>\n",
       "      <th>1</th>\n",
       "      <td>EarLens</td>\n",
       "      <td>42935019.0</td>\n",
       "      <td>operating</td>\n",
       "      <td>North America</td>\n",
       "      <td>4</td>\n",
       "      <td>2010-05-04</td>\n",
       "      <td>2014-02-25</td>\n",
       "      <td>4748</td>\n",
       "      <td>Manufacturing</td>\n",
       "      <td>10-20 лет</td>\n",
       "    </tr>\n",
       "    <tr>\n",
       "      <th>2</th>\n",
       "      <td>Reviva Pharmaceuticals</td>\n",
       "      <td>35456381.0</td>\n",
       "      <td>operating</td>\n",
       "      <td>North America</td>\n",
       "      <td>3</td>\n",
       "      <td>2012-08-20</td>\n",
       "      <td>2014-07-02</td>\n",
       "      <td>4383</td>\n",
       "      <td>Biotechnology</td>\n",
       "      <td>10-20 лет</td>\n",
       "    </tr>\n",
       "    <tr>\n",
       "      <th>3</th>\n",
       "      <td>Sancilio and Company</td>\n",
       "      <td>22250000.0</td>\n",
       "      <td>operating</td>\n",
       "      <td>no_region</td>\n",
       "      <td>3</td>\n",
       "      <td>2011-09-01</td>\n",
       "      <td>2014-07-18</td>\n",
       "      <td>5114</td>\n",
       "      <td>Health Care</td>\n",
       "      <td>10-20 лет</td>\n",
       "    </tr>\n",
       "    <tr>\n",
       "      <th>4</th>\n",
       "      <td>WireTough Cylinders</td>\n",
       "      <td>2000000.0</td>\n",
       "      <td>operating</td>\n",
       "      <td>North America</td>\n",
       "      <td>1</td>\n",
       "      <td>2012-02-01</td>\n",
       "      <td>2012-02-01</td>\n",
       "      <td>2791</td>\n",
       "      <td>Manufacturing</td>\n",
       "      <td>7-10 лет</td>\n",
       "    </tr>\n",
       "  </tbody>\n",
       "</table>\n",
       "</div>"
      ],
      "text/plain": [
       "                     name  funding_total_usd     status          region  \\\n",
       "0               Lunchgate           828626.0  operating  Central Europe   \n",
       "1                 EarLens         42935019.0  operating   North America   \n",
       "2  Reviva Pharmaceuticals         35456381.0  operating   North America   \n",
       "3    Sancilio and Company         22250000.0  operating       no_region   \n",
       "4     WireTough Cylinders          2000000.0  operating   North America   \n",
       "\n",
       "   funding_rounds first_funding_at last_funding_at  lifetime  \\\n",
       "0               2       2011-05-01      2014-12-01      2998   \n",
       "1               4       2010-05-04      2014-02-25      4748   \n",
       "2               3       2012-08-20      2014-07-02      4383   \n",
       "3               3       2011-09-01      2014-07-18      5114   \n",
       "4               1       2012-02-01      2012-02-01      2791   \n",
       "\n",
       "         main_category lifetime_category  \n",
       "0  Online Reservations          7-10 лет  \n",
       "1        Manufacturing         10-20 лет  \n",
       "2        Biotechnology         10-20 лет  \n",
       "3          Health Care         10-20 лет  \n",
       "4        Manufacturing          7-10 лет  "
      ]
     },
     "execution_count": 37,
     "metadata": {},
     "output_type": "execute_result"
    }
   ],
   "source": [
    "df_train.head()"
   ]
  },
  {
   "cell_type": "code",
   "execution_count": 38,
   "metadata": {},
   "outputs": [
    {
     "data": {
      "text/html": [
       "<div>\n",
       "<style scoped>\n",
       "    .dataframe tbody tr th:only-of-type {\n",
       "        vertical-align: middle;\n",
       "    }\n",
       "\n",
       "    .dataframe tbody tr th {\n",
       "        vertical-align: top;\n",
       "    }\n",
       "\n",
       "    .dataframe thead th {\n",
       "        text-align: right;\n",
       "    }\n",
       "</style>\n",
       "<table border=\"1\" class=\"dataframe\">\n",
       "  <thead>\n",
       "    <tr style=\"text-align: right;\">\n",
       "      <th></th>\n",
       "      <th>name</th>\n",
       "      <th>funding_total_usd</th>\n",
       "      <th>region</th>\n",
       "      <th>funding_rounds</th>\n",
       "      <th>first_funding_at</th>\n",
       "      <th>last_funding_at</th>\n",
       "      <th>lifetime</th>\n",
       "      <th>main_category</th>\n",
       "      <th>lifetime_category</th>\n",
       "    </tr>\n",
       "  </thead>\n",
       "  <tbody>\n",
       "    <tr>\n",
       "      <th>0</th>\n",
       "      <td>Crystalsol</td>\n",
       "      <td>2819200.0</td>\n",
       "      <td>Central America</td>\n",
       "      <td>1</td>\n",
       "      <td>2011-05-01</td>\n",
       "      <td>2014-12-01</td>\n",
       "      <td>3501</td>\n",
       "      <td>Clean Technology</td>\n",
       "      <td>7-10 лет</td>\n",
       "    </tr>\n",
       "    <tr>\n",
       "      <th>1</th>\n",
       "      <td>JBI Fish &amp; Wings</td>\n",
       "      <td>2000000.0</td>\n",
       "      <td>North America</td>\n",
       "      <td>1</td>\n",
       "      <td>2010-05-04</td>\n",
       "      <td>2014-02-25</td>\n",
       "      <td>2717</td>\n",
       "      <td>Hospitality</td>\n",
       "      <td>7-10 лет</td>\n",
       "    </tr>\n",
       "    <tr>\n",
       "      <th>2</th>\n",
       "      <td>COINPLUS</td>\n",
       "      <td>428257.0</td>\n",
       "      <td>Western Europe</td>\n",
       "      <td>2</td>\n",
       "      <td>2012-08-20</td>\n",
       "      <td>2014-07-02</td>\n",
       "      <td>1295</td>\n",
       "      <td>Finance</td>\n",
       "      <td>3-5 лет</td>\n",
       "    </tr>\n",
       "    <tr>\n",
       "      <th>3</th>\n",
       "      <td>Imagine Communications</td>\n",
       "      <td>34700000.0</td>\n",
       "      <td>North America</td>\n",
       "      <td>4</td>\n",
       "      <td>2011-09-01</td>\n",
       "      <td>2014-07-18</td>\n",
       "      <td>4748</td>\n",
       "      <td>Software</td>\n",
       "      <td>10-20 лет</td>\n",
       "    </tr>\n",
       "    <tr>\n",
       "      <th>4</th>\n",
       "      <td>DNA13</td>\n",
       "      <td>4530000.0</td>\n",
       "      <td>North America</td>\n",
       "      <td>1</td>\n",
       "      <td>2012-02-01</td>\n",
       "      <td>2012-02-01</td>\n",
       "      <td>6209</td>\n",
       "      <td>Software</td>\n",
       "      <td>10-20 лет</td>\n",
       "    </tr>\n",
       "  </tbody>\n",
       "</table>\n",
       "</div>"
      ],
      "text/plain": [
       "                     name  funding_total_usd           region  funding_rounds  \\\n",
       "0              Crystalsol          2819200.0  Central America               1   \n",
       "1        JBI Fish & Wings          2000000.0    North America               1   \n",
       "2                COINPLUS           428257.0   Western Europe               2   \n",
       "3  Imagine Communications         34700000.0    North America               4   \n",
       "4                   DNA13          4530000.0    North America               1   \n",
       "\n",
       "  first_funding_at last_funding_at  lifetime     main_category  \\\n",
       "0       2011-05-01      2014-12-01      3501  Clean Technology   \n",
       "1       2010-05-04      2014-02-25      2717       Hospitality   \n",
       "2       2012-08-20      2014-07-02      1295           Finance   \n",
       "3       2011-09-01      2014-07-18      4748          Software   \n",
       "4       2012-02-01      2012-02-01      6209          Software   \n",
       "\n",
       "  lifetime_category  \n",
       "0          7-10 лет  \n",
       "1          7-10 лет  \n",
       "2           3-5 лет  \n",
       "3         10-20 лет  \n",
       "4         10-20 лет  "
      ]
     },
     "execution_count": 38,
     "metadata": {},
     "output_type": "execute_result"
    }
   ],
   "source": [
    "df_test.head()"
   ]
  },
  {
   "cell_type": "markdown",
   "metadata": {},
   "source": [
    "### Группировка по годам раундов"
   ]
  },
  {
   "cell_type": "code",
   "execution_count": 39,
   "metadata": {},
   "outputs": [],
   "source": [
    "# Вытащим годы из дат и удалим даты\n",
    "df_train['first_funding_year'] = df_train['first_funding_at'].dt.year\n",
    "df_train['last_funding_year'] = df_train['last_funding_at'].dt.year\n",
    "\n",
    "df_test['first_funding_year'] = df_test['first_funding_at'].dt.year\n",
    "df_test['last_funding_year'] = df_test['last_funding_at'].dt.year\n",
    "\n",
    "df_train = df_train.drop(['first_funding_at', 'last_funding_at'], axis=1)\n",
    "df_test = df_test.drop(['first_funding_at', 'last_funding_at'], axis=1)"
   ]
  },
  {
   "cell_type": "markdown",
   "metadata": {
    "id": "ufwCNh8nGCNK"
   },
   "source": []
  },
  {
   "cell_type": "markdown",
   "metadata": {
    "id": "OVVbVIj55pnY"
   },
   "source": [
    "## ЭТАП 3. Разведочный анализ"
   ]
  },
  {
   "cell_type": "code",
   "execution_count": 40,
   "metadata": {
    "id": "Tz8ZIZjRNMcp"
   },
   "outputs": [
    {
     "name": "stdout",
     "output_type": "stream",
     "text": [
      "<class 'pandas.core.frame.DataFrame'>\n",
      "RangeIndex: 52516 entries, 0 to 52515\n",
      "Data columns (total 10 columns):\n",
      " #   Column              Non-Null Count  Dtype  \n",
      "---  ------              --------------  -----  \n",
      " 0   name                52516 non-null  object \n",
      " 1   funding_total_usd   52516 non-null  float64\n",
      " 2   status              52516 non-null  object \n",
      " 3   region              52516 non-null  object \n",
      " 4   funding_rounds      52516 non-null  int64  \n",
      " 5   lifetime            52516 non-null  int64  \n",
      " 6   main_category       52516 non-null  object \n",
      " 7   lifetime_category   52516 non-null  object \n",
      " 8   first_funding_year  52516 non-null  int64  \n",
      " 9   last_funding_year   52516 non-null  int64  \n",
      "dtypes: float64(1), int64(4), object(5)\n",
      "memory usage: 4.0+ MB\n"
     ]
    }
   ],
   "source": [
    "df_train.info()"
   ]
  },
  {
   "cell_type": "code",
   "execution_count": 41,
   "metadata": {
    "colab": {
     "base_uri": "https://localhost:8080/",
     "height": 280
    },
    "id": "0I72NiPmNM8b",
    "outputId": "c32e275f-0d93-4814-e165-f4e3e3089429",
    "scrolled": true
   },
   "outputs": [
    {
     "data": {
      "image/png": "[encoded data removed]",
      "text/plain": [
       "<Figure size 1080x1080 with 4 Axes>"
      ]
     },
     "metadata": {
      "needs_background": "light"
     },
     "output_type": "display_data"
    }
   ],
   "source": [
    "# делаю сетку для 3 графиков методом subplots\n",
    "fig, axs = plt.subplots(2, 2, sharex=False, sharey=False, figsize=(15, 15))\n",
    "\n",
    "# гистограмма с графиком плотности\n",
    "sns.histplot(df_train['funding_total_usd'], bins=30, kde=True, ax=axs[0, 0])\n",
    "axs[0, 0].ticklabel_format(axis='x')\n",
    "axs[0, 0].set_xlabel('\\n ' + 'funding_total_usd')\n",
    "axs[0, 0].set_ylabel('Количество \\n')\n",
    "axs[0, 0].set_title('Гистограмма для \\n' + 'funding_total_usd' + '\\n', \n",
    "                    color='black', fontweight ='bold')\n",
    "axs[0, 0].grid(linestyle='--')\n",
    "\n",
    "# диаграмма размаха\n",
    "sns.boxplot(y=df_train['funding_total_usd'], ax=axs[0, 1])\n",
    "axs[0, 1].ticklabel_format(axis='y')\n",
    "axs[0, 1].set_xlabel('\\n ' + 'funding_total_usd')\n",
    "axs[0, 1].set_ylabel('Значение \\n')\n",
    "axs[0, 1].set_title('Диаграмма размаха для \\n' + 'funding_total_usd' + '\\n', \n",
    "                    color='black', fontweight ='bold')\n",
    "axs[0, 1].grid(linestyle='--')\n",
    "\n",
    "# гистограмма с графиком плотности\n",
    "sns.histplot(df_train.query('7000000 < funding_total_usd < 200000000')['funding_total_usd'], bins=30, kde=True, ax=axs[1, 0])\n",
    "axs[1, 0].ticklabel_format(axis='x')\n",
    "axs[1, 0].set_xlabel('\\n ' + 'funding_total_usd')\n",
    "axs[1, 0].set_ylabel('Количество \\n')\n",
    "axs[1, 0].set_title('Гистограмма для \\n' + 'funding_total_usd' + ' (7 - 200 млн. $)' + '\\n', \n",
    "                    color='black', fontweight ='bold')\n",
    "axs[1, 0].grid(linestyle='--')\n",
    "\n",
    "# диаграмма размаха\n",
    "sns.boxplot(y=df_train.query('7000000 < funding_total_usd < 200000000')['funding_total_usd'], ax=axs[1, 1])\n",
    "axs[1, 1].ticklabel_format(axis='y')\n",
    "axs[1, 1].set_xlabel('\\n ' + 'funding_total_usd')\n",
    "axs[1, 1].set_ylabel('Значение \\n')\n",
    "axs[1, 1].set_title('Диаграмма размаха для \\n' + 'funding_total_usd' + ' (7 - 200 млн. $)' + '\\n', \n",
    "                    color='black', fontweight ='bold')\n",
    "axs[1, 1].grid(linestyle='--')\n",
    "\n",
    "plt.tight_layout()"
   ]
  },
  {
   "cell_type": "code",
   "execution_count": 42,
   "metadata": {},
   "outputs": [],
   "source": [
    "# исключаю выбросы в funding_total_usd с примененем функции .query()\n",
    "df_train = df_train.query('funding_total_usd < 100000000')"
   ]
  },
  {
   "cell_type": "markdown",
   "metadata": {
    "id": "0IZJHfCl5pwD"
   },
   "source": [
    "## ЭТАП 4. Проверка на мультиколлинеарность"
   ]
  },
  {
   "cell_type": "code",
   "execution_count": 43,
   "metadata": {},
   "outputs": [],
   "source": [
    "df_train['funding_rounds'] = df_train['funding_rounds'].astype('int32')\n",
    "df_train['lifetime'] = df_train['lifetime'].astype('int32')\n",
    "df_train['first_funding_year'] = df_train['first_funding_year'].astype('int32')\n",
    "df_train['last_funding_year'] = df_train['last_funding_year'].astype('int32')\n",
    "df_train['funding_total_usd'] = df_train['funding_total_usd'].astype('float32')"
   ]
  },
  {
   "cell_type": "code",
   "execution_count": 44,
   "metadata": {},
   "outputs": [
    {
     "data": {
      "image/png": "[encoded data removed]",
      "text/plain": [
       "<Figure size 864x720 with 2 Axes>"
      ]
     },
     "metadata": {
      "needs_background": "light"
     },
     "output_type": "display_data"
    }
   ],
   "source": [
    "corr_matrix = df_train.drop('name', axis=1).phik_matrix(interval_cols = ['funding_total_usd', \n",
    "                                                    'funding_rounds', \n",
    "                                                    'lifetime', \n",
    "                                                    'first_funding_year', \n",
    "                                                    'last_funding_year'])\n",
    "plt.figure(figsize=(12, 10))\n",
    "sns.heatmap(corr_matrix, annot=True, cmap='coolwarm')\n",
    "plt.title('Матрица корреляции')\n",
    "plt.show();"
   ]
  },
  {
   "cell_type": "code",
   "execution_count": 45,
   "metadata": {},
   "outputs": [
    {
     "data": {
      "text/html": [
       "<div>\n",
       "<style scoped>\n",
       "    .dataframe tbody tr th:only-of-type {\n",
       "        vertical-align: middle;\n",
       "    }\n",
       "\n",
       "    .dataframe tbody tr th {\n",
       "        vertical-align: top;\n",
       "    }\n",
       "\n",
       "    .dataframe thead th {\n",
       "        text-align: right;\n",
       "    }\n",
       "</style>\n",
       "<table border=\"1\" class=\"dataframe\">\n",
       "  <thead>\n",
       "    <tr style=\"text-align: right;\">\n",
       "      <th></th>\n",
       "      <th>name</th>\n",
       "      <th>funding_total_usd</th>\n",
       "      <th>status</th>\n",
       "      <th>region</th>\n",
       "      <th>funding_rounds</th>\n",
       "      <th>lifetime</th>\n",
       "      <th>main_category</th>\n",
       "      <th>lifetime_category</th>\n",
       "      <th>first_funding_year</th>\n",
       "      <th>last_funding_year</th>\n",
       "    </tr>\n",
       "  </thead>\n",
       "  <tbody>\n",
       "    <tr>\n",
       "      <th>0</th>\n",
       "      <td>Lunchgate</td>\n",
       "      <td>828626.0</td>\n",
       "      <td>operating</td>\n",
       "      <td>Central Europe</td>\n",
       "      <td>2</td>\n",
       "      <td>2998</td>\n",
       "      <td>Online Reservations</td>\n",
       "      <td>7-10 лет</td>\n",
       "      <td>2011</td>\n",
       "      <td>2014</td>\n",
       "    </tr>\n",
       "    <tr>\n",
       "      <th>1</th>\n",
       "      <td>EarLens</td>\n",
       "      <td>42935020.0</td>\n",
       "      <td>operating</td>\n",
       "      <td>North America</td>\n",
       "      <td>4</td>\n",
       "      <td>4748</td>\n",
       "      <td>Manufacturing</td>\n",
       "      <td>10-20 лет</td>\n",
       "      <td>2010</td>\n",
       "      <td>2014</td>\n",
       "    </tr>\n",
       "    <tr>\n",
       "      <th>2</th>\n",
       "      <td>Reviva Pharmaceuticals</td>\n",
       "      <td>35456380.0</td>\n",
       "      <td>operating</td>\n",
       "      <td>North America</td>\n",
       "      <td>3</td>\n",
       "      <td>4383</td>\n",
       "      <td>Biotechnology</td>\n",
       "      <td>10-20 лет</td>\n",
       "      <td>2012</td>\n",
       "      <td>2014</td>\n",
       "    </tr>\n",
       "    <tr>\n",
       "      <th>3</th>\n",
       "      <td>Sancilio and Company</td>\n",
       "      <td>22250000.0</td>\n",
       "      <td>operating</td>\n",
       "      <td>no_region</td>\n",
       "      <td>3</td>\n",
       "      <td>5114</td>\n",
       "      <td>Health Care</td>\n",
       "      <td>10-20 лет</td>\n",
       "      <td>2011</td>\n",
       "      <td>2014</td>\n",
       "    </tr>\n",
       "    <tr>\n",
       "      <th>4</th>\n",
       "      <td>WireTough Cylinders</td>\n",
       "      <td>2000000.0</td>\n",
       "      <td>operating</td>\n",
       "      <td>North America</td>\n",
       "      <td>1</td>\n",
       "      <td>2791</td>\n",
       "      <td>Manufacturing</td>\n",
       "      <td>7-10 лет</td>\n",
       "      <td>2012</td>\n",
       "      <td>2012</td>\n",
       "    </tr>\n",
       "  </tbody>\n",
       "</table>\n",
       "</div>"
      ],
      "text/plain": [
       "                     name  funding_total_usd     status          region  \\\n",
       "0               Lunchgate           828626.0  operating  Central Europe   \n",
       "1                 EarLens         42935020.0  operating   North America   \n",
       "2  Reviva Pharmaceuticals         35456380.0  operating   North America   \n",
       "3    Sancilio and Company         22250000.0  operating       no_region   \n",
       "4     WireTough Cylinders          2000000.0  operating   North America   \n",
       "\n",
       "   funding_rounds  lifetime        main_category lifetime_category  \\\n",
       "0               2      2998  Online Reservations          7-10 лет   \n",
       "1               4      4748        Manufacturing         10-20 лет   \n",
       "2               3      4383        Biotechnology         10-20 лет   \n",
       "3               3      5114          Health Care         10-20 лет   \n",
       "4               1      2791        Manufacturing          7-10 лет   \n",
       "\n",
       "   first_funding_year  last_funding_year  \n",
       "0                2011               2014  \n",
       "1                2010               2014  \n",
       "2                2012               2014  \n",
       "3                2011               2014  \n",
       "4                2012               2012  "
      ]
     },
     "execution_count": 45,
     "metadata": {},
     "output_type": "execute_result"
    }
   ],
   "source": [
    "df_train.head()"
   ]
  },
  {
   "cell_type": "markdown",
   "metadata": {
    "id": "SPTlY67E5qHB"
   },
   "source": [
    "## ЭТАП 5. Отбор финального набора обучающих признаков"
   ]
  },
  {
   "cell_type": "code",
   "execution_count": 46,
   "metadata": {},
   "outputs": [],
   "source": [
    "# Разбиваем выборку на входные и валидационные признаки\n",
    "X = df_train.drop([\n",
    "    'name',\n",
    "    'last_funding_year',\n",
    "    'first_funding_year',\n",
    "    'main_category',\n",
    "    'lifetime',\n",
    "    'status'\n",
    "], axis=1)\n",
    "y = df_train['status']\n",
    "\n",
    "# Разбиваем тренировочные и валидационные признаки на тренировочные и валидационные\n",
    "X_train, X_valid, y_train, y_valid = train_test_split(\n",
    "    X,\n",
    "    y,\n",
    "    test_size = TEST_SIZE,\n",
    "    random_state = RANDOM_STATE\n",
    ")\n",
    "\n",
    "# Получаем имена категориальных и количественных признаков\n",
    "cat_columns = X.select_dtypes(exclude='number').columns.tolist()\n",
    "num_columns = X.select_dtypes(include='number').columns.tolist()\n",
    "\n",
    "# С помощью LabelEncoder кодируем целевой признак, как 0 и 1 (closed и  perating)\n",
    "label_encoder = LabelEncoder()\n",
    "y_train = label_encoder.fit_transform(y_train)\n",
    "y_valid = label_encoder.fit_transform(y_valid)\n",
    "\n",
    "\n",
    "# создаём пайплайн для подготовки признаков из списка ohe_columns: заполнение пропусков и OHE-кодирование\n",
    "# SimpleImputer + OHE\n",
    "ohe_pipe = Pipeline(\n",
    "    [('simpleImputer_ohe', SimpleImputer(missing_values=np.nan, strategy='most_frequent')),\n",
    "     ('ohe', OneHotEncoder(drop='first', handle_unknown='ignore', sparse=False))\n",
    "    ]\n",
    "    )\n",
    "\n",
    "\n",
    "# SimpleImputer + Scaler\n",
    "num_pipe = Pipeline(\n",
    "    [\n",
    "        ('sImputer_nan_med', SimpleImputer(missing_values=np.nan, strategy='median')),\n",
    "        ('scaler', StandardScaler())\n",
    "    ]\n",
    ")\n",
    "\n",
    "# создаю общий пайплайн подтоговки данных\n",
    "# для моделей использующих градиентный спуск и евклидово расстояние\n",
    "data_preprocessor = ColumnTransformer(\n",
    "    [\n",
    "        ('cat', ohe_pipe, cat_columns),\n",
    "        ('num', num_pipe, num_columns)\n",
    "    ], \n",
    "    remainder='passthrough'\n",
    ")\n",
    "\n",
    "# итоговый пайплайн: подготовка данных и модель\n",
    "# создаём итоговый пайплайн: подготовка данных и модель\n",
    "pipe_final = Pipeline([\n",
    "    ('preprocessor', data_preprocessor),\n",
    "    ('models', DecisionTreeClassifier(random_state=RANDOM_STATE))\n",
    "])"
   ]
  },
  {
   "cell_type": "markdown",
   "metadata": {
    "id": "aW7zniEo5qPL"
   },
   "source": [
    "## ЭТАП 6. Выбор и обучение моделей"
   ]
  },
  {
   "cell_type": "code",
   "execution_count": 47,
   "metadata": {},
   "outputs": [
    {
     "data": {
      "text/html": [
       "<style>#sk-container-id-1 {color: black;background-color: white;}#sk-container-id-1 pre{padding: 0;}#sk-container-id-1 div.sk-toggleable {background-color: white;}#sk-container-id-1 label.sk-toggleable__label {cursor: pointer;display: block;width: 100%;margin-bottom: 0;padding: 0.3em;box-sizing: border-box;text-align: center;}#sk-container-id-1 label.sk-toggleable__label-arrow:before {content: \"▸\";float: left;margin-right: 0.25em;color: #696969;}#sk-container-id-1 label.sk-toggleable__label-arrow:hover:before {color: black;}#sk-container-id-1 div.sk-estimator:hover label.sk-toggleable__label-arrow:before {color: black;}#sk-container-id-1 div.sk-toggleable__content {max-height: 0;max-width: 0;overflow: hidden;text-align: left;background-color: #f0f8ff;}#sk-container-id-1 div.sk-toggleable__content pre {margin: 0.2em;color: black;border-radius: 0.25em;background-color: #f0f8ff;}#sk-container-id-1 input.sk-toggleable__control:checked~div.sk-toggleable__content {max-height: 200px;max-width: 100%;overflow: auto;}#sk-container-id-1 input.sk-toggleable__control:checked~label.sk-toggleable__label-arrow:before {content: \"▾\";}#sk-container-id-1 div.sk-estimator input.sk-toggleable__control:checked~label.sk-toggleable__label {background-color: #d4ebff;}#sk-container-id-1 div.sk-label input.sk-toggleable__control:checked~label.sk-toggleable__label {background-color: #d4ebff;}#sk-container-id-1 input.sk-hidden--visually {border: 0;clip: rect(1px 1px 1px 1px);clip: rect(1px, 1px, 1px, 1px);height: 1px;margin: -1px;overflow: hidden;padding: 0;position: absolute;width: 1px;}#sk-container-id-1 div.sk-estimator {font-family: monospace;background-color: #f0f8ff;border: 1px dotted black;border-radius: 0.25em;box-sizing: border-box;margin-bottom: 0.5em;}#sk-container-id-1 div.sk-estimator:hover {background-color: #d4ebff;}#sk-container-id-1 div.sk-parallel-item::after {content: \"\";width: 100%;border-bottom: 1px solid gray;flex-grow: 1;}#sk-container-id-1 div.sk-label:hover label.sk-toggleable__label {background-color: #d4ebff;}#sk-container-id-1 div.sk-serial::before {content: \"\";position: absolute;border-left: 1px solid gray;box-sizing: border-box;top: 0;bottom: 0;left: 50%;z-index: 0;}#sk-container-id-1 div.sk-serial {display: flex;flex-direction: column;align-items: center;background-color: white;padding-right: 0.2em;padding-left: 0.2em;position: relative;}#sk-container-id-1 div.sk-item {position: relative;z-index: 1;}#sk-container-id-1 div.sk-parallel {display: flex;align-items: stretch;justify-content: center;background-color: white;position: relative;}#sk-container-id-1 div.sk-item::before, #sk-container-id-1 div.sk-parallel-item::before {content: \"\";position: absolute;border-left: 1px solid gray;box-sizing: border-box;top: 0;bottom: 0;left: 50%;z-index: -1;}#sk-container-id-1 div.sk-parallel-item {display: flex;flex-direction: column;z-index: 1;position: relative;background-color: white;}#sk-container-id-1 div.sk-parallel-item:first-child::after {align-self: flex-end;width: 50%;}#sk-container-id-1 div.sk-parallel-item:last-child::after {align-self: flex-start;width: 50%;}#sk-container-id-1 div.sk-parallel-item:only-child::after {width: 0;}#sk-container-id-1 div.sk-dashed-wrapped {border: 1px dashed gray;margin: 0 0.4em 0.5em 0.4em;box-sizing: border-box;padding-bottom: 0.4em;background-color: white;}#sk-container-id-1 div.sk-label label {font-family: monospace;font-weight: bold;display: inline-block;line-height: 1.2em;}#sk-container-id-1 div.sk-label-container {text-align: center;}#sk-container-id-1 div.sk-container {/* jupyter's `normalize.less` sets `[hidden] { display: none; }` but bootstrap.min.css set `[hidden] { display: none !important; }` so we also need the `!important` here to be able to override the default hidden behavior on the sphinx rendered scikit-learn.org. See: https://github.com/scikit-learn/scikit-learn/issues/21755 */display: inline-block !important;position: relative;}#sk-container-id-1 div.sk-text-repr-fallback {display: none;}</style><div id=\"sk-container-id-1\" class=\"sk-top-container\"><div class=\"sk-text-repr-fallback\"><pre>RandomizedSearchCV(cv=5,\n",
       "                   estimator=Pipeline(steps=[(&#x27;preprocessor&#x27;,\n",
       "                                              ColumnTransformer(remainder=&#x27;passthrough&#x27;,\n",
       "                                                                transformers=[(&#x27;cat&#x27;,\n",
       "                                                                               Pipeline(steps=[(&#x27;simpleImputer_ohe&#x27;,\n",
       "                                                                                                SimpleImputer(strategy=&#x27;most_frequent&#x27;)),\n",
       "                                                                                               (&#x27;ohe&#x27;,\n",
       "                                                                                                OneHotEncoder(drop=&#x27;first&#x27;,\n",
       "                                                                                                              handle_unknown=&#x27;ignore&#x27;,\n",
       "                                                                                                              sparse=False))]),\n",
       "                                                                               [&#x27;region&#x27;,\n",
       "                                                                                &#x27;lifetime_category&#x27;]),\n",
       "                                                                              (&#x27;num&#x27;,\n",
       "                                                                               Pipeline(steps=[(&#x27;sImputer_na...\n",
       "                                                               &#x27;passthrough&#x27;]},\n",
       "                                        {&#x27;models&#x27;: [KNeighborsClassifier()],\n",
       "                                         &#x27;models__n_neighbors&#x27;: range(2, 7),\n",
       "                                         &#x27;preprocessor__num&#x27;: [StandardScaler(),\n",
       "                                                               MinMaxScaler(),\n",
       "                                                               &#x27;passthrough&#x27;]},\n",
       "                                        {&#x27;models&#x27;: [LogisticRegression(C=1,\n",
       "                                                                       penalty=&#x27;l1&#x27;,\n",
       "                                                                       random_state=42,\n",
       "                                                                       solver=&#x27;liblinear&#x27;)],\n",
       "                                         &#x27;models__C&#x27;: range(1, 5),\n",
       "                                         &#x27;preprocessor__num&#x27;: [StandardScaler(),\n",
       "                                                               MinMaxScaler(),\n",
       "                                                               &#x27;passthrough&#x27;]}],\n",
       "                   random_state=42, scoring=&#x27;f1&#x27;)</pre><b>In a Jupyter environment, please rerun this cell to show the HTML representation or trust the notebook. <br />On GitHub, the HTML representation is unable to render, please try loading this page with nbviewer.org.</b></div><div class=\"sk-container\" hidden><div class=\"sk-item sk-dashed-wrapped\"><div class=\"sk-label-container\"><div class=\"sk-label sk-toggleable\"><input class=\"sk-toggleable__control sk-hidden--visually\" id=\"sk-estimator-id-1\" type=\"checkbox\" ><label for=\"sk-estimator-id-1\" class=\"sk-toggleable__label sk-toggleable__label-arrow\">RandomizedSearchCV</label><div class=\"sk-toggleable__content\"><pre>RandomizedSearchCV(cv=5,\n",
       "                   estimator=Pipeline(steps=[(&#x27;preprocessor&#x27;,\n",
       "                                              ColumnTransformer(remainder=&#x27;passthrough&#x27;,\n",
       "                                                                transformers=[(&#x27;cat&#x27;,\n",
       "                                                                               Pipeline(steps=[(&#x27;simpleImputer_ohe&#x27;,\n",
       "                                                                                                SimpleImputer(strategy=&#x27;most_frequent&#x27;)),\n",
       "                                                                                               (&#x27;ohe&#x27;,\n",
       "                                                                                                OneHotEncoder(drop=&#x27;first&#x27;,\n",
       "                                                                                                              handle_unknown=&#x27;ignore&#x27;,\n",
       "                                                                                                              sparse=False))]),\n",
       "                                                                               [&#x27;region&#x27;,\n",
       "                                                                                &#x27;lifetime_category&#x27;]),\n",
       "                                                                              (&#x27;num&#x27;,\n",
       "                                                                               Pipeline(steps=[(&#x27;sImputer_na...\n",
       "                                                               &#x27;passthrough&#x27;]},\n",
       "                                        {&#x27;models&#x27;: [KNeighborsClassifier()],\n",
       "                                         &#x27;models__n_neighbors&#x27;: range(2, 7),\n",
       "                                         &#x27;preprocessor__num&#x27;: [StandardScaler(),\n",
       "                                                               MinMaxScaler(),\n",
       "                                                               &#x27;passthrough&#x27;]},\n",
       "                                        {&#x27;models&#x27;: [LogisticRegression(C=1,\n",
       "                                                                       penalty=&#x27;l1&#x27;,\n",
       "                                                                       random_state=42,\n",
       "                                                                       solver=&#x27;liblinear&#x27;)],\n",
       "                                         &#x27;models__C&#x27;: range(1, 5),\n",
       "                                         &#x27;preprocessor__num&#x27;: [StandardScaler(),\n",
       "                                                               MinMaxScaler(),\n",
       "                                                               &#x27;passthrough&#x27;]}],\n",
       "                   random_state=42, scoring=&#x27;f1&#x27;)</pre></div></div></div><div class=\"sk-parallel\"><div class=\"sk-parallel-item\"><div class=\"sk-item\"><div class=\"sk-label-container\"><div class=\"sk-label sk-toggleable\"><input class=\"sk-toggleable__control sk-hidden--visually\" id=\"sk-estimator-id-2\" type=\"checkbox\" ><label for=\"sk-estimator-id-2\" class=\"sk-toggleable__label sk-toggleable__label-arrow\">estimator: Pipeline</label><div class=\"sk-toggleable__content\"><pre>Pipeline(steps=[(&#x27;preprocessor&#x27;,\n",
       "                 ColumnTransformer(remainder=&#x27;passthrough&#x27;,\n",
       "                                   transformers=[(&#x27;cat&#x27;,\n",
       "                                                  Pipeline(steps=[(&#x27;simpleImputer_ohe&#x27;,\n",
       "                                                                   SimpleImputer(strategy=&#x27;most_frequent&#x27;)),\n",
       "                                                                  (&#x27;ohe&#x27;,\n",
       "                                                                   OneHotEncoder(drop=&#x27;first&#x27;,\n",
       "                                                                                 handle_unknown=&#x27;ignore&#x27;,\n",
       "                                                                                 sparse=False))]),\n",
       "                                                  [&#x27;region&#x27;,\n",
       "                                                   &#x27;lifetime_category&#x27;]),\n",
       "                                                 (&#x27;num&#x27;,\n",
       "                                                  Pipeline(steps=[(&#x27;sImputer_nan_med&#x27;,\n",
       "                                                                   SimpleImputer(strategy=&#x27;median&#x27;)),\n",
       "                                                                  (&#x27;scaler&#x27;,\n",
       "                                                                   StandardScaler())]),\n",
       "                                                  [&#x27;funding_total_usd&#x27;,\n",
       "                                                   &#x27;funding_rounds&#x27;])])),\n",
       "                (&#x27;models&#x27;, DecisionTreeClassifier(random_state=42))])</pre></div></div></div><div class=\"sk-serial\"><div class=\"sk-item\"><div class=\"sk-serial\"><div class=\"sk-item sk-dashed-wrapped\"><div class=\"sk-label-container\"><div class=\"sk-label sk-toggleable\"><input class=\"sk-toggleable__control sk-hidden--visually\" id=\"sk-estimator-id-3\" type=\"checkbox\" ><label for=\"sk-estimator-id-3\" class=\"sk-toggleable__label sk-toggleable__label-arrow\">preprocessor: ColumnTransformer</label><div class=\"sk-toggleable__content\"><pre>ColumnTransformer(remainder=&#x27;passthrough&#x27;,\n",
       "                  transformers=[(&#x27;cat&#x27;,\n",
       "                                 Pipeline(steps=[(&#x27;simpleImputer_ohe&#x27;,\n",
       "                                                  SimpleImputer(strategy=&#x27;most_frequent&#x27;)),\n",
       "                                                 (&#x27;ohe&#x27;,\n",
       "                                                  OneHotEncoder(drop=&#x27;first&#x27;,\n",
       "                                                                handle_unknown=&#x27;ignore&#x27;,\n",
       "                                                                sparse=False))]),\n",
       "                                 [&#x27;region&#x27;, &#x27;lifetime_category&#x27;]),\n",
       "                                (&#x27;num&#x27;,\n",
       "                                 Pipeline(steps=[(&#x27;sImputer_nan_med&#x27;,\n",
       "                                                  SimpleImputer(strategy=&#x27;median&#x27;)),\n",
       "                                                 (&#x27;scaler&#x27;, StandardScaler())]),\n",
       "                                 [&#x27;funding_total_usd&#x27;, &#x27;funding_rounds&#x27;])])</pre></div></div></div><div class=\"sk-parallel\"><div class=\"sk-parallel-item\"><div class=\"sk-item\"><div class=\"sk-label-container\"><div class=\"sk-label sk-toggleable\"><input class=\"sk-toggleable__control sk-hidden--visually\" id=\"sk-estimator-id-4\" type=\"checkbox\" ><label for=\"sk-estimator-id-4\" class=\"sk-toggleable__label sk-toggleable__label-arrow\">cat</label><div class=\"sk-toggleable__content\"><pre>[&#x27;region&#x27;, &#x27;lifetime_category&#x27;]</pre></div></div></div><div class=\"sk-serial\"><div class=\"sk-item\"><div class=\"sk-serial\"><div class=\"sk-item\"><div class=\"sk-estimator sk-toggleable\"><input class=\"sk-toggleable__control sk-hidden--visually\" id=\"sk-estimator-id-5\" type=\"checkbox\" ><label for=\"sk-estimator-id-5\" class=\"sk-toggleable__label sk-toggleable__label-arrow\">SimpleImputer</label><div class=\"sk-toggleable__content\"><pre>SimpleImputer(strategy=&#x27;most_frequent&#x27;)</pre></div></div></div><div class=\"sk-item\"><div class=\"sk-estimator sk-toggleable\"><input class=\"sk-toggleable__control sk-hidden--visually\" id=\"sk-estimator-id-6\" type=\"checkbox\" ><label for=\"sk-estimator-id-6\" class=\"sk-toggleable__label sk-toggleable__label-arrow\">OneHotEncoder</label><div class=\"sk-toggleable__content\"><pre>OneHotEncoder(drop=&#x27;first&#x27;, handle_unknown=&#x27;ignore&#x27;, sparse=False)</pre></div></div></div></div></div></div></div></div><div class=\"sk-parallel-item\"><div class=\"sk-item\"><div class=\"sk-label-container\"><div class=\"sk-label sk-toggleable\"><input class=\"sk-toggleable__control sk-hidden--visually\" id=\"sk-estimator-id-7\" type=\"checkbox\" ><label for=\"sk-estimator-id-7\" class=\"sk-toggleable__label sk-toggleable__label-arrow\">num</label><div class=\"sk-toggleable__content\"><pre>[&#x27;funding_total_usd&#x27;, &#x27;funding_rounds&#x27;]</pre></div></div></div><div class=\"sk-serial\"><div class=\"sk-item\"><div class=\"sk-serial\"><div class=\"sk-item\"><div class=\"sk-estimator sk-toggleable\"><input class=\"sk-toggleable__control sk-hidden--visually\" id=\"sk-estimator-id-8\" type=\"checkbox\" ><label for=\"sk-estimator-id-8\" class=\"sk-toggleable__label sk-toggleable__label-arrow\">SimpleImputer</label><div class=\"sk-toggleable__content\"><pre>SimpleImputer(strategy=&#x27;median&#x27;)</pre></div></div></div><div class=\"sk-item\"><div class=\"sk-estimator sk-toggleable\"><input class=\"sk-toggleable__control sk-hidden--visually\" id=\"sk-estimator-id-9\" type=\"checkbox\" ><label for=\"sk-estimator-id-9\" class=\"sk-toggleable__label sk-toggleable__label-arrow\">StandardScaler</label><div class=\"sk-toggleable__content\"><pre>StandardScaler()</pre></div></div></div></div></div></div></div></div><div class=\"sk-parallel-item\"><div class=\"sk-item\"><div class=\"sk-label-container\"><div class=\"sk-label sk-toggleable\"><input class=\"sk-toggleable__control sk-hidden--visually\" id=\"sk-estimator-id-10\" type=\"checkbox\" ><label for=\"sk-estimator-id-10\" class=\"sk-toggleable__label sk-toggleable__label-arrow\">remainder</label><div class=\"sk-toggleable__content\"><pre></pre></div></div></div><div class=\"sk-serial\"><div class=\"sk-item\"><div class=\"sk-estimator sk-toggleable\"><input class=\"sk-toggleable__control sk-hidden--visually\" id=\"sk-estimator-id-11\" type=\"checkbox\" ><label for=\"sk-estimator-id-11\" class=\"sk-toggleable__label sk-toggleable__label-arrow\">passthrough</label><div class=\"sk-toggleable__content\"><pre>passthrough</pre></div></div></div></div></div></div></div></div><div class=\"sk-item\"><div class=\"sk-estimator sk-toggleable\"><input class=\"sk-toggleable__control sk-hidden--visually\" id=\"sk-estimator-id-12\" type=\"checkbox\" ><label for=\"sk-estimator-id-12\" class=\"sk-toggleable__label sk-toggleable__label-arrow\">DecisionTreeClassifier</label><div class=\"sk-toggleable__content\"><pre>DecisionTreeClassifier(random_state=42)</pre></div></div></div></div></div></div></div></div></div></div></div></div>"
      ],
      "text/plain": [
       "RandomizedSearchCV(cv=5,\n",
       "                   estimator=Pipeline(steps=[('preprocessor',\n",
       "                                              ColumnTransformer(remainder='passthrough',\n",
       "                                                                transformers=[('cat',\n",
       "                                                                               Pipeline(steps=[('simpleImputer_ohe',\n",
       "                                                                                                SimpleImputer(strategy='most_frequent')),\n",
       "                                                                                               ('ohe',\n",
       "                                                                                                OneHotEncoder(drop='first',\n",
       "                                                                                                              handle_unknown='ignore',\n",
       "                                                                                                              sparse=False))]),\n",
       "                                                                               ['region',\n",
       "                                                                                'lifetime_category']),\n",
       "                                                                              ('num',\n",
       "                                                                               Pipeline(steps=[('sImputer_na...\n",
       "                                                               'passthrough']},\n",
       "                                        {'models': [KNeighborsClassifier()],\n",
       "                                         'models__n_neighbors': range(2, 7),\n",
       "                                         'preprocessor__num': [StandardScaler(),\n",
       "                                                               MinMaxScaler(),\n",
       "                                                               'passthrough']},\n",
       "                                        {'models': [LogisticRegression(C=1,\n",
       "                                                                       penalty='l1',\n",
       "                                                                       random_state=42,\n",
       "                                                                       solver='liblinear')],\n",
       "                                         'models__C': range(1, 5),\n",
       "                                         'preprocessor__num': [StandardScaler(),\n",
       "                                                               MinMaxScaler(),\n",
       "                                                               'passthrough']}],\n",
       "                   random_state=42, scoring='f1')"
      ]
     },
     "execution_count": 47,
     "metadata": {},
     "output_type": "execute_result"
    }
   ],
   "source": [
    "param_grid = [\n",
    "    # словарь для модели DecisionTreeClassifier()\n",
    "    {\n",
    "        'models': [DecisionTreeClassifier(random_state=RANDOM_STATE)],\n",
    "        'models__max_depth': range(2,7),\n",
    "        'models__max_features': range(2,7),\n",
    "        'preprocessor__num': [StandardScaler(), MinMaxScaler(), 'passthrough']  \n",
    "    },\n",
    "    \n",
    "    # словарь для модели KNeighborsClassifier() \n",
    "    {\n",
    "        'models': [KNeighborsClassifier()],\n",
    "        'models__n_neighbors': range(2,7),\n",
    "        'preprocessor__num': [StandardScaler(), MinMaxScaler(), 'passthrough']   \n",
    "    },\n",
    "\n",
    "    # словарь для модели LogisticRegression()\n",
    "    {\n",
    "        'models': [LogisticRegression(\n",
    "            random_state=RANDOM_STATE, \n",
    "            solver='liblinear', \n",
    "            penalty='l1'\n",
    "        )],\n",
    "        'models__C': range(1, 5),\n",
    "        'preprocessor__num': [StandardScaler(), MinMaxScaler(), 'passthrough']  \n",
    "    }\n",
    "]\n",
    "\n",
    "randomized_search = RandomizedSearchCV(\n",
    "    pipe_final, \n",
    "    param_grid, \n",
    "    cv=5,\n",
    "    scoring='f1',\n",
    "    random_state=RANDOM_STATE,\n",
    "    n_jobs=-1\n",
    ")\n",
    "randomized_search.fit(X_train, y_train)"
   ]
  },
  {
   "cell_type": "code",
   "execution_count": 48,
   "metadata": {},
   "outputs": [
    {
     "name": "stdout",
     "output_type": "stream",
     "text": [
      "Лучшая модель и её параметры:\n",
      "\n",
      " Pipeline(steps=[('preprocessor',\n",
      "                 ColumnTransformer(remainder='passthrough',\n",
      "                                   transformers=[('cat',\n",
      "                                                  Pipeline(steps=[('simpleImputer_ohe',\n",
      "                                                                   SimpleImputer(strategy='most_frequent')),\n",
      "                                                                  ('ohe',\n",
      "                                                                   OneHotEncoder(drop='first',\n",
      "                                                                                 handle_unknown='ignore',\n",
      "                                                                                 sparse=False))]),\n",
      "                                                  ['region',\n",
      "                                                   'lifetime_category']),\n",
      "                                                 ('num', StandardScaler(),\n",
      "                                                  ['funding_total_usd',\n",
      "                                                   'funding_rounds'])])),\n",
      "                ('models',\n",
      "                 LogisticRegression(C=1, penalty='l1', random_state=42,\n",
      "                                    solver='liblinear'))])\n",
      "Метрика лучшей модели на тренировочной выборке: 0.9713831577625532\n"
     ]
    }
   ],
   "source": [
    "best_model = randomized_search.best_estimator_\n",
    "print('Лучшая модель и её параметры:\\n\\n', randomized_search.best_estimator_)\n",
    "print ('Метрика лучшей модели на тренировочной выборке:', randomized_search.best_score_)"
   ]
  },
  {
   "cell_type": "markdown",
   "metadata": {
    "id": "zG1sa3z45qXI"
   },
   "source": [
    "# ЭТАП 7. Оценка качества предсказания лучшей модели"
   ]
  },
  {
   "cell_type": "code",
   "execution_count": 49,
   "metadata": {},
   "outputs": [],
   "source": [
    "X_test = df_test.drop([\n",
    "    'name',\n",
    "    'last_funding_year',\n",
    "    'first_funding_year',\n",
    "    'main_category',\n",
    "    'lifetime'\n",
    "], axis=1)\n",
    "y_test = status['status']"
   ]
  },
  {
   "cell_type": "code",
   "execution_count": 50,
   "metadata": {},
   "outputs": [],
   "source": [
    "# С помощью LabelEncoder кодируем целевой признак, как 0 и 1 (closed и  perating)\n",
    "label_encoder = LabelEncoder()\n",
    "y_test = label_encoder.fit_transform(y_test)"
   ]
  },
  {
   "cell_type": "code",
   "execution_count": 51,
   "metadata": {},
   "outputs": [
    {
     "name": "stdout",
     "output_type": "stream",
     "text": [
      "Метрика f1_score на тестовой выборке: 0.6501041833627184\n"
     ]
    }
   ],
   "source": [
    "y_test_pred = randomized_search.best_estimator_.predict(X_test)\n",
    "print(f'Метрика f1_score на тестовой выборке: {f1_score(y_test, y_test_pred)}')"
   ]
  },
  {
   "cell_type": "markdown",
   "metadata": {
    "id": "pITqpwoa5qfY"
   },
   "source": [
    "# ЭТАП 8. Анализ важности признаков модели"
   ]
  },
  {
   "cell_type": "code",
   "execution_count": 52,
   "metadata": {},
   "outputs": [],
   "source": [
    "X_train_shap = pipe_final.named_steps['preprocessor'].fit_transform(X_train)\n",
    "\n",
    "feature_names = randomized_search.best_estimator_[:-1].get_feature_names_out()\n",
    "X_train_shap = pd.DataFrame(data=X_train_shap, columns=feature_names)\n",
    "\n",
    "explainer = shap.LinearExplainer(\n",
    "    randomized_search.best_estimator_.named_steps['models'],\n",
    "    X_train_shap\n",
    ")"
   ]
  },
  {
   "cell_type": "code",
   "execution_count": 53,
   "metadata": {},
   "outputs": [
    {
     "data": {
      "image/png": "[encoded data removed]",
      "text/plain": [
       "<Figure size 576x684 with 2 Axes>"
      ]
     },
     "metadata": {
      "needs_background": "light"
     },
     "output_type": "display_data"
    },
    {
     "data": {
      "image/png": "[encoded data removed]",
      "text/plain": [
       "<Figure size 576x828 with 3 Axes>"
      ]
     },
     "metadata": {},
     "output_type": "display_data"
    }
   ],
   "source": [
    "explainer = shap.LinearExplainer(\n",
    "    randomized_search.best_estimator_.named_steps['models'],\n",
    "    X_train_shap\n",
    ")\n",
    "\n",
    "feature_names = randomized_search.best_estimator_[:-1].get_feature_names_out()\n",
    "X_train_shap = pd.DataFrame(data=X_train_shap, columns=feature_names)\n",
    "\n",
    "shap_values = explainer(X_train_shap)\n",
    "\n",
    "shap.plots.beeswarm(shap_values, max_display=20)\n",
    "shap.plots.waterfall(shap_values[5], max_display=20) \n",
    "#display(shap.plots.bar(shap_values, max_display=23)"
   ]
  },
  {
   "cell_type": "code",
   "execution_count": 55,
   "metadata": {},
   "outputs": [
    {
     "data": {
      "text/plain": [
       "array(['cat__region_Central America', 'cat__region_Central Asia',\n",
       "       'cat__region_Central Europe', 'cat__region_East Asia',\n",
       "       'cat__region_Eastern Africa', 'cat__region_Eastern Europe',\n",
       "       'cat__region_Indian Ocean', 'cat__region_North America',\n",
       "       'cat__region_Northern Africa', 'cat__region_Northern Asia',\n",
       "       'cat__region_Northern Europe', 'cat__region_Pacific',\n",
       "       'cat__region_South America', 'cat__region_South Asia',\n",
       "       'cat__region_South East Asia', 'cat__region_South East Europe',\n",
       "       'cat__region_South West Asia', 'cat__region_South West Europe',\n",
       "       'cat__region_Southern Africa', 'cat__region_Southern Europe',\n",
       "       'cat__region_West Indies', 'cat__region_Western Africa',\n",
       "       'cat__region_Western Europe', 'cat__region_no_region',\n",
       "       'cat__lifetime_category_3-5 лет', 'cat__lifetime_category_5-7 лет',\n",
       "       'cat__lifetime_category_7-10 лет',\n",
       "       'cat__lifetime_category_более 20 лет',\n",
       "       'cat__lifetime_category_менее 3 лет', 'num__funding_total_usd',\n",
       "       'num__funding_rounds'], dtype=object)"
      ]
     },
     "execution_count": 55,
     "metadata": {},
     "output_type": "execute_result"
    }
   ],
   "source": [
    "randomized_search.best_estimator_[:-1].get_feature_names_out()"
   ]
  },
  {
   "cell_type": "code",
   "execution_count": 56,
   "metadata": {},
   "outputs": [],
   "source": [
    "X_test_shap = pipe_final.named_steps['preprocessor'].fit_transform(X_test)"
   ]
  },
  {
   "cell_type": "code",
   "execution_count": 57,
   "metadata": {},
   "outputs": [
    {
     "data": {
      "image/png": "[encoded data removed]",
      "text/plain": [
       "<Figure size 576x936 with 3 Axes>"
      ]
     },
     "metadata": {},
     "output_type": "display_data"
    }
   ],
   "source": [
    "shap.plots.waterfall(shap_values[1], max_display=23)"
   ]
  },
  {
   "cell_type": "markdown",
   "metadata": {
    "id": "z3bCmaLD6Siw"
   },
   "source": [
    "# ЭТАП 9. Отчет по исследованию"
   ]
  },
  {
   "cell_type": "markdown",
   "metadata": {},
   "source": [
    "Заказчик попросил решить следующие задачи:\n",
    "\n",
    "Разработать модель машинного обучения для предсказания продолжения деятельности стартапа.\n",
    "\n",
    "Провести полноценный разведочный анализ и сформировать рекомендации будущим создателям стартапов (какие факторы влияют на успешность бизнес идеи).\n",
    "\n",
    "Заказчик предоставил данные в 2 файлах: тренировочный набор (около 53 тыс. записей) и тестовый набор (около 13 тыс. записей). Cтолбцы с датами в датафрейме типизированы верно, за исключением колонки 'closed_at' в тренировочных данных. Нет столбцов с неверными десятичными разделителями.\n",
    "\n",
    "Датафрейм df_train состоит из 52 514 строк и 13 столбцов, имеет колонки с пропусками.\n",
    "Датафрейм df_test состоит из 13 125 строк и 11 столбцов, имеет колонки с пропусками.\n",
    "\n",
    "Замечено, что в датафрейме df_train есть колонка 'closed_at' а в df_test она отсутствует и добавлена 'lifetime'.\n",
    "\n",
    "В процессе предобработки данных:\n",
    "\n",
    "наименования колонок не требовали преобразования;\n",
    "обнаружены и заменены пропуски;\n",
    "исправлен тип данных для признака closed_at, колонки с 64-битными числовыми значениями преобразованы в 32-битные для оптимизации использования памяти;\n",
    "явных дубликатов, требующих дополнительной обработки не обнаружено. Но обнаружены дубликаты в данных без колонки name;\n",
    "добавлены новые колонки: 'region', 'lifetime', 'founded_at_year', 'last_fund_year', 'lifetime_category', 'main_category'.\n",
    "\n",
    "Предобработка потребовала незначительного удаления информации, потому 100% данных представлено к дальнейшему анализу.\n",
    "\n",
    "Результат исследовательского анализа\n",
    "\n",
    "исключены выбросы из df_train - объекты с общим объёмом инвестиций более 100 млн. долларов\n",
    "\n",
    "проведён корреляционный анализ для тренировочного датафрейма\n",
    "\n",
    "\n",
    "Обнаруженные особенности:\n",
    "\n",
    "Выполнена подготовка данных для применениях в моделях машинного обучения с помощью пайплайнов. Проведена замена целевого признака с помощью LabelEncoder.\n",
    "\n",
    "В рамках решения задачи классификации - прогнозирование статуса стартапа, были выбраны и обучены 3 модели: LogisticRegression, kNN, DecisionTreeClassifier. Поиск гиперпараметров вёлся с помощью RandomizedSearchCV. Метрика считалась на кросс-валидации. Лучшей моделью является логистическая регрессия. LogisticRegression показала хорошую метрику F1: 0.97.\n",
    "\n",
    "Выполнен поиск лучших признаков, которые дают максимальное значение метрики F1. \n",
    "\n",
    "Выполненная работа над проектом позволяет составить некоторые рекомендации:\n",
    "\n",
    "бОльшая часть стартапов из предоставленного датасета находятся в странах североамериканского и западноевропейского региона. Что говорит о развитой культуре открытия новых компаний. У предпринимателя будет высокая конкуренция, но и более высокий шанс на успех;\n",
    "количество раундов инвестирования и общая сумма финансирования не сильно влияют на жизнеспособность стратапа;\n",
    "наиболее большое количество как действующих, так и закрытых стартапов работают в сфере биотехнологий, разработки приложений, web-приложений, электронной коммерции и рекламы. Учитывая несбалансированность количества действующих и закрытых стартапов в пользу первых, участие предпринимателя в указанных сферах предоставят высокие шансы на успех;\n",
    "медианное время жизни закрывшегося стартапа - 3 года. Важно преодолеть этот период."
   ]
  },
  {
   "cell_type": "code",
   "execution_count": null,
   "metadata": {},
   "outputs": [],
   "source": []
  }
 ],
 "metadata": {
  "ExecuteTimeLog": [
   {
    "duration": 1682,
    "start_time": "2024-08-13T10:29:15.362Z"
   },
   {
    "duration": 83,
    "start_time": "2024-08-13T10:29:27.828Z"
   },
   {
    "duration": 6,
    "start_time": "2024-08-13T10:29:34.876Z"
   },
   {
    "duration": 250,
    "start_time": "2024-08-13T10:29:42.848Z"
   },
   {
    "duration": 116,
    "start_time": "2024-08-13T10:29:55.402Z"
   },
   {
    "duration": 16,
    "start_time": "2024-08-13T10:29:57.312Z"
   },
   {
    "duration": 29,
    "start_time": "2024-08-13T10:29:58.248Z"
   },
   {
    "duration": 20,
    "start_time": "2024-08-13T10:30:00.317Z"
   },
   {
    "duration": 49,
    "start_time": "2024-08-13T10:30:07.332Z"
   },
   {
    "duration": 11,
    "start_time": "2024-08-13T10:30:07.928Z"
   },
   {
    "duration": 9,
    "start_time": "2024-08-13T10:30:09.560Z"
   },
   {
    "duration": 81,
    "start_time": "2024-08-13T10:30:10.001Z"
   },
   {
    "duration": 18,
    "start_time": "2024-08-13T10:30:10.417Z"
   },
   {
    "duration": 31,
    "start_time": "2024-08-13T10:30:12.295Z"
   },
   {
    "duration": 1390,
    "start_time": "2024-08-13T10:31:22.027Z"
   },
   {
    "duration": 321,
    "start_time": "2024-08-13T10:31:23.419Z"
   },
   {
    "duration": 36,
    "start_time": "2024-08-13T10:31:23.742Z"
   },
   {
    "duration": 80,
    "start_time": "2024-08-13T10:31:23.781Z"
   },
   {
    "duration": 27,
    "start_time": "2024-08-13T10:31:23.863Z"
   },
   {
    "duration": 204,
    "start_time": "2024-08-13T10:31:23.891Z"
   },
   {
    "duration": 14,
    "start_time": "2024-08-13T10:31:24.097Z"
   },
   {
    "duration": 22,
    "start_time": "2024-08-13T10:31:24.113Z"
   },
   {
    "duration": 18,
    "start_time": "2024-08-13T10:31:24.137Z"
   },
   {
    "duration": 46,
    "start_time": "2024-08-13T10:31:24.157Z"
   },
   {
    "duration": 10,
    "start_time": "2024-08-13T10:31:24.205Z"
   },
   {
    "duration": 24,
    "start_time": "2024-08-13T10:31:24.217Z"
   },
   {
    "duration": 72,
    "start_time": "2024-08-13T10:31:24.243Z"
   },
   {
    "duration": 17,
    "start_time": "2024-08-13T10:31:24.317Z"
   },
   {
    "duration": 10,
    "start_time": "2024-08-13T10:31:24.336Z"
   },
   {
    "duration": 24,
    "start_time": "2024-08-13T10:31:24.348Z"
   },
   {
    "duration": 35,
    "start_time": "2024-08-13T10:31:24.373Z"
   },
   {
    "duration": 3,
    "start_time": "2024-08-13T10:31:24.410Z"
   },
   {
    "duration": 28,
    "start_time": "2024-08-13T10:31:24.415Z"
   },
   {
    "duration": 9,
    "start_time": "2024-08-13T10:31:24.445Z"
   },
   {
    "duration": 23,
    "start_time": "2024-08-13T10:31:24.456Z"
   },
   {
    "duration": 10,
    "start_time": "2024-08-13T10:31:24.480Z"
   },
   {
    "duration": 20,
    "start_time": "2024-08-13T10:31:24.491Z"
   },
   {
    "duration": 17,
    "start_time": "2024-08-13T10:31:24.512Z"
   },
   {
    "duration": 13882,
    "start_time": "2024-08-13T10:31:24.530Z"
   },
   {
    "duration": 12,
    "start_time": "2024-08-13T11:17:19.594Z"
   },
   {
    "duration": 13,
    "start_time": "2024-08-13T11:17:51.690Z"
   },
   {
    "duration": 32,
    "start_time": "2024-08-13T11:17:57.676Z"
   },
   {
    "duration": 10,
    "start_time": "2024-08-13T11:30:27.953Z"
   },
   {
    "duration": 7,
    "start_time": "2024-08-13T11:30:58.916Z"
   },
   {
    "duration": 24,
    "start_time": "2024-08-13T11:38:16.578Z"
   },
   {
    "duration": 16,
    "start_time": "2024-08-13T11:38:50.135Z"
   },
   {
    "duration": 348,
    "start_time": "2024-08-13T11:39:16.980Z"
   },
   {
    "duration": 360,
    "start_time": "2024-08-13T11:39:39.161Z"
   },
   {
    "duration": 2758,
    "start_time": "2024-08-13T11:39:47.624Z"
   },
   {
    "duration": 243,
    "start_time": "2024-08-13T11:40:26.304Z"
   },
   {
    "duration": 257,
    "start_time": "2024-08-13T11:40:30.203Z"
   },
   {
    "duration": 256,
    "start_time": "2024-08-13T11:40:43.760Z"
   },
   {
    "duration": 261,
    "start_time": "2024-08-13T11:41:15.382Z"
   },
   {
    "duration": 14,
    "start_time": "2024-08-13T11:46:08.217Z"
   },
   {
    "duration": 1458,
    "start_time": "2024-08-13T11:46:49.319Z"
   },
   {
    "duration": 371,
    "start_time": "2024-08-13T11:46:50.779Z"
   },
   {
    "duration": 36,
    "start_time": "2024-08-13T11:46:51.152Z"
   },
   {
    "duration": 134,
    "start_time": "2024-08-13T11:46:51.191Z"
   },
   {
    "duration": 0,
    "start_time": "2024-08-13T11:46:51.327Z"
   },
   {
    "duration": 0,
    "start_time": "2024-08-13T11:46:51.328Z"
   },
   {
    "duration": 0,
    "start_time": "2024-08-13T11:46:51.330Z"
   },
   {
    "duration": 0,
    "start_time": "2024-08-13T11:46:51.331Z"
   },
   {
    "duration": 0,
    "start_time": "2024-08-13T11:46:51.332Z"
   },
   {
    "duration": 0,
    "start_time": "2024-08-13T11:46:51.333Z"
   },
   {
    "duration": 0,
    "start_time": "2024-08-13T11:46:51.334Z"
   },
   {
    "duration": 0,
    "start_time": "2024-08-13T11:46:51.336Z"
   },
   {
    "duration": 0,
    "start_time": "2024-08-13T11:46:51.337Z"
   },
   {
    "duration": 0,
    "start_time": "2024-08-13T11:46:51.337Z"
   },
   {
    "duration": 0,
    "start_time": "2024-08-13T11:46:51.340Z"
   },
   {
    "duration": 0,
    "start_time": "2024-08-13T11:46:51.341Z"
   },
   {
    "duration": 0,
    "start_time": "2024-08-13T11:46:51.342Z"
   },
   {
    "duration": 0,
    "start_time": "2024-08-13T11:46:51.343Z"
   },
   {
    "duration": 0,
    "start_time": "2024-08-13T11:46:51.344Z"
   },
   {
    "duration": 0,
    "start_time": "2024-08-13T11:46:51.345Z"
   },
   {
    "duration": 0,
    "start_time": "2024-08-13T11:46:51.346Z"
   },
   {
    "duration": 0,
    "start_time": "2024-08-13T11:46:51.347Z"
   },
   {
    "duration": 0,
    "start_time": "2024-08-13T11:46:51.348Z"
   },
   {
    "duration": 0,
    "start_time": "2024-08-13T11:46:51.350Z"
   },
   {
    "duration": 0,
    "start_time": "2024-08-13T11:46:51.351Z"
   },
   {
    "duration": 0,
    "start_time": "2024-08-13T11:46:51.352Z"
   },
   {
    "duration": 0,
    "start_time": "2024-08-13T11:46:51.353Z"
   },
   {
    "duration": 1600,
    "start_time": "2024-08-13T11:47:21.906Z"
   },
   {
    "duration": 370,
    "start_time": "2024-08-13T11:47:23.507Z"
   },
   {
    "duration": 37,
    "start_time": "2024-08-13T11:47:23.879Z"
   },
   {
    "duration": 82,
    "start_time": "2024-08-13T11:47:23.918Z"
   },
   {
    "duration": 21,
    "start_time": "2024-08-13T11:47:24.004Z"
   },
   {
    "duration": 388,
    "start_time": "2024-08-13T11:47:24.027Z"
   },
   {
    "duration": 17,
    "start_time": "2024-08-13T11:47:24.417Z"
   },
   {
    "duration": 127,
    "start_time": "2024-08-13T11:47:24.435Z"
   },
   {
    "duration": 0,
    "start_time": "2024-08-13T11:47:24.564Z"
   },
   {
    "duration": 0,
    "start_time": "2024-08-13T11:47:24.565Z"
   },
   {
    "duration": 0,
    "start_time": "2024-08-13T11:47:24.567Z"
   },
   {
    "duration": 0,
    "start_time": "2024-08-13T11:47:24.568Z"
   },
   {
    "duration": 0,
    "start_time": "2024-08-13T11:47:24.569Z"
   },
   {
    "duration": 0,
    "start_time": "2024-08-13T11:47:24.570Z"
   },
   {
    "duration": 0,
    "start_time": "2024-08-13T11:47:24.572Z"
   },
   {
    "duration": 1,
    "start_time": "2024-08-13T11:47:24.572Z"
   },
   {
    "duration": 0,
    "start_time": "2024-08-13T11:47:24.574Z"
   },
   {
    "duration": 0,
    "start_time": "2024-08-13T11:47:24.575Z"
   },
   {
    "duration": 0,
    "start_time": "2024-08-13T11:47:24.576Z"
   },
   {
    "duration": 0,
    "start_time": "2024-08-13T11:47:24.577Z"
   },
   {
    "duration": 0,
    "start_time": "2024-08-13T11:47:24.578Z"
   },
   {
    "duration": 0,
    "start_time": "2024-08-13T11:47:24.606Z"
   },
   {
    "duration": 0,
    "start_time": "2024-08-13T11:47:24.607Z"
   },
   {
    "duration": 0,
    "start_time": "2024-08-13T11:47:24.609Z"
   },
   {
    "duration": 0,
    "start_time": "2024-08-13T11:47:24.610Z"
   },
   {
    "duration": 0,
    "start_time": "2024-08-13T11:47:24.611Z"
   },
   {
    "duration": 0,
    "start_time": "2024-08-13T11:47:24.612Z"
   },
   {
    "duration": 1678,
    "start_time": "2024-08-13T11:47:39.704Z"
   },
   {
    "duration": 817,
    "start_time": "2024-08-13T11:47:41.384Z"
   },
   {
    "duration": 35,
    "start_time": "2024-08-13T11:47:42.202Z"
   },
   {
    "duration": 75,
    "start_time": "2024-08-13T11:47:42.239Z"
   },
   {
    "duration": 20,
    "start_time": "2024-08-13T11:47:42.316Z"
   },
   {
    "duration": 178,
    "start_time": "2024-08-13T11:47:42.338Z"
   },
   {
    "duration": 16,
    "start_time": "2024-08-13T11:47:42.518Z"
   },
   {
    "duration": 24,
    "start_time": "2024-08-13T11:47:42.536Z"
   },
   {
    "duration": 28,
    "start_time": "2024-08-13T11:47:42.562Z"
   },
   {
    "duration": 130,
    "start_time": "2024-08-13T11:47:42.593Z"
   },
   {
    "duration": 11,
    "start_time": "2024-08-13T11:47:42.724Z"
   },
   {
    "duration": 22,
    "start_time": "2024-08-13T11:47:42.736Z"
   },
   {
    "duration": 99,
    "start_time": "2024-08-13T11:47:42.759Z"
   },
   {
    "duration": 18,
    "start_time": "2024-08-13T11:47:42.859Z"
   },
   {
    "duration": 12,
    "start_time": "2024-08-13T11:47:42.879Z"
   },
   {
    "duration": 20,
    "start_time": "2024-08-13T11:47:42.905Z"
   },
   {
    "duration": 58,
    "start_time": "2024-08-13T11:47:42.927Z"
   },
   {
    "duration": 27,
    "start_time": "2024-08-13T11:47:42.987Z"
   },
   {
    "duration": 49,
    "start_time": "2024-08-13T11:47:43.016Z"
   },
   {
    "duration": 11,
    "start_time": "2024-08-13T11:47:43.066Z"
   },
   {
    "duration": 25,
    "start_time": "2024-08-13T11:47:43.079Z"
   },
   {
    "duration": 21,
    "start_time": "2024-08-13T11:47:43.106Z"
   },
   {
    "duration": 55,
    "start_time": "2024-08-13T11:47:43.129Z"
   },
   {
    "duration": 127,
    "start_time": "2024-08-13T11:47:43.186Z"
   },
   {
    "duration": 0,
    "start_time": "2024-08-13T11:47:43.314Z"
   },
   {
    "duration": 0,
    "start_time": "2024-08-13T11:47:43.316Z"
   },
   {
    "duration": 0,
    "start_time": "2024-08-13T11:47:43.317Z"
   },
   {
    "duration": 246,
    "start_time": "2024-08-13T11:47:52.508Z"
   },
   {
    "duration": 8,
    "start_time": "2024-08-13T11:50:58.064Z"
   },
   {
    "duration": 6,
    "start_time": "2024-08-13T11:51:04.493Z"
   },
   {
    "duration": 7,
    "start_time": "2024-08-13T11:51:24.211Z"
   },
   {
    "duration": 7,
    "start_time": "2024-08-13T11:51:32.097Z"
   },
   {
    "duration": 9,
    "start_time": "2024-08-13T11:52:04.653Z"
   },
   {
    "duration": 8,
    "start_time": "2024-08-13T11:52:15.206Z"
   },
   {
    "duration": 206,
    "start_time": "2024-08-13T11:53:51.153Z"
   },
   {
    "duration": 108,
    "start_time": "2024-08-13T11:54:17.184Z"
   },
   {
    "duration": 16,
    "start_time": "2024-08-13T11:54:21.309Z"
   },
   {
    "duration": 1429,
    "start_time": "2024-08-13T11:58:27.221Z"
   },
   {
    "duration": 259,
    "start_time": "2024-08-13T11:58:28.652Z"
   },
   {
    "duration": 36,
    "start_time": "2024-08-13T11:58:28.913Z"
   },
   {
    "duration": 87,
    "start_time": "2024-08-13T11:58:28.950Z"
   },
   {
    "duration": 22,
    "start_time": "2024-08-13T11:58:29.040Z"
   },
   {
    "duration": 94,
    "start_time": "2024-08-13T11:58:29.063Z"
   },
   {
    "duration": 16,
    "start_time": "2024-08-13T11:58:29.159Z"
   },
   {
    "duration": 37,
    "start_time": "2024-08-13T11:58:29.177Z"
   },
   {
    "duration": 20,
    "start_time": "2024-08-13T11:58:29.216Z"
   },
   {
    "duration": 41,
    "start_time": "2024-08-13T11:58:29.237Z"
   },
   {
    "duration": 12,
    "start_time": "2024-08-13T11:58:29.280Z"
   },
   {
    "duration": 12,
    "start_time": "2024-08-13T11:58:29.293Z"
   },
   {
    "duration": 73,
    "start_time": "2024-08-13T11:58:29.306Z"
   },
   {
    "duration": 28,
    "start_time": "2024-08-13T11:58:29.383Z"
   },
   {
    "duration": 13,
    "start_time": "2024-08-13T11:58:29.413Z"
   },
   {
    "duration": 17,
    "start_time": "2024-08-13T11:58:29.428Z"
   },
   {
    "duration": 26,
    "start_time": "2024-08-13T11:58:29.447Z"
   },
   {
    "duration": 13,
    "start_time": "2024-08-13T11:58:29.474Z"
   },
   {
    "duration": 26,
    "start_time": "2024-08-13T11:58:29.506Z"
   },
   {
    "duration": 71,
    "start_time": "2024-08-13T11:58:29.534Z"
   },
   {
    "duration": 3,
    "start_time": "2024-08-13T11:58:29.606Z"
   },
   {
    "duration": 45,
    "start_time": "2024-08-13T11:58:29.611Z"
   },
   {
    "duration": 23,
    "start_time": "2024-08-13T11:58:29.658Z"
   },
   {
    "duration": 320,
    "start_time": "2024-08-13T11:58:29.683Z"
   },
   {
    "duration": 11,
    "start_time": "2024-08-13T11:58:30.005Z"
   },
   {
    "duration": 15,
    "start_time": "2024-08-13T12:00:47.476Z"
   },
   {
    "duration": 127,
    "start_time": "2024-08-13T12:01:25.235Z"
   },
   {
    "duration": 1558,
    "start_time": "2024-08-13T12:01:32.625Z"
   },
   {
    "duration": 275,
    "start_time": "2024-08-13T12:01:34.184Z"
   },
   {
    "duration": 49,
    "start_time": "2024-08-13T12:01:34.460Z"
   },
   {
    "duration": 67,
    "start_time": "2024-08-13T12:01:34.511Z"
   },
   {
    "duration": 41,
    "start_time": "2024-08-13T12:01:34.579Z"
   },
   {
    "duration": 115,
    "start_time": "2024-08-13T12:01:34.622Z"
   },
   {
    "duration": 15,
    "start_time": "2024-08-13T12:01:34.739Z"
   },
   {
    "duration": 30,
    "start_time": "2024-08-13T12:01:34.756Z"
   },
   {
    "duration": 33,
    "start_time": "2024-08-13T12:01:34.787Z"
   },
   {
    "duration": 51,
    "start_time": "2024-08-13T12:01:34.823Z"
   },
   {
    "duration": 17,
    "start_time": "2024-08-13T12:01:34.876Z"
   },
   {
    "duration": 12,
    "start_time": "2024-08-13T12:01:34.895Z"
   },
   {
    "duration": 71,
    "start_time": "2024-08-13T12:01:34.909Z"
   },
   {
    "duration": 30,
    "start_time": "2024-08-13T12:01:34.981Z"
   },
   {
    "duration": 11,
    "start_time": "2024-08-13T12:01:35.013Z"
   },
   {
    "duration": 24,
    "start_time": "2024-08-13T12:01:35.025Z"
   },
   {
    "duration": 31,
    "start_time": "2024-08-13T12:01:35.050Z"
   },
   {
    "duration": 12,
    "start_time": "2024-08-13T12:01:35.083Z"
   },
   {
    "duration": 26,
    "start_time": "2024-08-13T12:01:35.105Z"
   },
   {
    "duration": 10,
    "start_time": "2024-08-13T12:01:35.133Z"
   },
   {
    "duration": 10,
    "start_time": "2024-08-13T12:01:35.145Z"
   },
   {
    "duration": 25,
    "start_time": "2024-08-13T12:01:35.157Z"
   },
   {
    "duration": 14,
    "start_time": "2024-08-13T12:01:35.184Z"
   },
   {
    "duration": 261,
    "start_time": "2024-08-13T12:01:35.200Z"
   },
   {
    "duration": 16,
    "start_time": "2024-08-13T12:01:35.463Z"
   },
   {
    "duration": 2,
    "start_time": "2024-08-13T12:02:23.447Z"
   },
   {
    "duration": 11,
    "start_time": "2024-08-13T12:03:01.915Z"
   },
   {
    "duration": 713,
    "start_time": "2024-08-13T12:03:44.316Z"
   },
   {
    "duration": 120,
    "start_time": "2024-08-13T12:03:51.715Z"
   },
   {
    "duration": 16,
    "start_time": "2024-08-13T12:04:00.524Z"
   },
   {
    "duration": 15,
    "start_time": "2024-08-13T12:04:08.383Z"
   },
   {
    "duration": 10,
    "start_time": "2024-08-13T12:10:05.801Z"
   },
   {
    "duration": 16,
    "start_time": "2024-08-13T12:10:15.187Z"
   },
   {
    "duration": 14,
    "start_time": "2024-08-13T12:10:22.143Z"
   },
   {
    "duration": 46,
    "start_time": "2024-08-13T12:13:39.231Z"
   },
   {
    "duration": 58,
    "start_time": "2024-08-13T12:13:57.369Z"
   },
   {
    "duration": 26,
    "start_time": "2024-08-13T12:14:22.939Z"
   },
   {
    "duration": 17,
    "start_time": "2024-08-13T12:15:03.138Z"
   },
   {
    "duration": 1886,
    "start_time": "2024-08-13T12:15:08.740Z"
   },
   {
    "duration": 13,
    "start_time": "2024-08-13T12:15:25.558Z"
   },
   {
    "duration": 10,
    "start_time": "2024-08-13T12:15:28.682Z"
   },
   {
    "duration": 1507,
    "start_time": "2024-08-13T12:17:56.422Z"
   },
   {
    "duration": 347,
    "start_time": "2024-08-13T12:17:57.931Z"
   },
   {
    "duration": 35,
    "start_time": "2024-08-13T12:17:58.280Z"
   },
   {
    "duration": 76,
    "start_time": "2024-08-13T12:17:58.317Z"
   },
   {
    "duration": 23,
    "start_time": "2024-08-13T12:17:58.395Z"
   },
   {
    "duration": 1078,
    "start_time": "2024-08-13T12:17:58.420Z"
   },
   {
    "duration": 18,
    "start_time": "2024-08-13T12:17:59.499Z"
   },
   {
    "duration": 23,
    "start_time": "2024-08-13T12:17:59.519Z"
   },
   {
    "duration": 39,
    "start_time": "2024-08-13T12:17:59.544Z"
   },
   {
    "duration": 72,
    "start_time": "2024-08-13T12:17:59.585Z"
   },
   {
    "duration": 11,
    "start_time": "2024-08-13T12:17:59.659Z"
   },
   {
    "duration": 19,
    "start_time": "2024-08-13T12:17:59.672Z"
   },
   {
    "duration": 81,
    "start_time": "2024-08-13T12:17:59.693Z"
   },
   {
    "duration": 76,
    "start_time": "2024-08-13T12:17:59.777Z"
   },
   {
    "duration": 19,
    "start_time": "2024-08-13T12:17:59.855Z"
   },
   {
    "duration": 18,
    "start_time": "2024-08-13T12:17:59.876Z"
   },
   {
    "duration": 96,
    "start_time": "2024-08-13T12:17:59.896Z"
   },
   {
    "duration": 85,
    "start_time": "2024-08-13T12:17:59.993Z"
   },
   {
    "duration": 73,
    "start_time": "2024-08-13T12:18:00.080Z"
   },
   {
    "duration": 68,
    "start_time": "2024-08-13T12:18:00.154Z"
   },
   {
    "duration": 333,
    "start_time": "2024-08-13T12:18:00.224Z"
   },
   {
    "duration": 60,
    "start_time": "2024-08-13T12:18:00.559Z"
   },
   {
    "duration": 80,
    "start_time": "2024-08-13T12:18:00.621Z"
   },
   {
    "duration": 297,
    "start_time": "2024-08-13T12:18:00.703Z"
   },
   {
    "duration": 16,
    "start_time": "2024-08-13T12:18:01.005Z"
   },
   {
    "duration": 51,
    "start_time": "2024-08-13T12:18:01.024Z"
   },
   {
    "duration": 101,
    "start_time": "2024-08-13T12:18:01.077Z"
   },
   {
    "duration": 124,
    "start_time": "2024-08-13T12:18:01.180Z"
   },
   {
    "duration": 38,
    "start_time": "2024-08-13T12:18:01.306Z"
   },
   {
    "duration": 158,
    "start_time": "2024-08-13T12:20:34.825Z"
   },
   {
    "duration": 10,
    "start_time": "2024-08-13T12:20:38.291Z"
   },
   {
    "duration": 10,
    "start_time": "2024-08-13T12:20:59.591Z"
   },
   {
    "duration": 24,
    "start_time": "2024-08-13T12:23:14.885Z"
   },
   {
    "duration": 17,
    "start_time": "2024-08-13T12:23:29.136Z"
   },
   {
    "duration": 27,
    "start_time": "2024-08-13T12:27:32.915Z"
   },
   {
    "duration": 13,
    "start_time": "2024-08-13T12:27:51.927Z"
   },
   {
    "duration": 16469,
    "start_time": "2024-08-13T12:31:16.453Z"
   },
   {
    "duration": 467,
    "start_time": "2024-08-13T12:31:41.127Z"
   },
   {
    "duration": 5195,
    "start_time": "2024-08-13T12:32:13.748Z"
   },
   {
    "duration": 1677,
    "start_time": "2024-08-13T12:32:18.947Z"
   },
   {
    "duration": 349,
    "start_time": "2024-08-13T12:32:20.626Z"
   },
   {
    "duration": 40,
    "start_time": "2024-08-13T12:32:20.977Z"
   },
   {
    "duration": 92,
    "start_time": "2024-08-13T12:32:21.019Z"
   },
   {
    "duration": 23,
    "start_time": "2024-08-13T12:32:21.113Z"
   },
   {
    "duration": 136,
    "start_time": "2024-08-13T12:32:21.137Z"
   },
   {
    "duration": 16,
    "start_time": "2024-08-13T12:32:21.274Z"
   },
   {
    "duration": 71,
    "start_time": "2024-08-13T12:32:21.291Z"
   },
   {
    "duration": 20,
    "start_time": "2024-08-13T12:32:21.364Z"
   },
   {
    "duration": 74,
    "start_time": "2024-08-13T12:32:21.386Z"
   },
   {
    "duration": 10,
    "start_time": "2024-08-13T12:32:21.462Z"
   },
   {
    "duration": 18,
    "start_time": "2024-08-13T12:32:21.474Z"
   },
   {
    "duration": 78,
    "start_time": "2024-08-13T12:32:21.493Z"
   },
   {
    "duration": 17,
    "start_time": "2024-08-13T12:32:21.572Z"
   },
   {
    "duration": 19,
    "start_time": "2024-08-13T12:32:21.591Z"
   },
   {
    "duration": 12,
    "start_time": "2024-08-13T12:32:21.612Z"
   },
   {
    "duration": 36,
    "start_time": "2024-08-13T12:32:21.626Z"
   },
   {
    "duration": 4,
    "start_time": "2024-08-13T12:32:21.664Z"
   },
   {
    "duration": 30,
    "start_time": "2024-08-13T12:32:21.669Z"
   },
   {
    "duration": 10,
    "start_time": "2024-08-13T12:32:21.705Z"
   },
   {
    "duration": 14,
    "start_time": "2024-08-13T12:32:21.716Z"
   },
   {
    "duration": 19,
    "start_time": "2024-08-13T12:32:21.731Z"
   },
   {
    "duration": 24,
    "start_time": "2024-08-13T12:32:21.751Z"
   },
   {
    "duration": 257,
    "start_time": "2024-08-13T12:32:21.777Z"
   },
   {
    "duration": 16,
    "start_time": "2024-08-13T12:32:22.036Z"
   },
   {
    "duration": 40,
    "start_time": "2024-08-13T12:32:22.054Z"
   },
   {
    "duration": 45,
    "start_time": "2024-08-13T12:32:22.097Z"
   },
   {
    "duration": 28,
    "start_time": "2024-08-13T12:32:22.144Z"
   },
   {
    "duration": 10,
    "start_time": "2024-08-13T12:32:22.174Z"
   },
   {
    "duration": 33,
    "start_time": "2024-08-13T12:32:22.186Z"
   },
   {
    "duration": 24,
    "start_time": "2024-08-13T12:32:22.221Z"
   },
   {
    "duration": 38,
    "start_time": "2024-08-13T12:32:22.246Z"
   },
   {
    "duration": 5736,
    "start_time": "2024-08-13T12:40:02.299Z"
   },
   {
    "duration": 3339,
    "start_time": "2024-08-13T12:40:08.038Z"
   },
   {
    "duration": 361,
    "start_time": "2024-08-13T12:40:11.379Z"
   },
   {
    "duration": 37,
    "start_time": "2024-08-13T12:40:11.743Z"
   },
   {
    "duration": 79,
    "start_time": "2024-08-13T12:40:11.782Z"
   },
   {
    "duration": 22,
    "start_time": "2024-08-13T12:40:11.863Z"
   },
   {
    "duration": 239,
    "start_time": "2024-08-13T12:40:11.887Z"
   },
   {
    "duration": 16,
    "start_time": "2024-08-13T12:40:12.128Z"
   },
   {
    "duration": 30,
    "start_time": "2024-08-13T12:40:12.146Z"
   },
   {
    "duration": 29,
    "start_time": "2024-08-13T12:40:12.179Z"
   },
   {
    "duration": 42,
    "start_time": "2024-08-13T12:40:12.209Z"
   },
   {
    "duration": 10,
    "start_time": "2024-08-13T12:40:12.252Z"
   },
   {
    "duration": 12,
    "start_time": "2024-08-13T12:40:12.263Z"
   },
   {
    "duration": 79,
    "start_time": "2024-08-13T12:40:12.277Z"
   },
   {
    "duration": 35,
    "start_time": "2024-08-13T12:40:12.358Z"
   },
   {
    "duration": 11,
    "start_time": "2024-08-13T12:40:12.395Z"
   },
   {
    "duration": 13,
    "start_time": "2024-08-13T12:40:12.408Z"
   },
   {
    "duration": 31,
    "start_time": "2024-08-13T12:40:12.422Z"
   },
   {
    "duration": 8,
    "start_time": "2024-08-13T12:40:12.455Z"
   },
   {
    "duration": 41,
    "start_time": "2024-08-13T12:40:12.465Z"
   },
   {
    "duration": 97,
    "start_time": "2024-08-13T12:40:12.507Z"
   },
   {
    "duration": 10,
    "start_time": "2024-08-13T12:40:12.605Z"
   },
   {
    "duration": 18,
    "start_time": "2024-08-13T12:40:12.616Z"
   },
   {
    "duration": 29,
    "start_time": "2024-08-13T12:40:12.635Z"
   },
   {
    "duration": 262,
    "start_time": "2024-08-13T12:40:12.665Z"
   },
   {
    "duration": 18,
    "start_time": "2024-08-13T12:40:12.928Z"
   },
   {
    "duration": 17,
    "start_time": "2024-08-13T12:40:12.948Z"
   },
   {
    "duration": 56,
    "start_time": "2024-08-13T12:40:12.968Z"
   },
   {
    "duration": 22,
    "start_time": "2024-08-13T12:40:13.025Z"
   },
   {
    "duration": 11,
    "start_time": "2024-08-13T12:40:13.049Z"
   },
   {
    "duration": 17,
    "start_time": "2024-08-13T12:40:13.062Z"
   },
   {
    "duration": 23,
    "start_time": "2024-08-13T12:40:13.106Z"
   },
   {
    "duration": 13,
    "start_time": "2024-08-13T12:40:13.130Z"
   },
   {
    "duration": 49,
    "start_time": "2024-08-13T12:41:22.032Z"
   },
   {
    "duration": 5135,
    "start_time": "2024-08-13T12:41:31.478Z"
   },
   {
    "duration": 3277,
    "start_time": "2024-08-13T12:41:36.616Z"
   },
   {
    "duration": 320,
    "start_time": "2024-08-13T12:41:39.895Z"
   },
   {
    "duration": 38,
    "start_time": "2024-08-13T12:41:40.217Z"
   },
   {
    "duration": 82,
    "start_time": "2024-08-13T12:41:40.257Z"
   },
   {
    "duration": 23,
    "start_time": "2024-08-13T12:41:40.341Z"
   },
   {
    "duration": 84,
    "start_time": "2024-08-13T12:41:40.366Z"
   },
   {
    "duration": 15,
    "start_time": "2024-08-13T12:41:40.452Z"
   },
   {
    "duration": 22,
    "start_time": "2024-08-13T12:41:40.469Z"
   },
   {
    "duration": 27,
    "start_time": "2024-08-13T12:41:40.494Z"
   },
   {
    "duration": 130,
    "start_time": "2024-08-13T12:41:40.523Z"
   },
   {
    "duration": 11,
    "start_time": "2024-08-13T12:41:40.655Z"
   },
   {
    "duration": 17,
    "start_time": "2024-08-13T12:41:40.668Z"
   },
   {
    "duration": 70,
    "start_time": "2024-08-13T12:41:40.687Z"
   },
   {
    "duration": 18,
    "start_time": "2024-08-13T12:41:40.759Z"
   },
   {
    "duration": 26,
    "start_time": "2024-08-13T12:41:40.779Z"
   },
   {
    "duration": 14,
    "start_time": "2024-08-13T12:41:40.807Z"
   },
   {
    "duration": 29,
    "start_time": "2024-08-13T12:41:40.822Z"
   },
   {
    "duration": 4,
    "start_time": "2024-08-13T12:41:40.852Z"
   },
   {
    "duration": 27,
    "start_time": "2024-08-13T12:41:40.858Z"
   },
   {
    "duration": 27,
    "start_time": "2024-08-13T12:41:40.887Z"
   },
   {
    "duration": 5,
    "start_time": "2024-08-13T12:41:40.916Z"
   },
   {
    "duration": 10,
    "start_time": "2024-08-13T12:41:40.923Z"
   },
   {
    "duration": 7,
    "start_time": "2024-08-13T12:41:40.934Z"
   },
   {
    "duration": 273,
    "start_time": "2024-08-13T12:41:40.942Z"
   },
   {
    "duration": 15,
    "start_time": "2024-08-13T12:41:41.217Z"
   },
   {
    "duration": 30,
    "start_time": "2024-08-13T12:41:41.234Z"
   },
   {
    "duration": 46,
    "start_time": "2024-08-13T12:41:41.267Z"
   },
   {
    "duration": 21,
    "start_time": "2024-08-13T12:41:41.314Z"
   },
   {
    "duration": 26,
    "start_time": "2024-08-13T12:41:41.336Z"
   },
   {
    "duration": 37,
    "start_time": "2024-08-13T12:41:41.364Z"
   },
   {
    "duration": 22,
    "start_time": "2024-08-13T12:41:41.403Z"
   },
   {
    "duration": 22,
    "start_time": "2024-08-13T12:41:41.427Z"
   },
   {
    "duration": 5255,
    "start_time": "2024-08-13T12:43:18.985Z"
   },
   {
    "duration": 2976,
    "start_time": "2024-08-13T12:43:24.243Z"
   },
   {
    "duration": 271,
    "start_time": "2024-08-13T12:43:27.220Z"
   },
   {
    "duration": 42,
    "start_time": "2024-08-13T12:43:27.493Z"
   },
   {
    "duration": 76,
    "start_time": "2024-08-13T12:43:27.537Z"
   },
   {
    "duration": 22,
    "start_time": "2024-08-13T12:43:27.615Z"
   },
   {
    "duration": 99,
    "start_time": "2024-08-13T12:43:27.638Z"
   },
   {
    "duration": 15,
    "start_time": "2024-08-13T12:43:27.739Z"
   },
   {
    "duration": 23,
    "start_time": "2024-08-13T12:43:27.756Z"
   },
   {
    "duration": 31,
    "start_time": "2024-08-13T12:43:27.781Z"
   },
   {
    "duration": 48,
    "start_time": "2024-08-13T12:43:27.814Z"
   },
   {
    "duration": 11,
    "start_time": "2024-08-13T12:43:27.863Z"
   },
   {
    "duration": 54,
    "start_time": "2024-08-13T12:43:27.876Z"
   },
   {
    "duration": 71,
    "start_time": "2024-08-13T12:43:27.934Z"
   },
   {
    "duration": 21,
    "start_time": "2024-08-13T12:43:28.006Z"
   },
   {
    "duration": 35,
    "start_time": "2024-08-13T12:43:28.029Z"
   },
   {
    "duration": 13,
    "start_time": "2024-08-13T12:43:28.065Z"
   },
   {
    "duration": 37,
    "start_time": "2024-08-13T12:43:28.080Z"
   },
   {
    "duration": 14,
    "start_time": "2024-08-13T12:43:28.119Z"
   },
   {
    "duration": 36,
    "start_time": "2024-08-13T12:43:28.134Z"
   },
   {
    "duration": 21,
    "start_time": "2024-08-13T12:43:28.172Z"
   },
   {
    "duration": 5,
    "start_time": "2024-08-13T12:43:28.196Z"
   },
   {
    "duration": 19,
    "start_time": "2024-08-13T12:43:28.203Z"
   },
   {
    "duration": 9,
    "start_time": "2024-08-13T12:43:28.224Z"
   },
   {
    "duration": 282,
    "start_time": "2024-08-13T12:43:28.235Z"
   },
   {
    "duration": 17,
    "start_time": "2024-08-13T12:43:28.519Z"
   },
   {
    "duration": 112,
    "start_time": "2024-08-13T12:43:28.538Z"
   },
   {
    "duration": 43,
    "start_time": "2024-08-13T12:43:28.652Z"
   },
   {
    "duration": 22,
    "start_time": "2024-08-13T12:43:28.697Z"
   },
   {
    "duration": 12,
    "start_time": "2024-08-13T12:43:28.720Z"
   },
   {
    "duration": 19,
    "start_time": "2024-08-13T12:43:28.733Z"
   },
   {
    "duration": 22,
    "start_time": "2024-08-13T12:43:28.754Z"
   },
   {
    "duration": 34,
    "start_time": "2024-08-13T12:43:28.778Z"
   },
   {
    "duration": 49,
    "start_time": "2024-08-13T12:44:38.989Z"
   },
   {
    "duration": 5325,
    "start_time": "2024-08-13T12:45:57.107Z"
   },
   {
    "duration": 3054,
    "start_time": "2024-08-13T12:46:02.434Z"
   },
   {
    "duration": 272,
    "start_time": "2024-08-13T12:46:05.489Z"
   },
   {
    "duration": 41,
    "start_time": "2024-08-13T12:46:05.764Z"
   },
   {
    "duration": 78,
    "start_time": "2024-08-13T12:46:05.807Z"
   },
   {
    "duration": 20,
    "start_time": "2024-08-13T12:46:05.887Z"
   },
   {
    "duration": 115,
    "start_time": "2024-08-13T12:46:05.909Z"
   },
   {
    "duration": 18,
    "start_time": "2024-08-13T12:46:06.026Z"
   },
   {
    "duration": 35,
    "start_time": "2024-08-13T12:46:06.046Z"
   },
   {
    "duration": 29,
    "start_time": "2024-08-13T12:46:06.084Z"
   },
   {
    "duration": 41,
    "start_time": "2024-08-13T12:46:06.115Z"
   },
   {
    "duration": 11,
    "start_time": "2024-08-13T12:46:06.158Z"
   },
   {
    "duration": 12,
    "start_time": "2024-08-13T12:46:06.171Z"
   },
   {
    "duration": 77,
    "start_time": "2024-08-13T12:46:06.185Z"
   },
   {
    "duration": 19,
    "start_time": "2024-08-13T12:46:06.264Z"
   },
   {
    "duration": 30,
    "start_time": "2024-08-13T12:46:06.285Z"
   },
   {
    "duration": 103,
    "start_time": "2024-08-13T12:46:06.317Z"
   },
   {
    "duration": 26,
    "start_time": "2024-08-13T12:46:06.421Z"
   },
   {
    "duration": 31,
    "start_time": "2024-08-13T12:46:06.449Z"
   },
   {
    "duration": 32,
    "start_time": "2024-08-13T12:46:06.482Z"
   },
   {
    "duration": 11,
    "start_time": "2024-08-13T12:46:06.516Z"
   },
   {
    "duration": 96,
    "start_time": "2024-08-13T12:46:06.529Z"
   },
   {
    "duration": 11,
    "start_time": "2024-08-13T12:46:06.627Z"
   },
   {
    "duration": 27,
    "start_time": "2024-08-13T12:46:06.639Z"
   },
   {
    "duration": 287,
    "start_time": "2024-08-13T12:46:06.668Z"
   },
   {
    "duration": 17,
    "start_time": "2024-08-13T12:46:06.957Z"
   },
   {
    "duration": 32,
    "start_time": "2024-08-13T12:46:06.976Z"
   },
   {
    "duration": 44,
    "start_time": "2024-08-13T12:46:07.012Z"
   },
   {
    "duration": 20,
    "start_time": "2024-08-13T12:46:07.058Z"
   },
   {
    "duration": 33,
    "start_time": "2024-08-13T12:46:07.080Z"
   },
   {
    "duration": 18,
    "start_time": "2024-08-13T12:46:07.114Z"
   },
   {
    "duration": 24,
    "start_time": "2024-08-13T12:46:07.133Z"
   },
   {
    "duration": 17,
    "start_time": "2024-08-13T12:46:07.158Z"
   },
   {
    "duration": 52,
    "start_time": "2024-08-13T12:46:07.176Z"
   },
   {
    "duration": 5158,
    "start_time": "2024-08-13T12:47:49.078Z"
   },
   {
    "duration": 2941,
    "start_time": "2024-08-13T12:47:54.238Z"
   },
   {
    "duration": 256,
    "start_time": "2024-08-13T12:47:57.181Z"
   },
   {
    "duration": 36,
    "start_time": "2024-08-13T12:47:57.439Z"
   },
   {
    "duration": 77,
    "start_time": "2024-08-13T12:47:57.477Z"
   },
   {
    "duration": 23,
    "start_time": "2024-08-13T12:47:57.555Z"
   },
   {
    "duration": 82,
    "start_time": "2024-08-13T12:47:57.579Z"
   },
   {
    "duration": 17,
    "start_time": "2024-08-13T12:47:57.663Z"
   },
   {
    "duration": 22,
    "start_time": "2024-08-13T12:47:57.681Z"
   },
   {
    "duration": 20,
    "start_time": "2024-08-13T12:47:57.706Z"
   },
   {
    "duration": 53,
    "start_time": "2024-08-13T12:47:57.728Z"
   },
   {
    "duration": 11,
    "start_time": "2024-08-13T12:47:57.783Z"
   },
   {
    "duration": 22,
    "start_time": "2024-08-13T12:47:57.795Z"
   },
   {
    "duration": 72,
    "start_time": "2024-08-13T12:47:57.819Z"
   },
   {
    "duration": 18,
    "start_time": "2024-08-13T12:47:57.893Z"
   },
   {
    "duration": 22,
    "start_time": "2024-08-13T12:47:57.913Z"
   },
   {
    "duration": 19,
    "start_time": "2024-08-13T12:47:57.937Z"
   },
   {
    "duration": 39,
    "start_time": "2024-08-13T12:47:57.958Z"
   },
   {
    "duration": 47,
    "start_time": "2024-08-13T12:47:57.999Z"
   },
   {
    "duration": 60,
    "start_time": "2024-08-13T12:47:58.048Z"
   },
   {
    "duration": 32,
    "start_time": "2024-08-13T12:47:58.110Z"
   },
   {
    "duration": 36,
    "start_time": "2024-08-13T12:47:58.144Z"
   },
   {
    "duration": 42,
    "start_time": "2024-08-13T12:47:58.182Z"
   },
   {
    "duration": 21,
    "start_time": "2024-08-13T12:47:58.225Z"
   },
   {
    "duration": 265,
    "start_time": "2024-08-13T12:47:58.248Z"
   },
   {
    "duration": 15,
    "start_time": "2024-08-13T12:47:58.515Z"
   },
   {
    "duration": 27,
    "start_time": "2024-08-13T12:47:58.531Z"
   },
   {
    "duration": 130,
    "start_time": "2024-08-13T12:47:58.562Z"
   },
   {
    "duration": 20,
    "start_time": "2024-08-13T12:47:58.694Z"
   },
   {
    "duration": 11,
    "start_time": "2024-08-13T12:47:58.716Z"
   },
   {
    "duration": 35,
    "start_time": "2024-08-13T12:47:58.729Z"
   },
   {
    "duration": 24,
    "start_time": "2024-08-13T12:47:58.766Z"
   },
   {
    "duration": 16,
    "start_time": "2024-08-13T12:47:58.791Z"
   },
   {
    "duration": 41,
    "start_time": "2024-08-13T12:47:58.808Z"
   },
   {
    "duration": 5301,
    "start_time": "2024-08-13T12:53:07.975Z"
   },
   {
    "duration": 3595,
    "start_time": "2024-08-13T12:53:13.278Z"
   },
   {
    "duration": 321,
    "start_time": "2024-08-13T12:53:16.876Z"
   },
   {
    "duration": 40,
    "start_time": "2024-08-13T12:53:17.200Z"
   },
   {
    "duration": 85,
    "start_time": "2024-08-13T12:53:17.242Z"
   },
   {
    "duration": 22,
    "start_time": "2024-08-13T12:53:17.329Z"
   },
   {
    "duration": 116,
    "start_time": "2024-08-13T12:53:17.353Z"
   },
   {
    "duration": 17,
    "start_time": "2024-08-13T12:53:17.471Z"
   },
   {
    "duration": 24,
    "start_time": "2024-08-13T12:53:17.490Z"
   },
   {
    "duration": 18,
    "start_time": "2024-08-13T12:53:17.517Z"
   },
   {
    "duration": 46,
    "start_time": "2024-08-13T12:53:17.537Z"
   },
   {
    "duration": 11,
    "start_time": "2024-08-13T12:53:17.584Z"
   },
   {
    "duration": 31,
    "start_time": "2024-08-13T12:53:17.597Z"
   },
   {
    "duration": 89,
    "start_time": "2024-08-13T12:53:17.630Z"
   },
   {
    "duration": 17,
    "start_time": "2024-08-13T12:53:17.720Z"
   },
   {
    "duration": 26,
    "start_time": "2024-08-13T12:53:17.739Z"
   },
   {
    "duration": 38,
    "start_time": "2024-08-13T12:53:17.766Z"
   },
   {
    "duration": 31,
    "start_time": "2024-08-13T12:53:17.806Z"
   },
   {
    "duration": 6,
    "start_time": "2024-08-13T12:53:17.839Z"
   },
   {
    "duration": 25,
    "start_time": "2024-08-13T12:53:17.846Z"
   },
   {
    "duration": 9,
    "start_time": "2024-08-13T12:53:17.873Z"
   },
   {
    "duration": 4,
    "start_time": "2024-08-13T12:53:17.883Z"
   },
   {
    "duration": 93,
    "start_time": "2024-08-13T12:53:17.889Z"
   },
   {
    "duration": 10,
    "start_time": "2024-08-13T12:53:17.985Z"
   },
   {
    "duration": 318,
    "start_time": "2024-08-13T12:53:17.997Z"
   },
   {
    "duration": 16,
    "start_time": "2024-08-13T12:53:18.317Z"
   },
   {
    "duration": 16,
    "start_time": "2024-08-13T12:53:18.335Z"
   },
   {
    "duration": 72,
    "start_time": "2024-08-13T12:53:18.355Z"
   },
   {
    "duration": 36,
    "start_time": "2024-08-13T12:53:18.429Z"
   },
   {
    "duration": 12,
    "start_time": "2024-08-13T12:53:18.467Z"
   },
   {
    "duration": 25,
    "start_time": "2024-08-13T12:53:18.481Z"
   },
   {
    "duration": 23,
    "start_time": "2024-08-13T12:53:18.508Z"
   },
   {
    "duration": 12,
    "start_time": "2024-08-13T12:53:18.533Z"
   },
   {
    "duration": 22,
    "start_time": "2024-08-13T12:53:18.547Z"
   },
   {
    "duration": 50,
    "start_time": "2024-08-13T12:58:38.985Z"
   },
   {
    "duration": 5028,
    "start_time": "2024-08-13T12:59:03.978Z"
   },
   {
    "duration": 2797,
    "start_time": "2024-08-13T12:59:09.009Z"
   },
   {
    "duration": 1305,
    "start_time": "2024-08-13T12:59:11.807Z"
   },
   {
    "duration": 35,
    "start_time": "2024-08-13T12:59:13.115Z"
   },
   {
    "duration": 87,
    "start_time": "2024-08-13T12:59:13.152Z"
   },
   {
    "duration": 20,
    "start_time": "2024-08-13T12:59:13.241Z"
   },
   {
    "duration": 95,
    "start_time": "2024-08-13T12:59:13.263Z"
   },
   {
    "duration": 22,
    "start_time": "2024-08-13T12:59:13.360Z"
   },
   {
    "duration": 27,
    "start_time": "2024-08-13T12:59:13.384Z"
   },
   {
    "duration": 24,
    "start_time": "2024-08-13T12:59:13.414Z"
   },
   {
    "duration": 718,
    "start_time": "2024-08-13T12:59:13.440Z"
   },
   {
    "duration": 11,
    "start_time": "2024-08-13T12:59:14.159Z"
   },
   {
    "duration": 25,
    "start_time": "2024-08-13T12:59:14.172Z"
   },
   {
    "duration": 75,
    "start_time": "2024-08-13T12:59:14.198Z"
   },
   {
    "duration": 18,
    "start_time": "2024-08-13T12:59:14.275Z"
   },
   {
    "duration": 18,
    "start_time": "2024-08-13T12:59:14.295Z"
   },
   {
    "duration": 13,
    "start_time": "2024-08-13T12:59:14.315Z"
   },
   {
    "duration": 23,
    "start_time": "2024-08-13T12:59:14.329Z"
   },
   {
    "duration": 4,
    "start_time": "2024-08-13T12:59:14.353Z"
   },
   {
    "duration": 49,
    "start_time": "2024-08-13T12:59:14.358Z"
   },
   {
    "duration": 79,
    "start_time": "2024-08-13T12:59:14.409Z"
   },
   {
    "duration": 8,
    "start_time": "2024-08-13T12:59:14.489Z"
   },
   {
    "duration": 22,
    "start_time": "2024-08-13T12:59:14.499Z"
   },
   {
    "duration": 9,
    "start_time": "2024-08-13T12:59:14.523Z"
   },
   {
    "duration": 267,
    "start_time": "2024-08-13T12:59:14.534Z"
   },
   {
    "duration": 21,
    "start_time": "2024-08-13T12:59:14.805Z"
   },
   {
    "duration": 17,
    "start_time": "2024-08-13T12:59:14.828Z"
   },
   {
    "duration": 82,
    "start_time": "2024-08-13T12:59:14.849Z"
   },
   {
    "duration": 21,
    "start_time": "2024-08-13T12:59:14.933Z"
   },
   {
    "duration": 12,
    "start_time": "2024-08-13T12:59:14.956Z"
   },
   {
    "duration": 48,
    "start_time": "2024-08-13T12:59:14.970Z"
   },
   {
    "duration": 88,
    "start_time": "2024-08-13T12:59:15.020Z"
   },
   {
    "duration": 67,
    "start_time": "2024-08-13T12:59:15.109Z"
   },
   {
    "duration": 21,
    "start_time": "2024-08-13T12:59:15.178Z"
   },
   {
    "duration": 39,
    "start_time": "2024-08-13T12:59:15.200Z"
   },
   {
    "duration": 8,
    "start_time": "2024-08-13T12:59:44.306Z"
   },
   {
    "duration": 7,
    "start_time": "2024-08-13T13:00:18.459Z"
   },
   {
    "duration": 12,
    "start_time": "2024-08-13T13:00:40.490Z"
   },
   {
    "duration": 8,
    "start_time": "2024-08-13T13:01:10.184Z"
   },
   {
    "duration": 9,
    "start_time": "2024-08-13T13:01:42.779Z"
   },
   {
    "duration": 10,
    "start_time": "2024-08-13T13:02:16.666Z"
   },
   {
    "duration": 8,
    "start_time": "2024-08-13T13:02:24.345Z"
   },
   {
    "duration": 10,
    "start_time": "2024-08-13T13:02:57.404Z"
   },
   {
    "duration": 13,
    "start_time": "2024-08-13T13:04:48.541Z"
   },
   {
    "duration": 14,
    "start_time": "2024-08-13T13:06:01.394Z"
   },
   {
    "duration": 12,
    "start_time": "2024-08-13T13:06:22.730Z"
   },
   {
    "duration": 9,
    "start_time": "2024-08-13T13:08:44.645Z"
   },
   {
    "duration": 12,
    "start_time": "2024-08-13T13:08:47.861Z"
   },
   {
    "duration": 5581,
    "start_time": "2024-08-13T13:11:12.513Z"
   },
   {
    "duration": 2333,
    "start_time": "2024-08-13T13:11:18.097Z"
   },
   {
    "duration": 362,
    "start_time": "2024-08-13T13:11:20.432Z"
   },
   {
    "duration": 37,
    "start_time": "2024-08-13T13:11:20.795Z"
   },
   {
    "duration": 94,
    "start_time": "2024-08-13T13:11:20.835Z"
   },
   {
    "duration": 22,
    "start_time": "2024-08-13T13:11:20.930Z"
   },
   {
    "duration": 184,
    "start_time": "2024-08-13T13:11:20.954Z"
   },
   {
    "duration": 16,
    "start_time": "2024-08-13T13:11:21.140Z"
   },
   {
    "duration": 31,
    "start_time": "2024-08-13T13:11:21.157Z"
   },
   {
    "duration": 30,
    "start_time": "2024-08-13T13:11:21.190Z"
   },
   {
    "duration": 120,
    "start_time": "2024-08-13T13:11:21.221Z"
   },
   {
    "duration": 11,
    "start_time": "2024-08-13T13:11:21.343Z"
   },
   {
    "duration": 38,
    "start_time": "2024-08-13T13:11:21.356Z"
   },
   {
    "duration": 131,
    "start_time": "2024-08-13T13:11:21.397Z"
   },
   {
    "duration": 26,
    "start_time": "2024-08-13T13:11:21.529Z"
   },
   {
    "duration": 14,
    "start_time": "2024-08-13T13:11:21.557Z"
   },
   {
    "duration": 34,
    "start_time": "2024-08-13T13:11:21.573Z"
   },
   {
    "duration": 33,
    "start_time": "2024-08-13T13:11:21.609Z"
   },
   {
    "duration": 60,
    "start_time": "2024-08-13T13:11:21.644Z"
   },
   {
    "duration": 34,
    "start_time": "2024-08-13T13:11:21.706Z"
   },
   {
    "duration": 10,
    "start_time": "2024-08-13T13:11:21.741Z"
   },
   {
    "duration": 3,
    "start_time": "2024-08-13T13:11:21.752Z"
   },
   {
    "duration": 20,
    "start_time": "2024-08-13T13:11:21.757Z"
   },
   {
    "duration": 10,
    "start_time": "2024-08-13T13:11:21.779Z"
   },
   {
    "duration": 256,
    "start_time": "2024-08-13T13:11:21.791Z"
   },
   {
    "duration": 15,
    "start_time": "2024-08-13T13:11:22.049Z"
   },
   {
    "duration": 76,
    "start_time": "2024-08-13T13:11:22.066Z"
   },
   {
    "duration": 43,
    "start_time": "2024-08-13T13:11:22.145Z"
   },
   {
    "duration": 22,
    "start_time": "2024-08-13T13:11:22.191Z"
   },
   {
    "duration": 11,
    "start_time": "2024-08-13T13:11:22.215Z"
   },
   {
    "duration": 16,
    "start_time": "2024-08-13T13:11:22.228Z"
   },
   {
    "duration": 9,
    "start_time": "2024-08-13T13:11:22.246Z"
   },
   {
    "duration": 38,
    "start_time": "2024-08-13T13:11:22.257Z"
   },
   {
    "duration": 31,
    "start_time": "2024-08-13T13:11:22.296Z"
   },
   {
    "duration": 30,
    "start_time": "2024-08-13T13:11:22.329Z"
   },
   {
    "duration": 41,
    "start_time": "2024-08-13T13:11:22.361Z"
   },
   {
    "duration": 22,
    "start_time": "2024-08-13T13:11:22.404Z"
   },
   {
    "duration": 11,
    "start_time": "2024-08-13T13:11:26.541Z"
   },
   {
    "duration": 11,
    "start_time": "2024-08-13T13:11:30.281Z"
   },
   {
    "duration": 22,
    "start_time": "2024-08-13T13:12:31.632Z"
   },
   {
    "duration": 5023,
    "start_time": "2024-08-13T13:23:48.765Z"
   },
   {
    "duration": 1765,
    "start_time": "2024-08-13T13:23:53.791Z"
   },
   {
    "duration": 377,
    "start_time": "2024-08-13T13:23:55.558Z"
   },
   {
    "duration": 40,
    "start_time": "2024-08-13T13:23:55.938Z"
   },
   {
    "duration": 110,
    "start_time": "2024-08-13T13:23:55.979Z"
   },
   {
    "duration": 27,
    "start_time": "2024-08-13T13:23:56.091Z"
   },
   {
    "duration": 166,
    "start_time": "2024-08-13T13:23:56.119Z"
   },
   {
    "duration": 15,
    "start_time": "2024-08-13T13:23:56.287Z"
   },
   {
    "duration": 23,
    "start_time": "2024-08-13T13:23:56.304Z"
   },
   {
    "duration": 17,
    "start_time": "2024-08-13T13:23:56.329Z"
   },
   {
    "duration": 39,
    "start_time": "2024-08-13T13:23:56.348Z"
   },
   {
    "duration": 10,
    "start_time": "2024-08-13T13:23:56.389Z"
   },
   {
    "duration": 13,
    "start_time": "2024-08-13T13:23:56.400Z"
   },
   {
    "duration": 65,
    "start_time": "2024-08-13T13:23:56.414Z"
   },
   {
    "duration": 28,
    "start_time": "2024-08-13T13:23:56.481Z"
   },
   {
    "duration": 12,
    "start_time": "2024-08-13T13:23:56.510Z"
   },
   {
    "duration": 74,
    "start_time": "2024-08-13T13:23:56.523Z"
   },
   {
    "duration": 37,
    "start_time": "2024-08-13T13:23:56.599Z"
   },
   {
    "duration": 5,
    "start_time": "2024-08-13T13:23:56.637Z"
   },
   {
    "duration": 26,
    "start_time": "2024-08-13T13:23:56.644Z"
   },
   {
    "duration": 49,
    "start_time": "2024-08-13T13:23:56.672Z"
   },
   {
    "duration": 107,
    "start_time": "2024-08-13T13:23:56.722Z"
   },
   {
    "duration": 19,
    "start_time": "2024-08-13T13:23:56.830Z"
   },
   {
    "duration": 17,
    "start_time": "2024-08-13T13:23:56.850Z"
   },
   {
    "duration": 252,
    "start_time": "2024-08-13T13:23:56.869Z"
   },
   {
    "duration": 17,
    "start_time": "2024-08-13T13:23:57.123Z"
   },
   {
    "duration": 15,
    "start_time": "2024-08-13T13:23:57.141Z"
   },
   {
    "duration": 65,
    "start_time": "2024-08-13T13:23:57.160Z"
   },
   {
    "duration": 34,
    "start_time": "2024-08-13T13:23:57.227Z"
   },
   {
    "duration": 12,
    "start_time": "2024-08-13T13:23:57.263Z"
   },
   {
    "duration": 35,
    "start_time": "2024-08-13T13:23:57.277Z"
   },
   {
    "duration": 10,
    "start_time": "2024-08-13T13:23:57.314Z"
   },
   {
    "duration": 31,
    "start_time": "2024-08-13T13:23:57.325Z"
   },
   {
    "duration": 12,
    "start_time": "2024-08-13T13:23:57.357Z"
   },
   {
    "duration": 44,
    "start_time": "2024-08-13T13:23:57.371Z"
   },
   {
    "duration": 50,
    "start_time": "2024-08-13T13:23:57.417Z"
   },
   {
    "duration": 23,
    "start_time": "2024-08-13T13:23:57.468Z"
   },
   {
    "duration": 5148,
    "start_time": "2024-08-13T14:02:51.863Z"
   },
   {
    "duration": 3097,
    "start_time": "2024-08-13T14:02:57.013Z"
   },
   {
    "duration": 382,
    "start_time": "2024-08-13T14:03:00.112Z"
   },
   {
    "duration": 38,
    "start_time": "2024-08-13T14:03:00.496Z"
   },
   {
    "duration": 281,
    "start_time": "2024-08-13T14:03:00.536Z"
   },
   {
    "duration": 23,
    "start_time": "2024-08-13T14:03:00.819Z"
   },
   {
    "duration": 142,
    "start_time": "2024-08-13T14:03:00.843Z"
   },
   {
    "duration": 26,
    "start_time": "2024-08-13T14:03:00.987Z"
   },
   {
    "duration": 77,
    "start_time": "2024-08-13T14:03:01.015Z"
   },
   {
    "duration": 248,
    "start_time": "2024-08-13T14:03:01.095Z"
   },
   {
    "duration": 208,
    "start_time": "2024-08-13T14:03:01.345Z"
   },
   {
    "duration": 11,
    "start_time": "2024-08-13T14:03:01.555Z"
   },
   {
    "duration": 111,
    "start_time": "2024-08-13T14:03:01.568Z"
   },
   {
    "duration": 130,
    "start_time": "2024-08-13T14:03:01.681Z"
   },
   {
    "duration": 195,
    "start_time": "2024-08-13T14:03:01.814Z"
   },
   {
    "duration": 23,
    "start_time": "2024-08-13T14:03:02.011Z"
   },
   {
    "duration": 58,
    "start_time": "2024-08-13T14:03:02.036Z"
   },
   {
    "duration": 49,
    "start_time": "2024-08-13T14:03:02.096Z"
   },
   {
    "duration": 161,
    "start_time": "2024-08-13T14:03:02.147Z"
   },
   {
    "duration": 50,
    "start_time": "2024-08-13T14:03:02.309Z"
   },
   {
    "duration": 11,
    "start_time": "2024-08-13T14:03:02.361Z"
   },
   {
    "duration": 47,
    "start_time": "2024-08-13T14:03:02.374Z"
   },
   {
    "duration": 24,
    "start_time": "2024-08-13T14:03:02.423Z"
   },
   {
    "duration": 44,
    "start_time": "2024-08-13T14:03:02.448Z"
   },
   {
    "duration": 280,
    "start_time": "2024-08-13T14:03:02.493Z"
   },
   {
    "duration": 16,
    "start_time": "2024-08-13T14:03:02.775Z"
   },
   {
    "duration": 52,
    "start_time": "2024-08-13T14:03:02.792Z"
   },
   {
    "duration": 47,
    "start_time": "2024-08-13T14:03:02.848Z"
   },
   {
    "duration": 109,
    "start_time": "2024-08-13T14:03:02.897Z"
   },
   {
    "duration": 17,
    "start_time": "2024-08-13T14:03:03.008Z"
   },
   {
    "duration": 21,
    "start_time": "2024-08-13T14:03:03.027Z"
   },
   {
    "duration": 9,
    "start_time": "2024-08-13T14:03:03.049Z"
   },
   {
    "duration": 56,
    "start_time": "2024-08-13T14:03:03.060Z"
   },
   {
    "duration": 12,
    "start_time": "2024-08-13T14:03:03.118Z"
   },
   {
    "duration": 94,
    "start_time": "2024-08-13T14:03:03.132Z"
   },
   {
    "duration": 50,
    "start_time": "2024-08-13T14:03:03.227Z"
   },
   {
    "duration": 22,
    "start_time": "2024-08-13T14:03:03.278Z"
   },
   {
    "duration": 5046,
    "start_time": "2024-08-13T14:06:04.773Z"
   },
   {
    "duration": 1879,
    "start_time": "2024-08-13T14:06:09.822Z"
   },
   {
    "duration": 333,
    "start_time": "2024-08-13T14:06:11.702Z"
   },
   {
    "duration": 35,
    "start_time": "2024-08-13T14:06:12.038Z"
   },
   {
    "duration": 80,
    "start_time": "2024-08-13T14:06:12.074Z"
   },
   {
    "duration": 20,
    "start_time": "2024-08-13T14:06:12.156Z"
   },
   {
    "duration": 163,
    "start_time": "2024-08-13T14:06:12.178Z"
   },
   {
    "duration": 15,
    "start_time": "2024-08-13T14:06:12.343Z"
   },
   {
    "duration": 29,
    "start_time": "2024-08-13T14:06:12.359Z"
   },
   {
    "duration": 30,
    "start_time": "2024-08-13T14:06:12.390Z"
   },
   {
    "duration": 50,
    "start_time": "2024-08-13T14:06:12.421Z"
   },
   {
    "duration": 11,
    "start_time": "2024-08-13T14:06:12.473Z"
   },
   {
    "duration": 25,
    "start_time": "2024-08-13T14:06:12.486Z"
   },
   {
    "duration": 65,
    "start_time": "2024-08-13T14:06:12.512Z"
   },
   {
    "duration": 30,
    "start_time": "2024-08-13T14:06:12.578Z"
   },
   {
    "duration": 11,
    "start_time": "2024-08-13T14:06:12.610Z"
   },
   {
    "duration": 52,
    "start_time": "2024-08-13T14:06:12.623Z"
   },
   {
    "duration": 101,
    "start_time": "2024-08-13T14:06:12.677Z"
   },
   {
    "duration": 5,
    "start_time": "2024-08-13T14:06:12.779Z"
   },
   {
    "duration": 32,
    "start_time": "2024-08-13T14:06:12.786Z"
   },
   {
    "duration": 9,
    "start_time": "2024-08-13T14:06:12.820Z"
   },
   {
    "duration": 3,
    "start_time": "2024-08-13T14:06:12.831Z"
   },
   {
    "duration": 22,
    "start_time": "2024-08-13T14:06:12.836Z"
   },
   {
    "duration": 29,
    "start_time": "2024-08-13T14:06:12.860Z"
   },
   {
    "duration": 254,
    "start_time": "2024-08-13T14:06:12.891Z"
   },
   {
    "duration": 21,
    "start_time": "2024-08-13T14:06:13.147Z"
   },
   {
    "duration": 15,
    "start_time": "2024-08-13T14:06:13.170Z"
   },
   {
    "duration": 57,
    "start_time": "2024-08-13T14:06:13.188Z"
   },
   {
    "duration": 31,
    "start_time": "2024-08-13T14:06:13.247Z"
   },
   {
    "duration": 28,
    "start_time": "2024-08-13T14:06:13.280Z"
   },
   {
    "duration": 23,
    "start_time": "2024-08-13T14:06:13.309Z"
   },
   {
    "duration": 12,
    "start_time": "2024-08-13T14:06:13.334Z"
   },
   {
    "duration": 29,
    "start_time": "2024-08-13T14:06:13.348Z"
   },
   {
    "duration": 37,
    "start_time": "2024-08-13T14:06:13.378Z"
   },
   {
    "duration": 23,
    "start_time": "2024-08-13T14:06:13.416Z"
   },
   {
    "duration": 34,
    "start_time": "2024-08-13T14:06:13.441Z"
   },
   {
    "duration": 35,
    "start_time": "2024-08-13T14:06:13.477Z"
   },
   {
    "duration": 5507,
    "start_time": "2024-08-13T14:15:39.258Z"
   },
   {
    "duration": 4009,
    "start_time": "2024-08-13T14:15:44.767Z"
   },
   {
    "duration": 429,
    "start_time": "2024-08-13T14:15:48.777Z"
   },
   {
    "duration": 39,
    "start_time": "2024-08-13T14:15:49.208Z"
   },
   {
    "duration": 160,
    "start_time": "2024-08-13T14:15:49.250Z"
   },
   {
    "duration": 25,
    "start_time": "2024-08-13T14:15:49.412Z"
   },
   {
    "duration": 180,
    "start_time": "2024-08-13T14:15:49.439Z"
   },
   {
    "duration": 17,
    "start_time": "2024-08-13T14:15:49.621Z"
   },
   {
    "duration": 25,
    "start_time": "2024-08-13T14:15:49.640Z"
   },
   {
    "duration": 20,
    "start_time": "2024-08-13T14:15:49.666Z"
   },
   {
    "duration": 40,
    "start_time": "2024-08-13T14:15:49.706Z"
   },
   {
    "duration": 12,
    "start_time": "2024-08-13T14:15:49.748Z"
   },
   {
    "duration": 66,
    "start_time": "2024-08-13T14:15:49.761Z"
   },
   {
    "duration": 91,
    "start_time": "2024-08-13T14:15:49.830Z"
   },
   {
    "duration": 20,
    "start_time": "2024-08-13T14:15:49.923Z"
   },
   {
    "duration": 13,
    "start_time": "2024-08-13T14:15:49.945Z"
   },
   {
    "duration": 39,
    "start_time": "2024-08-13T14:15:49.959Z"
   },
   {
    "duration": 74,
    "start_time": "2024-08-13T14:15:50.005Z"
   },
   {
    "duration": 12,
    "start_time": "2024-08-13T14:15:50.081Z"
   },
   {
    "duration": 33,
    "start_time": "2024-08-13T14:15:50.095Z"
   },
   {
    "duration": 11,
    "start_time": "2024-08-13T14:15:50.130Z"
   },
   {
    "duration": 11,
    "start_time": "2024-08-13T14:15:50.143Z"
   },
   {
    "duration": 82,
    "start_time": "2024-08-13T14:15:50.155Z"
   },
   {
    "duration": 16,
    "start_time": "2024-08-13T14:15:50.239Z"
   },
   {
    "duration": 323,
    "start_time": "2024-08-13T14:15:50.257Z"
   },
   {
    "duration": 17,
    "start_time": "2024-08-13T14:15:50.582Z"
   },
   {
    "duration": 37,
    "start_time": "2024-08-13T14:15:50.605Z"
   },
   {
    "duration": 78,
    "start_time": "2024-08-13T14:15:50.644Z"
   },
   {
    "duration": 24,
    "start_time": "2024-08-13T14:15:50.724Z"
   },
   {
    "duration": 151,
    "start_time": "2024-08-13T14:15:50.750Z"
   },
   {
    "duration": 26,
    "start_time": "2024-08-13T14:15:50.903Z"
   },
   {
    "duration": 16,
    "start_time": "2024-08-13T14:15:50.931Z"
   },
   {
    "duration": 35,
    "start_time": "2024-08-13T14:15:50.949Z"
   },
   {
    "duration": 156,
    "start_time": "2024-08-13T14:15:50.986Z"
   },
   {
    "duration": 51,
    "start_time": "2024-08-13T14:15:51.144Z"
   },
   {
    "duration": 73,
    "start_time": "2024-08-13T14:15:51.196Z"
   },
   {
    "duration": 25,
    "start_time": "2024-08-13T14:15:51.271Z"
   },
   {
    "duration": 55,
    "start_time": "2024-08-13T15:13:30.577Z"
   },
   {
    "duration": 7,
    "start_time": "2024-08-13T15:13:46.587Z"
   },
   {
    "duration": 5204,
    "start_time": "2024-08-13T15:13:55.199Z"
   },
   {
    "duration": 3187,
    "start_time": "2024-08-13T15:14:00.405Z"
   },
   {
    "duration": 400,
    "start_time": "2024-08-13T15:14:03.594Z"
   },
   {
    "duration": 35,
    "start_time": "2024-08-13T15:14:03.996Z"
   },
   {
    "duration": 103,
    "start_time": "2024-08-13T15:14:04.033Z"
   },
   {
    "duration": 21,
    "start_time": "2024-08-13T15:14:04.137Z"
   },
   {
    "duration": 145,
    "start_time": "2024-08-13T15:14:04.160Z"
   },
   {
    "duration": 16,
    "start_time": "2024-08-13T15:14:04.306Z"
   },
   {
    "duration": 26,
    "start_time": "2024-08-13T15:14:04.324Z"
   },
   {
    "duration": 78,
    "start_time": "2024-08-13T15:14:04.353Z"
   },
   {
    "duration": 137,
    "start_time": "2024-08-13T15:14:04.433Z"
   },
   {
    "duration": 12,
    "start_time": "2024-08-13T15:14:04.572Z"
   },
   {
    "duration": 16,
    "start_time": "2024-08-13T15:14:04.586Z"
   },
   {
    "duration": 73,
    "start_time": "2024-08-13T15:14:04.604Z"
   },
   {
    "duration": 18,
    "start_time": "2024-08-13T15:14:04.678Z"
   },
   {
    "duration": 15,
    "start_time": "2024-08-13T15:14:04.704Z"
   },
   {
    "duration": 16,
    "start_time": "2024-08-13T15:14:04.720Z"
   },
   {
    "duration": 34,
    "start_time": "2024-08-13T15:14:04.737Z"
   },
   {
    "duration": 6,
    "start_time": "2024-08-13T15:14:04.773Z"
   },
   {
    "duration": 28,
    "start_time": "2024-08-13T15:14:04.805Z"
   },
   {
    "duration": 11,
    "start_time": "2024-08-13T15:14:04.835Z"
   },
   {
    "duration": 4,
    "start_time": "2024-08-13T15:14:04.848Z"
   },
   {
    "duration": 10,
    "start_time": "2024-08-13T15:14:04.854Z"
   },
   {
    "duration": 42,
    "start_time": "2024-08-13T15:14:04.866Z"
   },
   {
    "duration": 265,
    "start_time": "2024-08-13T15:14:04.910Z"
   },
   {
    "duration": 16,
    "start_time": "2024-08-13T15:14:05.177Z"
   },
   {
    "duration": 23,
    "start_time": "2024-08-13T15:14:05.195Z"
   },
   {
    "duration": 52,
    "start_time": "2024-08-13T15:14:05.221Z"
   },
   {
    "duration": 34,
    "start_time": "2024-08-13T15:14:05.274Z"
   },
   {
    "duration": 81,
    "start_time": "2024-08-13T15:14:05.310Z"
   },
   {
    "duration": 61,
    "start_time": "2024-08-13T15:14:05.392Z"
   },
   {
    "duration": 9,
    "start_time": "2024-08-13T15:14:05.455Z"
   },
   {
    "duration": 52,
    "start_time": "2024-08-13T15:14:05.465Z"
   },
   {
    "duration": 28,
    "start_time": "2024-08-13T15:14:05.519Z"
   },
   {
    "duration": 32,
    "start_time": "2024-08-13T15:14:05.548Z"
   },
   {
    "duration": 41,
    "start_time": "2024-08-13T15:14:05.582Z"
   },
   {
    "duration": 24,
    "start_time": "2024-08-13T15:14:05.625Z"
   },
   {
    "duration": 5085,
    "start_time": "2024-08-13T15:19:04.086Z"
   },
   {
    "duration": 2693,
    "start_time": "2024-08-13T15:19:09.174Z"
   },
   {
    "duration": 361,
    "start_time": "2024-08-13T15:19:11.870Z"
   },
   {
    "duration": 52,
    "start_time": "2024-08-13T15:19:12.234Z"
   },
   {
    "duration": 77,
    "start_time": "2024-08-13T15:19:12.289Z"
   },
   {
    "duration": 20,
    "start_time": "2024-08-13T15:19:12.368Z"
   },
   {
    "duration": 149,
    "start_time": "2024-08-13T15:19:12.389Z"
   },
   {
    "duration": 16,
    "start_time": "2024-08-13T15:19:12.539Z"
   },
   {
    "duration": 23,
    "start_time": "2024-08-13T15:19:12.557Z"
   },
   {
    "duration": 36,
    "start_time": "2024-08-13T15:19:12.582Z"
   },
   {
    "duration": 38,
    "start_time": "2024-08-13T15:19:12.620Z"
   },
   {
    "duration": 11,
    "start_time": "2024-08-13T15:19:12.660Z"
   },
   {
    "duration": 17,
    "start_time": "2024-08-13T15:19:12.673Z"
   },
   {
    "duration": 75,
    "start_time": "2024-08-13T15:19:12.692Z"
   },
   {
    "duration": 18,
    "start_time": "2024-08-13T15:19:12.768Z"
   },
   {
    "duration": 20,
    "start_time": "2024-08-13T15:19:12.788Z"
   },
   {
    "duration": 44,
    "start_time": "2024-08-13T15:19:12.810Z"
   },
   {
    "duration": 41,
    "start_time": "2024-08-13T15:19:12.856Z"
   },
   {
    "duration": 9,
    "start_time": "2024-08-13T15:19:12.899Z"
   },
   {
    "duration": 28,
    "start_time": "2024-08-13T15:19:12.909Z"
   },
   {
    "duration": 9,
    "start_time": "2024-08-13T15:19:12.939Z"
   },
   {
    "duration": 4,
    "start_time": "2024-08-13T15:19:12.949Z"
   },
   {
    "duration": 25,
    "start_time": "2024-08-13T15:19:12.954Z"
   },
   {
    "duration": 11,
    "start_time": "2024-08-13T15:19:12.981Z"
   },
   {
    "duration": 324,
    "start_time": "2024-08-13T15:19:12.994Z"
   },
   {
    "duration": 16,
    "start_time": "2024-08-13T15:19:13.320Z"
   },
   {
    "duration": 71,
    "start_time": "2024-08-13T15:19:13.338Z"
   },
   {
    "duration": 42,
    "start_time": "2024-08-13T15:19:13.412Z"
   },
   {
    "duration": 19,
    "start_time": "2024-08-13T15:19:13.456Z"
   },
   {
    "duration": 28,
    "start_time": "2024-08-13T15:19:13.477Z"
   },
   {
    "duration": 17,
    "start_time": "2024-08-13T15:19:13.507Z"
   },
   {
    "duration": 10,
    "start_time": "2024-08-13T15:19:13.525Z"
   },
   {
    "duration": 25,
    "start_time": "2024-08-13T15:19:13.536Z"
   },
   {
    "duration": 12,
    "start_time": "2024-08-13T15:19:13.563Z"
   },
   {
    "duration": 39,
    "start_time": "2024-08-13T15:19:13.576Z"
   },
   {
    "duration": 37,
    "start_time": "2024-08-13T15:19:13.617Z"
   },
   {
    "duration": 21,
    "start_time": "2024-08-13T15:19:13.655Z"
   },
   {
    "duration": 161,
    "start_time": "2024-08-13T15:19:13.678Z"
   },
   {
    "duration": 1089,
    "start_time": "2024-08-13T15:19:46.229Z"
   },
   {
    "duration": 1261,
    "start_time": "2024-08-13T15:20:05.015Z"
   },
   {
    "duration": 9,
    "start_time": "2024-08-13T15:20:22.436Z"
   },
   {
    "duration": 26,
    "start_time": "2024-08-13T15:20:29.209Z"
   },
   {
    "duration": 62,
    "start_time": "2024-08-13T15:23:20.105Z"
   },
   {
    "duration": 5195,
    "start_time": "2024-08-13T15:23:24.856Z"
   },
   {
    "duration": 2937,
    "start_time": "2024-08-13T15:23:30.053Z"
   },
   {
    "duration": 431,
    "start_time": "2024-08-13T15:23:32.992Z"
   },
   {
    "duration": 37,
    "start_time": "2024-08-13T15:23:33.424Z"
   },
   {
    "duration": 90,
    "start_time": "2024-08-13T15:23:33.463Z"
   },
   {
    "duration": 25,
    "start_time": "2024-08-13T15:23:33.555Z"
   },
   {
    "duration": 108,
    "start_time": "2024-08-13T15:23:33.581Z"
   },
   {
    "duration": 17,
    "start_time": "2024-08-13T15:23:33.691Z"
   },
   {
    "duration": 53,
    "start_time": "2024-08-13T15:23:33.709Z"
   },
   {
    "duration": 19,
    "start_time": "2024-08-13T15:23:33.764Z"
   },
   {
    "duration": 37,
    "start_time": "2024-08-13T15:23:33.784Z"
   },
   {
    "duration": 18,
    "start_time": "2024-08-13T15:23:33.823Z"
   },
   {
    "duration": 11,
    "start_time": "2024-08-13T15:23:33.843Z"
   },
   {
    "duration": 89,
    "start_time": "2024-08-13T15:23:33.858Z"
   },
   {
    "duration": 18,
    "start_time": "2024-08-13T15:23:33.949Z"
   },
   {
    "duration": 12,
    "start_time": "2024-08-13T15:23:33.969Z"
   },
   {
    "duration": 31,
    "start_time": "2024-08-13T15:23:33.982Z"
   },
   {
    "duration": 31,
    "start_time": "2024-08-13T15:23:34.015Z"
   },
   {
    "duration": 5,
    "start_time": "2024-08-13T15:23:34.047Z"
   },
   {
    "duration": 26,
    "start_time": "2024-08-13T15:23:34.053Z"
   },
   {
    "duration": 31,
    "start_time": "2024-08-13T15:23:34.080Z"
   },
   {
    "duration": 22,
    "start_time": "2024-08-13T15:23:34.113Z"
   },
   {
    "duration": 16,
    "start_time": "2024-08-13T15:23:34.136Z"
   },
   {
    "duration": 21,
    "start_time": "2024-08-13T15:23:34.153Z"
   },
   {
    "duration": 260,
    "start_time": "2024-08-13T15:23:34.176Z"
   },
   {
    "duration": 16,
    "start_time": "2024-08-13T15:23:34.438Z"
   },
   {
    "duration": 56,
    "start_time": "2024-08-13T15:23:34.456Z"
   },
   {
    "duration": 53,
    "start_time": "2024-08-13T15:23:34.514Z"
   },
   {
    "duration": 21,
    "start_time": "2024-08-13T15:23:34.569Z"
   },
   {
    "duration": 16,
    "start_time": "2024-08-13T15:23:34.591Z"
   },
   {
    "duration": 20,
    "start_time": "2024-08-13T15:23:34.609Z"
   },
   {
    "duration": 10,
    "start_time": "2024-08-13T15:23:34.630Z"
   },
   {
    "duration": 37,
    "start_time": "2024-08-13T15:23:34.642Z"
   },
   {
    "duration": 29,
    "start_time": "2024-08-13T15:23:34.680Z"
   },
   {
    "duration": 21,
    "start_time": "2024-08-13T15:23:34.711Z"
   },
   {
    "duration": 50,
    "start_time": "2024-08-13T15:23:34.734Z"
   },
   {
    "duration": 21,
    "start_time": "2024-08-13T15:23:34.786Z"
   },
   {
    "duration": 1922,
    "start_time": "2024-08-13T15:23:34.810Z"
   },
   {
    "duration": 9,
    "start_time": "2024-08-13T15:23:36.734Z"
   },
   {
    "duration": 1797,
    "start_time": "2024-08-13T15:24:49.023Z"
   },
   {
    "duration": 11,
    "start_time": "2024-08-13T15:24:50.929Z"
   },
   {
    "duration": 6,
    "start_time": "2024-08-13T15:38:53.588Z"
   },
   {
    "duration": 5312,
    "start_time": "2024-08-13T15:43:51.578Z"
   },
   {
    "duration": 2931,
    "start_time": "2024-08-13T15:43:56.893Z"
   },
   {
    "duration": 370,
    "start_time": "2024-08-13T15:43:59.825Z"
   },
   {
    "duration": 37,
    "start_time": "2024-08-13T15:44:00.197Z"
   },
   {
    "duration": 206,
    "start_time": "2024-08-13T15:44:00.237Z"
   },
   {
    "duration": 246,
    "start_time": "2024-08-13T15:44:00.445Z"
   },
   {
    "duration": 228,
    "start_time": "2024-08-13T15:44:00.692Z"
   },
   {
    "duration": 17,
    "start_time": "2024-08-13T15:44:00.922Z"
   },
   {
    "duration": 91,
    "start_time": "2024-08-13T15:44:00.941Z"
   },
   {
    "duration": 60,
    "start_time": "2024-08-13T15:44:01.034Z"
   },
   {
    "duration": 192,
    "start_time": "2024-08-13T15:44:01.096Z"
   },
   {
    "duration": 12,
    "start_time": "2024-08-13T15:44:01.290Z"
   },
   {
    "duration": 71,
    "start_time": "2024-08-13T15:44:01.304Z"
   },
   {
    "duration": 180,
    "start_time": "2024-08-13T15:44:01.379Z"
   },
   {
    "duration": 55,
    "start_time": "2024-08-13T15:44:01.560Z"
   },
   {
    "duration": 48,
    "start_time": "2024-08-13T15:44:01.617Z"
   },
   {
    "duration": 43,
    "start_time": "2024-08-13T15:44:01.667Z"
   },
   {
    "duration": 79,
    "start_time": "2024-08-13T15:44:01.711Z"
   },
   {
    "duration": 35,
    "start_time": "2024-08-13T15:44:01.792Z"
   },
   {
    "duration": 123,
    "start_time": "2024-08-13T15:44:01.829Z"
   },
   {
    "duration": 68,
    "start_time": "2024-08-13T15:44:01.954Z"
   },
   {
    "duration": 35,
    "start_time": "2024-08-13T15:44:02.024Z"
   },
   {
    "duration": 31,
    "start_time": "2024-08-13T15:44:02.061Z"
   },
   {
    "duration": 20,
    "start_time": "2024-08-13T15:44:02.094Z"
   },
   {
    "duration": 312,
    "start_time": "2024-08-13T15:44:02.116Z"
   },
   {
    "duration": 20,
    "start_time": "2024-08-13T15:44:02.430Z"
   },
   {
    "duration": 122,
    "start_time": "2024-08-13T15:44:02.452Z"
   },
   {
    "duration": 54,
    "start_time": "2024-08-13T15:44:02.576Z"
   },
   {
    "duration": 32,
    "start_time": "2024-08-13T15:44:02.632Z"
   },
   {
    "duration": 11,
    "start_time": "2024-08-13T15:44:02.666Z"
   },
   {
    "duration": 43,
    "start_time": "2024-08-13T15:44:02.679Z"
   },
   {
    "duration": 10,
    "start_time": "2024-08-13T15:44:02.723Z"
   },
   {
    "duration": 38,
    "start_time": "2024-08-13T15:44:02.735Z"
   },
   {
    "duration": 68,
    "start_time": "2024-08-13T15:44:02.774Z"
   },
   {
    "duration": 87,
    "start_time": "2024-08-13T15:44:02.844Z"
   },
   {
    "duration": 96,
    "start_time": "2024-08-13T15:44:02.933Z"
   },
   {
    "duration": 34,
    "start_time": "2024-08-13T15:44:03.031Z"
   },
   {
    "duration": 1817,
    "start_time": "2024-08-13T15:44:03.067Z"
   },
   {
    "duration": 10,
    "start_time": "2024-08-13T15:44:04.886Z"
   },
   {
    "duration": 28,
    "start_time": "2024-08-13T15:44:04.898Z"
   },
   {
    "duration": 5042,
    "start_time": "2024-08-13T15:46:18.094Z"
   },
   {
    "duration": 2776,
    "start_time": "2024-08-13T15:46:23.139Z"
   },
   {
    "duration": 330,
    "start_time": "2024-08-13T15:46:25.916Z"
   },
   {
    "duration": 36,
    "start_time": "2024-08-13T15:46:26.249Z"
   },
   {
    "duration": 80,
    "start_time": "2024-08-13T15:46:26.287Z"
   },
   {
    "duration": 20,
    "start_time": "2024-08-13T15:46:26.369Z"
   },
   {
    "duration": 112,
    "start_time": "2024-08-13T15:46:26.391Z"
   },
   {
    "duration": 17,
    "start_time": "2024-08-13T15:46:26.505Z"
   },
   {
    "duration": 60,
    "start_time": "2024-08-13T15:46:26.523Z"
   },
   {
    "duration": 19,
    "start_time": "2024-08-13T15:46:26.586Z"
   },
   {
    "duration": 48,
    "start_time": "2024-08-13T15:46:26.606Z"
   },
   {
    "duration": 10,
    "start_time": "2024-08-13T15:46:26.656Z"
   },
   {
    "duration": 15,
    "start_time": "2024-08-13T15:46:26.667Z"
   },
   {
    "duration": 84,
    "start_time": "2024-08-13T15:46:26.683Z"
   },
   {
    "duration": 17,
    "start_time": "2024-08-13T15:46:26.769Z"
   },
   {
    "duration": 25,
    "start_time": "2024-08-13T15:46:26.787Z"
   },
   {
    "duration": 14,
    "start_time": "2024-08-13T15:46:26.814Z"
   },
   {
    "duration": 40,
    "start_time": "2024-08-13T15:46:26.829Z"
   },
   {
    "duration": 7,
    "start_time": "2024-08-13T15:46:26.871Z"
   },
   {
    "duration": 42,
    "start_time": "2024-08-13T15:46:26.880Z"
   },
   {
    "duration": 15,
    "start_time": "2024-08-13T15:46:26.924Z"
   },
   {
    "duration": 10,
    "start_time": "2024-08-13T15:46:26.942Z"
   },
   {
    "duration": 11,
    "start_time": "2024-08-13T15:46:26.954Z"
   },
   {
    "duration": 7,
    "start_time": "2024-08-13T15:46:26.967Z"
   },
   {
    "duration": 287,
    "start_time": "2024-08-13T15:46:26.977Z"
   },
   {
    "duration": 17,
    "start_time": "2024-08-13T15:46:27.265Z"
   },
   {
    "duration": 31,
    "start_time": "2024-08-13T15:46:27.284Z"
   },
   {
    "duration": 51,
    "start_time": "2024-08-13T15:46:27.318Z"
   },
   {
    "duration": 36,
    "start_time": "2024-08-13T15:46:27.370Z"
   },
   {
    "duration": 11,
    "start_time": "2024-08-13T15:46:27.408Z"
   },
   {
    "duration": 19,
    "start_time": "2024-08-13T15:46:27.421Z"
   },
   {
    "duration": 81,
    "start_time": "2024-08-13T15:46:27.442Z"
   },
   {
    "duration": 24,
    "start_time": "2024-08-13T15:46:27.525Z"
   },
   {
    "duration": 12,
    "start_time": "2024-08-13T15:46:27.550Z"
   },
   {
    "duration": 15,
    "start_time": "2024-08-13T15:46:27.563Z"
   },
   {
    "duration": 43,
    "start_time": "2024-08-13T15:46:27.579Z"
   },
   {
    "duration": 22,
    "start_time": "2024-08-13T15:46:27.624Z"
   },
   {
    "duration": 1761,
    "start_time": "2024-08-13T15:46:27.647Z"
   },
   {
    "duration": 11,
    "start_time": "2024-08-13T15:46:29.409Z"
   },
   {
    "duration": 7,
    "start_time": "2024-08-13T15:46:29.421Z"
   },
   {
    "duration": 54,
    "start_time": "2024-08-13T16:27:21.061Z"
   },
   {
    "duration": 5088,
    "start_time": "2024-08-13T16:27:45.307Z"
   },
   {
    "duration": 2800,
    "start_time": "2024-08-13T16:27:50.397Z"
   },
   {
    "duration": 364,
    "start_time": "2024-08-13T16:27:53.199Z"
   },
   {
    "duration": 40,
    "start_time": "2024-08-13T16:27:53.565Z"
   },
   {
    "duration": 174,
    "start_time": "2024-08-13T16:27:53.607Z"
   },
   {
    "duration": 20,
    "start_time": "2024-08-13T16:27:53.783Z"
   },
   {
    "duration": 106,
    "start_time": "2024-08-13T16:27:53.805Z"
   },
   {
    "duration": 15,
    "start_time": "2024-08-13T16:27:53.912Z"
   },
   {
    "duration": 21,
    "start_time": "2024-08-13T16:27:53.929Z"
   },
   {
    "duration": 19,
    "start_time": "2024-08-13T16:27:53.952Z"
   },
   {
    "duration": 130,
    "start_time": "2024-08-13T16:27:53.973Z"
   },
   {
    "duration": 15,
    "start_time": "2024-08-13T16:27:54.105Z"
   },
   {
    "duration": 12,
    "start_time": "2024-08-13T16:27:54.122Z"
   },
   {
    "duration": 100,
    "start_time": "2024-08-13T16:27:54.139Z"
   },
   {
    "duration": 20,
    "start_time": "2024-08-13T16:27:54.241Z"
   },
   {
    "duration": 12,
    "start_time": "2024-08-13T16:27:54.262Z"
   },
   {
    "duration": 34,
    "start_time": "2024-08-13T16:27:54.275Z"
   },
   {
    "duration": 24,
    "start_time": "2024-08-13T16:27:54.311Z"
   },
   {
    "duration": 14,
    "start_time": "2024-08-13T16:27:54.337Z"
   },
   {
    "duration": 38,
    "start_time": "2024-08-13T16:27:54.352Z"
   },
   {
    "duration": 15,
    "start_time": "2024-08-13T16:27:54.392Z"
   },
   {
    "duration": 11,
    "start_time": "2024-08-13T16:27:54.408Z"
   },
   {
    "duration": 12,
    "start_time": "2024-08-13T16:27:54.421Z"
   },
   {
    "duration": 11,
    "start_time": "2024-08-13T16:27:54.435Z"
   },
   {
    "duration": 285,
    "start_time": "2024-08-13T16:27:54.449Z"
   },
   {
    "duration": 17,
    "start_time": "2024-08-13T16:27:54.735Z"
   },
   {
    "duration": 19,
    "start_time": "2024-08-13T16:27:54.753Z"
   },
   {
    "duration": 56,
    "start_time": "2024-08-13T16:27:54.774Z"
   },
   {
    "duration": 27,
    "start_time": "2024-08-13T16:27:54.831Z"
   },
   {
    "duration": 13,
    "start_time": "2024-08-13T16:27:54.859Z"
   },
   {
    "duration": 37,
    "start_time": "2024-08-13T16:27:54.874Z"
   },
   {
    "duration": 9,
    "start_time": "2024-08-13T16:27:54.913Z"
   },
   {
    "duration": 26,
    "start_time": "2024-08-13T16:27:54.923Z"
   },
   {
    "duration": 13,
    "start_time": "2024-08-13T16:27:54.950Z"
   },
   {
    "duration": 26,
    "start_time": "2024-08-13T16:27:54.964Z"
   },
   {
    "duration": 42,
    "start_time": "2024-08-13T16:27:54.992Z"
   },
   {
    "duration": 21,
    "start_time": "2024-08-13T16:27:55.036Z"
   },
   {
    "duration": 1685,
    "start_time": "2024-08-13T16:27:55.059Z"
   },
   {
    "duration": 11,
    "start_time": "2024-08-13T16:27:56.745Z"
   },
   {
    "duration": 8,
    "start_time": "2024-08-13T16:27:56.758Z"
   },
   {
    "duration": 5,
    "start_time": "2024-08-13T16:44:21.519Z"
   },
   {
    "duration": 6370,
    "start_time": "2024-08-13T16:53:25.805Z"
   },
   {
    "duration": 2062,
    "start_time": "2024-08-13T16:53:32.177Z"
   },
   {
    "duration": 0,
    "start_time": "2024-08-13T16:53:34.243Z"
   },
   {
    "duration": 0,
    "start_time": "2024-08-13T16:53:34.244Z"
   },
   {
    "duration": 0,
    "start_time": "2024-08-13T16:53:34.245Z"
   },
   {
    "duration": 0,
    "start_time": "2024-08-13T16:53:34.246Z"
   },
   {
    "duration": 0,
    "start_time": "2024-08-13T16:53:34.247Z"
   },
   {
    "duration": 0,
    "start_time": "2024-08-13T16:53:34.248Z"
   },
   {
    "duration": 0,
    "start_time": "2024-08-13T16:53:34.249Z"
   },
   {
    "duration": 0,
    "start_time": "2024-08-13T16:53:34.250Z"
   },
   {
    "duration": 0,
    "start_time": "2024-08-13T16:53:34.251Z"
   },
   {
    "duration": 0,
    "start_time": "2024-08-13T16:53:34.252Z"
   },
   {
    "duration": 0,
    "start_time": "2024-08-13T16:53:34.254Z"
   },
   {
    "duration": 0,
    "start_time": "2024-08-13T16:53:34.255Z"
   },
   {
    "duration": 0,
    "start_time": "2024-08-13T16:53:34.256Z"
   },
   {
    "duration": 0,
    "start_time": "2024-08-13T16:53:34.257Z"
   },
   {
    "duration": 0,
    "start_time": "2024-08-13T16:53:34.258Z"
   },
   {
    "duration": 0,
    "start_time": "2024-08-13T16:53:34.259Z"
   },
   {
    "duration": 0,
    "start_time": "2024-08-13T16:53:34.260Z"
   },
   {
    "duration": 0,
    "start_time": "2024-08-13T16:53:34.261Z"
   },
   {
    "duration": 0,
    "start_time": "2024-08-13T16:53:34.262Z"
   },
   {
    "duration": 0,
    "start_time": "2024-08-13T16:53:34.263Z"
   },
   {
    "duration": 0,
    "start_time": "2024-08-13T16:53:34.264Z"
   },
   {
    "duration": 0,
    "start_time": "2024-08-13T16:53:34.265Z"
   },
   {
    "duration": 0,
    "start_time": "2024-08-13T16:53:34.266Z"
   },
   {
    "duration": 0,
    "start_time": "2024-08-13T16:53:34.305Z"
   },
   {
    "duration": 0,
    "start_time": "2024-08-13T16:53:34.307Z"
   },
   {
    "duration": 0,
    "start_time": "2024-08-13T16:53:34.309Z"
   },
   {
    "duration": 0,
    "start_time": "2024-08-13T16:53:34.310Z"
   },
   {
    "duration": 0,
    "start_time": "2024-08-13T16:53:34.312Z"
   },
   {
    "duration": 0,
    "start_time": "2024-08-13T16:53:34.314Z"
   },
   {
    "duration": 0,
    "start_time": "2024-08-13T16:53:34.316Z"
   },
   {
    "duration": 0,
    "start_time": "2024-08-13T16:53:34.317Z"
   },
   {
    "duration": 0,
    "start_time": "2024-08-13T16:53:34.319Z"
   },
   {
    "duration": 0,
    "start_time": "2024-08-13T16:53:34.320Z"
   },
   {
    "duration": 0,
    "start_time": "2024-08-13T16:53:34.322Z"
   },
   {
    "duration": 0,
    "start_time": "2024-08-13T16:53:34.323Z"
   },
   {
    "duration": 0,
    "start_time": "2024-08-13T16:53:34.324Z"
   },
   {
    "duration": 0,
    "start_time": "2024-08-13T16:53:34.326Z"
   },
   {
    "duration": 0,
    "start_time": "2024-08-13T16:53:34.327Z"
   },
   {
    "duration": 0,
    "start_time": "2024-08-13T16:53:34.328Z"
   },
   {
    "duration": 6214,
    "start_time": "2024-08-13T16:54:17.034Z"
   },
   {
    "duration": 1721,
    "start_time": "2024-08-13T16:54:23.251Z"
   },
   {
    "duration": 0,
    "start_time": "2024-08-13T16:54:24.974Z"
   },
   {
    "duration": 0,
    "start_time": "2024-08-13T16:54:24.975Z"
   },
   {
    "duration": 0,
    "start_time": "2024-08-13T16:54:24.976Z"
   },
   {
    "duration": 0,
    "start_time": "2024-08-13T16:54:24.977Z"
   },
   {
    "duration": 0,
    "start_time": "2024-08-13T16:54:24.978Z"
   },
   {
    "duration": 0,
    "start_time": "2024-08-13T16:54:24.980Z"
   },
   {
    "duration": 0,
    "start_time": "2024-08-13T16:54:24.981Z"
   },
   {
    "duration": 1,
    "start_time": "2024-08-13T16:54:24.981Z"
   },
   {
    "duration": 0,
    "start_time": "2024-08-13T16:54:24.983Z"
   },
   {
    "duration": 0,
    "start_time": "2024-08-13T16:54:24.984Z"
   },
   {
    "duration": 0,
    "start_time": "2024-08-13T16:54:24.985Z"
   },
   {
    "duration": 0,
    "start_time": "2024-08-13T16:54:24.986Z"
   },
   {
    "duration": 0,
    "start_time": "2024-08-13T16:54:25.006Z"
   },
   {
    "duration": 0,
    "start_time": "2024-08-13T16:54:25.007Z"
   },
   {
    "duration": 0,
    "start_time": "2024-08-13T16:54:25.009Z"
   },
   {
    "duration": 0,
    "start_time": "2024-08-13T16:54:25.010Z"
   },
   {
    "duration": 0,
    "start_time": "2024-08-13T16:54:25.012Z"
   },
   {
    "duration": 0,
    "start_time": "2024-08-13T16:54:25.014Z"
   },
   {
    "duration": 0,
    "start_time": "2024-08-13T16:54:25.015Z"
   },
   {
    "duration": 0,
    "start_time": "2024-08-13T16:54:25.016Z"
   },
   {
    "duration": 0,
    "start_time": "2024-08-13T16:54:25.017Z"
   },
   {
    "duration": 0,
    "start_time": "2024-08-13T16:54:25.019Z"
   },
   {
    "duration": 0,
    "start_time": "2024-08-13T16:54:25.020Z"
   },
   {
    "duration": 0,
    "start_time": "2024-08-13T16:54:25.023Z"
   },
   {
    "duration": 0,
    "start_time": "2024-08-13T16:54:25.024Z"
   },
   {
    "duration": 0,
    "start_time": "2024-08-13T16:54:25.025Z"
   },
   {
    "duration": 0,
    "start_time": "2024-08-13T16:54:25.026Z"
   },
   {
    "duration": 0,
    "start_time": "2024-08-13T16:54:25.027Z"
   },
   {
    "duration": 0,
    "start_time": "2024-08-13T16:54:25.028Z"
   },
   {
    "duration": 0,
    "start_time": "2024-08-13T16:54:25.033Z"
   },
   {
    "duration": 0,
    "start_time": "2024-08-13T16:54:25.034Z"
   },
   {
    "duration": 0,
    "start_time": "2024-08-13T16:54:25.035Z"
   },
   {
    "duration": 0,
    "start_time": "2024-08-13T16:54:25.037Z"
   },
   {
    "duration": 0,
    "start_time": "2024-08-13T16:54:25.038Z"
   },
   {
    "duration": 0,
    "start_time": "2024-08-13T16:54:25.039Z"
   },
   {
    "duration": 0,
    "start_time": "2024-08-13T16:54:25.040Z"
   },
   {
    "duration": 0,
    "start_time": "2024-08-13T16:54:25.041Z"
   },
   {
    "duration": 0,
    "start_time": "2024-08-13T16:54:25.042Z"
   },
   {
    "duration": 0,
    "start_time": "2024-08-13T16:54:25.044Z"
   },
   {
    "duration": 6571,
    "start_time": "2024-08-13T16:55:50.845Z"
   },
   {
    "duration": 1788,
    "start_time": "2024-08-13T16:55:57.419Z"
   },
   {
    "duration": 0,
    "start_time": "2024-08-13T16:55:59.211Z"
   },
   {
    "duration": 0,
    "start_time": "2024-08-13T16:55:59.215Z"
   },
   {
    "duration": 0,
    "start_time": "2024-08-13T16:55:59.218Z"
   },
   {
    "duration": 0,
    "start_time": "2024-08-13T16:55:59.219Z"
   },
   {
    "duration": 0,
    "start_time": "2024-08-13T16:55:59.220Z"
   },
   {
    "duration": 0,
    "start_time": "2024-08-13T16:55:59.222Z"
   },
   {
    "duration": 0,
    "start_time": "2024-08-13T16:55:59.224Z"
   },
   {
    "duration": 0,
    "start_time": "2024-08-13T16:55:59.225Z"
   },
   {
    "duration": 0,
    "start_time": "2024-08-13T16:55:59.226Z"
   },
   {
    "duration": 0,
    "start_time": "2024-08-13T16:55:59.227Z"
   },
   {
    "duration": 0,
    "start_time": "2024-08-13T16:55:59.228Z"
   },
   {
    "duration": 0,
    "start_time": "2024-08-13T16:55:59.230Z"
   },
   {
    "duration": 0,
    "start_time": "2024-08-13T16:55:59.231Z"
   },
   {
    "duration": 0,
    "start_time": "2024-08-13T16:55:59.232Z"
   },
   {
    "duration": 0,
    "start_time": "2024-08-13T16:55:59.234Z"
   },
   {
    "duration": 0,
    "start_time": "2024-08-13T16:55:59.235Z"
   },
   {
    "duration": 0,
    "start_time": "2024-08-13T16:55:59.236Z"
   },
   {
    "duration": 0,
    "start_time": "2024-08-13T16:55:59.237Z"
   },
   {
    "duration": 0,
    "start_time": "2024-08-13T16:55:59.238Z"
   },
   {
    "duration": 0,
    "start_time": "2024-08-13T16:55:59.239Z"
   },
   {
    "duration": 0,
    "start_time": "2024-08-13T16:55:59.240Z"
   },
   {
    "duration": 0,
    "start_time": "2024-08-13T16:55:59.241Z"
   },
   {
    "duration": 0,
    "start_time": "2024-08-13T16:55:59.242Z"
   },
   {
    "duration": 0,
    "start_time": "2024-08-13T16:55:59.243Z"
   },
   {
    "duration": 0,
    "start_time": "2024-08-13T16:55:59.245Z"
   },
   {
    "duration": 0,
    "start_time": "2024-08-13T16:55:59.246Z"
   },
   {
    "duration": 0,
    "start_time": "2024-08-13T16:55:59.247Z"
   },
   {
    "duration": 0,
    "start_time": "2024-08-13T16:55:59.248Z"
   },
   {
    "duration": 0,
    "start_time": "2024-08-13T16:55:59.249Z"
   },
   {
    "duration": 0,
    "start_time": "2024-08-13T16:55:59.250Z"
   },
   {
    "duration": 0,
    "start_time": "2024-08-13T16:55:59.251Z"
   },
   {
    "duration": 0,
    "start_time": "2024-08-13T16:55:59.305Z"
   },
   {
    "duration": 0,
    "start_time": "2024-08-13T16:55:59.308Z"
   },
   {
    "duration": 0,
    "start_time": "2024-08-13T16:55:59.310Z"
   },
   {
    "duration": 0,
    "start_time": "2024-08-13T16:55:59.315Z"
   },
   {
    "duration": 0,
    "start_time": "2024-08-13T16:55:59.316Z"
   },
   {
    "duration": 0,
    "start_time": "2024-08-13T16:55:59.318Z"
   },
   {
    "duration": 1,
    "start_time": "2024-08-13T16:55:59.319Z"
   },
   {
    "duration": 0,
    "start_time": "2024-08-13T16:55:59.321Z"
   },
   {
    "duration": 15047,
    "start_time": "2024-08-13T16:57:31.469Z"
   },
   {
    "duration": 27,
    "start_time": "2024-08-13T16:57:46.519Z"
   },
   {
    "duration": 69,
    "start_time": "2024-08-13T16:58:53.772Z"
   },
   {
    "duration": 7675,
    "start_time": "2024-08-13T16:59:05.603Z"
   },
   {
    "duration": 33,
    "start_time": "2024-08-13T16:59:14.110Z"
   },
   {
    "duration": 17,
    "start_time": "2024-08-13T16:59:53.798Z"
   },
   {
    "duration": 17,
    "start_time": "2024-08-13T17:01:09.149Z"
   },
   {
    "duration": 6066,
    "start_time": "2024-08-13T17:03:11.673Z"
   },
   {
    "duration": 21,
    "start_time": "2024-08-13T17:03:17.741Z"
   },
   {
    "duration": 0,
    "start_time": "2024-08-13T17:03:17.764Z"
   },
   {
    "duration": 9287,
    "start_time": "2024-08-13T17:04:42.867Z"
   },
   {
    "duration": 8995,
    "start_time": "2024-08-13T17:05:00.383Z"
   },
   {
    "duration": 20,
    "start_time": "2024-08-13T17:05:14.085Z"
   },
   {
    "duration": 15,
    "start_time": "2024-08-13T17:05:21.843Z"
   },
   {
    "duration": 311,
    "start_time": "2024-08-13T17:05:24.967Z"
   },
   {
    "duration": 50,
    "start_time": "2024-08-13T17:05:41.188Z"
   },
   {
    "duration": 14,
    "start_time": "2024-08-13T17:05:46.463Z"
   },
   {
    "duration": 16,
    "start_time": "2024-08-13T17:05:53.222Z"
   },
   {
    "duration": 520,
    "start_time": "2024-08-13T17:05:58.285Z"
   },
   {
    "duration": 8936,
    "start_time": "2024-08-13T17:06:15.836Z"
   },
   {
    "duration": 2052,
    "start_time": "2024-08-13T17:06:24.774Z"
   },
   {
    "duration": 124,
    "start_time": "2024-08-13T17:06:26.828Z"
   },
   {
    "duration": 3,
    "start_time": "2024-08-13T17:06:26.954Z"
   },
   {
    "duration": 361,
    "start_time": "2024-08-13T17:06:26.959Z"
   },
   {
    "duration": 34,
    "start_time": "2024-08-13T17:06:27.321Z"
   },
   {
    "duration": 49,
    "start_time": "2024-08-13T17:06:27.356Z"
   },
   {
    "duration": 35,
    "start_time": "2024-08-13T17:06:27.408Z"
   },
   {
    "duration": 170,
    "start_time": "2024-08-13T17:06:27.445Z"
   },
   {
    "duration": 14,
    "start_time": "2024-08-13T17:06:27.618Z"
   },
   {
    "duration": 37,
    "start_time": "2024-08-13T17:06:27.633Z"
   },
   {
    "duration": 22,
    "start_time": "2024-08-13T17:06:27.671Z"
   },
   {
    "duration": 49,
    "start_time": "2024-08-13T17:06:27.696Z"
   },
   {
    "duration": 8,
    "start_time": "2024-08-13T17:06:27.749Z"
   },
   {
    "duration": 99,
    "start_time": "2024-08-13T17:06:27.758Z"
   },
   {
    "duration": 66,
    "start_time": "2024-08-13T17:06:27.859Z"
   },
   {
    "duration": 15,
    "start_time": "2024-08-13T17:06:27.926Z"
   },
   {
    "duration": 13,
    "start_time": "2024-08-13T17:06:27.942Z"
   },
   {
    "duration": 11,
    "start_time": "2024-08-13T17:06:27.957Z"
   },
   {
    "duration": 44,
    "start_time": "2024-08-13T17:06:27.970Z"
   },
   {
    "duration": 9,
    "start_time": "2024-08-13T17:06:28.015Z"
   },
   {
    "duration": 29,
    "start_time": "2024-08-13T17:06:28.026Z"
   },
   {
    "duration": 10,
    "start_time": "2024-08-13T17:06:28.056Z"
   },
   {
    "duration": 10,
    "start_time": "2024-08-13T17:06:28.068Z"
   },
   {
    "duration": 34,
    "start_time": "2024-08-13T17:06:28.080Z"
   },
   {
    "duration": 10,
    "start_time": "2024-08-13T17:06:28.117Z"
   },
   {
    "duration": 266,
    "start_time": "2024-08-13T17:06:28.129Z"
   },
   {
    "duration": 27,
    "start_time": "2024-08-13T17:06:28.397Z"
   },
   {
    "duration": 11,
    "start_time": "2024-08-13T17:06:28.426Z"
   },
   {
    "duration": 43,
    "start_time": "2024-08-13T17:06:28.439Z"
   },
   {
    "duration": 22,
    "start_time": "2024-08-13T17:06:28.505Z"
   },
   {
    "duration": 10,
    "start_time": "2024-08-13T17:06:28.528Z"
   },
   {
    "duration": 23,
    "start_time": "2024-08-13T17:06:28.540Z"
   },
   {
    "duration": 8,
    "start_time": "2024-08-13T17:06:28.565Z"
   },
   {
    "duration": 22,
    "start_time": "2024-08-13T17:06:28.606Z"
   },
   {
    "duration": 22,
    "start_time": "2024-08-13T17:06:28.630Z"
   },
   {
    "duration": 15,
    "start_time": "2024-08-13T17:06:28.654Z"
   },
   {
    "duration": 25,
    "start_time": "2024-08-13T17:06:28.671Z"
   },
   {
    "duration": 39,
    "start_time": "2024-08-13T17:06:28.697Z"
   },
   {
    "duration": 1071,
    "start_time": "2024-08-13T17:06:28.738Z"
   },
   {
    "duration": 0,
    "start_time": "2024-08-13T17:06:29.812Z"
   },
   {
    "duration": 0,
    "start_time": "2024-08-13T17:06:29.814Z"
   },
   {
    "duration": 3,
    "start_time": "2024-08-13T17:06:56.476Z"
   },
   {
    "duration": 27,
    "start_time": "2024-08-13T17:07:04.748Z"
   },
   {
    "duration": 9484,
    "start_time": "2024-08-13T17:07:13.460Z"
   },
   {
    "duration": 2031,
    "start_time": "2024-08-13T17:07:22.947Z"
   },
   {
    "duration": 26,
    "start_time": "2024-08-13T17:07:24.980Z"
   },
   {
    "duration": 120,
    "start_time": "2024-08-13T17:07:25.008Z"
   },
   {
    "duration": 3,
    "start_time": "2024-08-13T17:07:25.130Z"
   },
   {
    "duration": 503,
    "start_time": "2024-08-13T17:07:25.135Z"
   },
   {
    "duration": 35,
    "start_time": "2024-08-13T17:07:25.639Z"
   },
   {
    "duration": 66,
    "start_time": "2024-08-13T17:07:25.676Z"
   },
   {
    "duration": 36,
    "start_time": "2024-08-13T17:07:25.743Z"
   },
   {
    "duration": 82,
    "start_time": "2024-08-13T17:07:25.781Z"
   },
   {
    "duration": 13,
    "start_time": "2024-08-13T17:07:25.864Z"
   },
   {
    "duration": 23,
    "start_time": "2024-08-13T17:07:25.878Z"
   },
   {
    "duration": 26,
    "start_time": "2024-08-13T17:07:25.903Z"
   },
   {
    "duration": 45,
    "start_time": "2024-08-13T17:07:25.932Z"
   },
   {
    "duration": 9,
    "start_time": "2024-08-13T17:07:25.979Z"
   },
   {
    "duration": 9,
    "start_time": "2024-08-13T17:07:25.990Z"
   },
   {
    "duration": 78,
    "start_time": "2024-08-13T17:07:26.001Z"
   },
   {
    "duration": 27,
    "start_time": "2024-08-13T17:07:26.081Z"
   },
   {
    "duration": 19,
    "start_time": "2024-08-13T17:07:26.110Z"
   },
   {
    "duration": 12,
    "start_time": "2024-08-13T17:07:26.131Z"
   },
   {
    "duration": 38,
    "start_time": "2024-08-13T17:07:26.145Z"
   },
   {
    "duration": 20,
    "start_time": "2024-08-13T17:07:26.185Z"
   },
   {
    "duration": 35,
    "start_time": "2024-08-13T17:07:26.208Z"
   },
   {
    "duration": 20,
    "start_time": "2024-08-13T17:07:26.244Z"
   },
   {
    "duration": 18,
    "start_time": "2024-08-13T17:07:26.266Z"
   },
   {
    "duration": 22,
    "start_time": "2024-08-13T17:07:26.286Z"
   },
   {
    "duration": 12,
    "start_time": "2024-08-13T17:07:26.310Z"
   },
   {
    "duration": 387,
    "start_time": "2024-08-13T17:07:26.324Z"
   },
   {
    "duration": 24,
    "start_time": "2024-08-13T17:07:26.713Z"
   },
   {
    "duration": 99,
    "start_time": "2024-08-13T17:07:26.739Z"
   },
   {
    "duration": 44,
    "start_time": "2024-08-13T17:07:26.840Z"
   },
   {
    "duration": 20,
    "start_time": "2024-08-13T17:07:26.885Z"
   },
   {
    "duration": 11,
    "start_time": "2024-08-13T17:07:26.908Z"
   },
   {
    "duration": 56,
    "start_time": "2024-08-13T17:07:26.921Z"
   },
   {
    "duration": 11,
    "start_time": "2024-08-13T17:07:26.979Z"
   },
   {
    "duration": 49,
    "start_time": "2024-08-13T17:07:26.992Z"
   },
   {
    "duration": 26,
    "start_time": "2024-08-13T17:07:27.043Z"
   },
   {
    "duration": 23,
    "start_time": "2024-08-13T17:07:27.071Z"
   },
   {
    "duration": 31,
    "start_time": "2024-08-13T17:07:27.096Z"
   },
   {
    "duration": 25,
    "start_time": "2024-08-13T17:07:27.129Z"
   },
   {
    "duration": 2185,
    "start_time": "2024-08-13T17:07:27.158Z"
   },
   {
    "duration": 13,
    "start_time": "2024-08-13T17:07:29.345Z"
   },
   {
    "duration": 7,
    "start_time": "2024-08-13T17:07:29.360Z"
   },
   {
    "duration": 6,
    "start_time": "2024-08-13T17:10:08.422Z"
   },
   {
    "duration": 208,
    "start_time": "2024-08-13T17:10:10.429Z"
   },
   {
    "duration": 8995,
    "start_time": "2024-08-13T17:12:10.175Z"
   },
   {
    "duration": 3811,
    "start_time": "2024-08-13T17:13:46.972Z"
   },
   {
    "duration": 7068,
    "start_time": "2024-08-13T17:16:03.574Z"
   },
   {
    "duration": 23,
    "start_time": "2024-08-13T17:27:57.207Z"
   },
   {
    "duration": 24,
    "start_time": "2024-08-13T17:28:09.206Z"
   },
   {
    "duration": 72,
    "start_time": "2024-08-13T17:28:38.562Z"
   },
   {
    "duration": 27,
    "start_time": "2024-08-13T17:28:56.173Z"
   },
   {
    "duration": 35,
    "start_time": "2024-08-13T17:29:21.893Z"
   },
   {
    "duration": 31,
    "start_time": "2024-08-13T17:29:44.221Z"
   },
   {
    "duration": 46,
    "start_time": "2024-08-13T17:30:40.177Z"
   },
   {
    "duration": 31,
    "start_time": "2024-08-13T17:31:09.268Z"
   },
   {
    "duration": 678,
    "start_time": "2024-08-13T17:31:39.564Z"
   },
   {
    "duration": 21,
    "start_time": "2024-08-13T17:34:08.797Z"
   },
   {
    "duration": 18,
    "start_time": "2024-08-13T17:35:36.780Z"
   },
   {
    "duration": 20,
    "start_time": "2024-08-13T17:37:16.496Z"
   },
   {
    "duration": 17,
    "start_time": "2024-08-13T17:53:44.447Z"
   },
   {
    "duration": 17,
    "start_time": "2024-08-13T17:54:10.040Z"
   },
   {
    "duration": 19,
    "start_time": "2024-08-13T17:54:35.992Z"
   },
   {
    "duration": 59,
    "start_time": "2024-08-13T17:56:59.616Z"
   },
   {
    "duration": 24,
    "start_time": "2024-08-13T17:57:48.837Z"
   },
   {
    "duration": 9,
    "start_time": "2024-08-13T17:59:19.778Z"
   },
   {
    "duration": 23,
    "start_time": "2024-08-13T17:59:25.724Z"
   },
   {
    "duration": 24,
    "start_time": "2024-08-13T18:00:52.401Z"
   },
   {
    "duration": 17,
    "start_time": "2024-08-13T18:02:09.040Z"
   },
   {
    "duration": 61,
    "start_time": "2024-08-13T18:04:39.668Z"
   },
   {
    "duration": 85,
    "start_time": "2024-08-13T18:16:43.228Z"
   },
   {
    "duration": 72,
    "start_time": "2024-08-13T18:17:32.601Z"
   },
   {
    "duration": 69,
    "start_time": "2024-08-13T18:23:42.199Z"
   },
   {
    "duration": 23,
    "start_time": "2024-08-13T18:24:00.693Z"
   },
   {
    "duration": 18,
    "start_time": "2024-08-13T18:26:09.825Z"
   },
   {
    "duration": 19,
    "start_time": "2024-08-13T18:37:51.650Z"
   },
   {
    "duration": 17,
    "start_time": "2024-08-13T18:38:06.193Z"
   },
   {
    "duration": 14,
    "start_time": "2024-08-13T18:40:19.722Z"
   },
   {
    "duration": 21,
    "start_time": "2024-08-13T18:40:53.417Z"
   },
   {
    "duration": 15,
    "start_time": "2024-08-13T18:41:00.717Z"
   },
   {
    "duration": 21,
    "start_time": "2024-08-13T18:43:00.838Z"
   },
   {
    "duration": 38,
    "start_time": "2024-08-13T18:45:36.159Z"
   },
   {
    "duration": 39,
    "start_time": "2024-08-13T18:48:20.125Z"
   },
   {
    "duration": 40,
    "start_time": "2024-08-13T18:48:36.956Z"
   },
   {
    "duration": 31,
    "start_time": "2024-08-13T18:48:58.886Z"
   },
   {
    "duration": 37,
    "start_time": "2024-08-13T18:52:51.831Z"
   },
   {
    "duration": 38,
    "start_time": "2024-08-13T18:53:04.387Z"
   },
   {
    "duration": 36,
    "start_time": "2024-08-13T18:53:26.955Z"
   },
   {
    "duration": 47,
    "start_time": "2024-08-13T19:42:33.630Z"
   },
   {
    "duration": 58,
    "start_time": "2024-08-13T19:47:08.876Z"
   },
   {
    "duration": 33,
    "start_time": "2024-08-13T19:47:18.678Z"
   },
   {
    "duration": 39,
    "start_time": "2024-08-13T19:50:48.018Z"
   },
   {
    "duration": 26,
    "start_time": "2024-08-13T19:51:07.440Z"
   },
   {
    "duration": 37,
    "start_time": "2024-08-13T19:53:45.994Z"
   },
   {
    "duration": 49,
    "start_time": "2024-08-13T19:55:43.028Z"
   },
   {
    "duration": 32,
    "start_time": "2024-08-13T19:56:14.946Z"
   },
   {
    "duration": 714,
    "start_time": "2024-08-13T19:56:27.864Z"
   },
   {
    "duration": 6,
    "start_time": "2024-08-13T20:04:31.066Z"
   },
   {
    "duration": 15,
    "start_time": "2024-08-13T20:05:14.858Z"
   },
   {
    "duration": 8892,
    "start_time": "2024-08-13T20:07:42.891Z"
   },
   {
    "duration": 2083,
    "start_time": "2024-08-13T20:07:51.785Z"
   },
   {
    "duration": 29,
    "start_time": "2024-08-13T20:07:53.870Z"
   },
   {
    "duration": 120,
    "start_time": "2024-08-13T20:07:53.904Z"
   },
   {
    "duration": 3,
    "start_time": "2024-08-13T20:07:54.026Z"
   },
   {
    "duration": 453,
    "start_time": "2024-08-13T20:07:54.031Z"
   },
   {
    "duration": 35,
    "start_time": "2024-08-13T20:07:54.486Z"
   },
   {
    "duration": 39,
    "start_time": "2024-08-13T20:07:54.523Z"
   },
   {
    "duration": 50,
    "start_time": "2024-08-13T20:07:54.564Z"
   },
   {
    "duration": 113,
    "start_time": "2024-08-13T20:07:54.617Z"
   },
   {
    "duration": 12,
    "start_time": "2024-08-13T20:07:54.732Z"
   },
   {
    "duration": 150,
    "start_time": "2024-08-13T20:07:54.746Z"
   },
   {
    "duration": 28,
    "start_time": "2024-08-13T20:07:54.898Z"
   },
   {
    "duration": 89,
    "start_time": "2024-08-13T20:07:54.930Z"
   },
   {
    "duration": 8,
    "start_time": "2024-08-13T20:07:55.021Z"
   },
   {
    "duration": 22,
    "start_time": "2024-08-13T20:07:55.031Z"
   },
   {
    "duration": 65,
    "start_time": "2024-08-13T20:07:55.054Z"
   },
   {
    "duration": 14,
    "start_time": "2024-08-13T20:07:55.121Z"
   },
   {
    "duration": 12,
    "start_time": "2024-08-13T20:07:55.137Z"
   },
   {
    "duration": 68,
    "start_time": "2024-08-13T20:07:55.151Z"
   },
   {
    "duration": 26,
    "start_time": "2024-08-13T20:07:55.221Z"
   },
   {
    "duration": 7,
    "start_time": "2024-08-13T20:07:55.249Z"
   },
   {
    "duration": 46,
    "start_time": "2024-08-13T20:07:55.259Z"
   },
   {
    "duration": 11,
    "start_time": "2024-08-13T20:07:55.307Z"
   },
   {
    "duration": 5,
    "start_time": "2024-08-13T20:07:55.319Z"
   },
   {
    "duration": 11,
    "start_time": "2024-08-13T20:07:55.325Z"
   },
   {
    "duration": 7,
    "start_time": "2024-08-13T20:07:55.338Z"
   },
   {
    "duration": 294,
    "start_time": "2024-08-13T20:07:55.347Z"
   },
   {
    "duration": 17,
    "start_time": "2024-08-13T20:07:55.642Z"
   },
   {
    "duration": 13,
    "start_time": "2024-08-13T20:07:55.662Z"
   },
   {
    "duration": 68,
    "start_time": "2024-08-13T20:07:55.677Z"
   },
   {
    "duration": 18,
    "start_time": "2024-08-13T20:07:55.746Z"
   },
   {
    "duration": 9,
    "start_time": "2024-08-13T20:07:55.766Z"
   },
   {
    "duration": 44,
    "start_time": "2024-08-13T20:07:55.777Z"
   },
   {
    "duration": 25,
    "start_time": "2024-08-13T20:07:55.823Z"
   },
   {
    "duration": 31,
    "start_time": "2024-08-13T20:07:55.850Z"
   },
   {
    "duration": 34,
    "start_time": "2024-08-13T20:07:55.883Z"
   },
   {
    "duration": 14,
    "start_time": "2024-08-13T20:07:55.918Z"
   },
   {
    "duration": 27,
    "start_time": "2024-08-13T20:07:55.933Z"
   },
   {
    "duration": 24,
    "start_time": "2024-08-13T20:07:55.961Z"
   },
   {
    "duration": 2055,
    "start_time": "2024-08-13T20:07:56.004Z"
   },
   {
    "duration": 14,
    "start_time": "2024-08-13T20:07:58.060Z"
   },
   {
    "duration": 14,
    "start_time": "2024-08-13T20:07:58.076Z"
   },
   {
    "duration": 3607,
    "start_time": "2024-08-13T20:07:58.092Z"
   },
   {
    "duration": 32,
    "start_time": "2024-08-13T20:08:01.705Z"
   },
   {
    "duration": 209,
    "start_time": "2024-08-13T20:08:01.739Z"
   },
   {
    "duration": 6,
    "start_time": "2024-08-13T20:08:01.950Z"
   },
   {
    "duration": 92834,
    "start_time": "2024-08-13T20:08:01.958Z"
   },
   {
    "duration": 23,
    "start_time": "2024-08-13T20:10:04.890Z"
   },
   {
    "duration": 63,
    "start_time": "2024-08-13T20:10:18.993Z"
   },
   {
    "duration": 26,
    "start_time": "2024-08-13T20:10:24.970Z"
   },
   {
    "duration": 14,
    "start_time": "2024-08-13T20:16:23.086Z"
   },
   {
    "duration": 7,
    "start_time": "2024-08-13T20:16:31.784Z"
   },
   {
    "duration": 163,
    "start_time": "2024-08-13T20:17:44.195Z"
   },
   {
    "duration": 8572,
    "start_time": "2024-08-13T20:19:09.257Z"
   },
   {
    "duration": 2006,
    "start_time": "2024-08-13T20:19:17.831Z"
   },
   {
    "duration": 23,
    "start_time": "2024-08-13T20:19:19.839Z"
   },
   {
    "duration": 116,
    "start_time": "2024-08-13T20:19:19.864Z"
   },
   {
    "duration": 2,
    "start_time": "2024-08-13T20:19:19.983Z"
   },
   {
    "duration": 369,
    "start_time": "2024-08-13T20:19:19.987Z"
   },
   {
    "duration": 33,
    "start_time": "2024-08-13T20:19:20.358Z"
   },
   {
    "duration": 47,
    "start_time": "2024-08-13T20:19:20.392Z"
   },
   {
    "duration": 34,
    "start_time": "2024-08-13T20:19:20.440Z"
   },
   {
    "duration": 125,
    "start_time": "2024-08-13T20:19:20.475Z"
   },
   {
    "duration": 13,
    "start_time": "2024-08-13T20:19:20.602Z"
   },
   {
    "duration": 181,
    "start_time": "2024-08-13T20:19:20.617Z"
   },
   {
    "duration": 24,
    "start_time": "2024-08-13T20:19:20.800Z"
   },
   {
    "duration": 42,
    "start_time": "2024-08-13T20:19:20.828Z"
   },
   {
    "duration": 9,
    "start_time": "2024-08-13T20:19:20.872Z"
   },
   {
    "duration": 22,
    "start_time": "2024-08-13T20:19:20.883Z"
   },
   {
    "duration": 74,
    "start_time": "2024-08-13T20:19:20.907Z"
   },
   {
    "duration": 15,
    "start_time": "2024-08-13T20:19:20.982Z"
   },
   {
    "duration": 18,
    "start_time": "2024-08-13T20:19:20.998Z"
   },
   {
    "duration": 12,
    "start_time": "2024-08-13T20:19:21.018Z"
   },
   {
    "duration": 61,
    "start_time": "2024-08-13T20:19:21.032Z"
   },
   {
    "duration": 13,
    "start_time": "2024-08-13T20:19:21.095Z"
   },
   {
    "duration": 34,
    "start_time": "2024-08-13T20:19:21.110Z"
   },
   {
    "duration": 10,
    "start_time": "2024-08-13T20:19:21.146Z"
   },
   {
    "duration": 5,
    "start_time": "2024-08-13T20:19:21.158Z"
   },
   {
    "duration": 10,
    "start_time": "2024-08-13T20:19:21.165Z"
   },
   {
    "duration": 77,
    "start_time": "2024-08-13T20:19:21.177Z"
   },
   {
    "duration": 244,
    "start_time": "2024-08-13T20:19:21.256Z"
   },
   {
    "duration": 16,
    "start_time": "2024-08-13T20:19:21.501Z"
   },
   {
    "duration": 11,
    "start_time": "2024-08-13T20:19:21.519Z"
   },
   {
    "duration": 41,
    "start_time": "2024-08-13T20:19:21.531Z"
   },
   {
    "duration": 43,
    "start_time": "2024-08-13T20:19:21.573Z"
   },
   {
    "duration": 7,
    "start_time": "2024-08-13T20:19:21.618Z"
   },
   {
    "duration": 23,
    "start_time": "2024-08-13T20:19:21.627Z"
   },
   {
    "duration": 8,
    "start_time": "2024-08-13T20:19:21.651Z"
   },
   {
    "duration": 50,
    "start_time": "2024-08-13T20:19:21.661Z"
   },
   {
    "duration": 11,
    "start_time": "2024-08-13T20:19:21.712Z"
   },
   {
    "duration": 26,
    "start_time": "2024-08-13T20:19:21.725Z"
   },
   {
    "duration": 21,
    "start_time": "2024-08-13T20:19:21.753Z"
   },
   {
    "duration": 33,
    "start_time": "2024-08-13T20:19:21.776Z"
   },
   {
    "duration": 1924,
    "start_time": "2024-08-13T20:19:21.813Z"
   },
   {
    "duration": 11,
    "start_time": "2024-08-13T20:19:23.739Z"
   },
   {
    "duration": 6,
    "start_time": "2024-08-13T20:19:23.752Z"
   },
   {
    "duration": 3497,
    "start_time": "2024-08-13T20:19:23.759Z"
   },
   {
    "duration": 29,
    "start_time": "2024-08-13T20:19:27.257Z"
   },
   {
    "duration": 195,
    "start_time": "2024-08-13T20:19:27.287Z"
   },
   {
    "duration": 5,
    "start_time": "2024-08-13T20:19:27.484Z"
   },
   {
    "duration": 20,
    "start_time": "2024-08-13T20:19:27.490Z"
   },
   {
    "duration": 91301,
    "start_time": "2024-08-13T20:19:27.511Z"
   },
   {
    "duration": 24,
    "start_time": "2024-08-13T20:20:58.814Z"
   },
   {
    "duration": 13885,
    "start_time": "2024-08-14T09:21:24.653Z"
   },
   {
    "duration": 2041,
    "start_time": "2024-08-14T09:21:38.540Z"
   },
   {
    "duration": 0,
    "start_time": "2024-08-14T09:21:40.584Z"
   },
   {
    "duration": 0,
    "start_time": "2024-08-14T09:21:40.585Z"
   },
   {
    "duration": 0,
    "start_time": "2024-08-14T09:21:40.587Z"
   },
   {
    "duration": 0,
    "start_time": "2024-08-14T09:21:40.588Z"
   },
   {
    "duration": 0,
    "start_time": "2024-08-14T09:21:40.589Z"
   },
   {
    "duration": 0,
    "start_time": "2024-08-14T09:21:40.590Z"
   },
   {
    "duration": 0,
    "start_time": "2024-08-14T09:21:40.591Z"
   },
   {
    "duration": 0,
    "start_time": "2024-08-14T09:21:40.592Z"
   },
   {
    "duration": 0,
    "start_time": "2024-08-14T09:21:40.593Z"
   },
   {
    "duration": 0,
    "start_time": "2024-08-14T09:21:40.594Z"
   },
   {
    "duration": 0,
    "start_time": "2024-08-14T09:21:40.595Z"
   },
   {
    "duration": 0,
    "start_time": "2024-08-14T09:21:40.596Z"
   },
   {
    "duration": 0,
    "start_time": "2024-08-14T09:21:40.597Z"
   },
   {
    "duration": 0,
    "start_time": "2024-08-14T09:21:40.598Z"
   },
   {
    "duration": 0,
    "start_time": "2024-08-14T09:21:40.599Z"
   },
   {
    "duration": 1,
    "start_time": "2024-08-14T09:21:40.600Z"
   },
   {
    "duration": 0,
    "start_time": "2024-08-14T09:21:40.602Z"
   },
   {
    "duration": 0,
    "start_time": "2024-08-14T09:21:40.603Z"
   },
   {
    "duration": 0,
    "start_time": "2024-08-14T09:21:40.604Z"
   },
   {
    "duration": 0,
    "start_time": "2024-08-14T09:21:40.605Z"
   },
   {
    "duration": 0,
    "start_time": "2024-08-14T09:21:40.607Z"
   },
   {
    "duration": 0,
    "start_time": "2024-08-14T09:21:40.608Z"
   },
   {
    "duration": 0,
    "start_time": "2024-08-14T09:21:40.608Z"
   },
   {
    "duration": 0,
    "start_time": "2024-08-14T09:21:40.609Z"
   },
   {
    "duration": 0,
    "start_time": "2024-08-14T09:21:40.611Z"
   },
   {
    "duration": 0,
    "start_time": "2024-08-14T09:21:40.612Z"
   },
   {
    "duration": 0,
    "start_time": "2024-08-14T09:21:40.613Z"
   },
   {
    "duration": 0,
    "start_time": "2024-08-14T09:21:40.614Z"
   },
   {
    "duration": 0,
    "start_time": "2024-08-14T09:21:40.615Z"
   },
   {
    "duration": 0,
    "start_time": "2024-08-14T09:21:40.666Z"
   },
   {
    "duration": 0,
    "start_time": "2024-08-14T09:21:40.667Z"
   },
   {
    "duration": 0,
    "start_time": "2024-08-14T09:21:40.668Z"
   },
   {
    "duration": 0,
    "start_time": "2024-08-14T09:21:40.669Z"
   },
   {
    "duration": 0,
    "start_time": "2024-08-14T09:21:40.671Z"
   },
   {
    "duration": 0,
    "start_time": "2024-08-14T09:21:40.672Z"
   },
   {
    "duration": 0,
    "start_time": "2024-08-14T09:21:40.673Z"
   },
   {
    "duration": 0,
    "start_time": "2024-08-14T09:21:40.674Z"
   },
   {
    "duration": 0,
    "start_time": "2024-08-14T09:21:40.675Z"
   },
   {
    "duration": 0,
    "start_time": "2024-08-14T09:21:40.677Z"
   },
   {
    "duration": 0,
    "start_time": "2024-08-14T09:21:40.678Z"
   },
   {
    "duration": 0,
    "start_time": "2024-08-14T09:21:40.679Z"
   },
   {
    "duration": 0,
    "start_time": "2024-08-14T09:21:40.681Z"
   },
   {
    "duration": 0,
    "start_time": "2024-08-14T09:21:40.682Z"
   },
   {
    "duration": 0,
    "start_time": "2024-08-14T09:21:40.684Z"
   },
   {
    "duration": 0,
    "start_time": "2024-08-14T09:21:40.685Z"
   },
   {
    "duration": 0,
    "start_time": "2024-08-14T09:21:40.686Z"
   },
   {
    "duration": 0,
    "start_time": "2024-08-14T09:21:40.688Z"
   },
   {
    "duration": 0,
    "start_time": "2024-08-14T09:21:40.689Z"
   },
   {
    "duration": 11684,
    "start_time": "2024-08-14T09:35:02.780Z"
   },
   {
    "duration": 58,
    "start_time": "2024-08-14T09:35:17.476Z"
   },
   {
    "duration": 24,
    "start_time": "2024-08-14T09:35:22.748Z"
   },
   {
    "duration": 501,
    "start_time": "2024-08-14T09:35:23.804Z"
   },
   {
    "duration": 10918,
    "start_time": "2024-08-14T09:36:13.475Z"
   },
   {
    "duration": 3,
    "start_time": "2024-08-14T09:36:26.526Z"
   },
   {
    "duration": 2,
    "start_time": "2024-08-14T09:36:27.564Z"
   },
   {
    "duration": 13,
    "start_time": "2024-08-14T09:36:28.670Z"
   },
   {
    "duration": 2,
    "start_time": "2024-08-14T09:36:31.257Z"
   },
   {
    "duration": 353,
    "start_time": "2024-08-14T09:36:32.374Z"
   },
   {
    "duration": 44,
    "start_time": "2024-08-14T09:36:32.728Z"
   },
   {
    "duration": 59,
    "start_time": "2024-08-14T09:36:32.956Z"
   },
   {
    "duration": 21,
    "start_time": "2024-08-14T09:36:33.133Z"
   },
   {
    "duration": 127,
    "start_time": "2024-08-14T09:36:33.507Z"
   },
   {
    "duration": 17,
    "start_time": "2024-08-14T09:36:33.692Z"
   },
   {
    "duration": 25,
    "start_time": "2024-08-14T09:36:33.874Z"
   },
   {
    "duration": 235,
    "start_time": "2024-08-14T09:36:34.068Z"
   },
   {
    "duration": 77,
    "start_time": "2024-08-14T09:36:34.305Z"
   },
   {
    "duration": 11,
    "start_time": "2024-08-14T09:36:34.426Z"
   },
   {
    "duration": 12,
    "start_time": "2024-08-14T09:36:34.974Z"
   },
   {
    "duration": 72,
    "start_time": "2024-08-14T09:36:35.164Z"
   },
   {
    "duration": 21,
    "start_time": "2024-08-14T09:36:35.355Z"
   },
   {
    "duration": 12,
    "start_time": "2024-08-14T09:36:36.072Z"
   },
   {
    "duration": 14,
    "start_time": "2024-08-14T09:36:36.263Z"
   },
   {
    "duration": 24,
    "start_time": "2024-08-14T09:36:36.636Z"
   },
   {
    "duration": 6,
    "start_time": "2024-08-14T09:36:36.821Z"
   },
   {
    "duration": 24,
    "start_time": "2024-08-14T09:36:37.009Z"
   },
   {
    "duration": 10,
    "start_time": "2024-08-14T09:36:37.175Z"
   },
   {
    "duration": 5,
    "start_time": "2024-08-14T09:36:37.346Z"
   },
   {
    "duration": 11,
    "start_time": "2024-08-14T09:36:37.543Z"
   },
   {
    "duration": 6,
    "start_time": "2024-08-14T09:36:37.931Z"
   },
   {
    "duration": 269,
    "start_time": "2024-08-14T09:36:38.125Z"
   },
   {
    "duration": 17,
    "start_time": "2024-08-14T09:36:38.396Z"
   },
   {
    "duration": 15,
    "start_time": "2024-08-14T09:36:38.750Z"
   },
   {
    "duration": 48,
    "start_time": "2024-08-14T09:36:38.927Z"
   },
   {
    "duration": 21,
    "start_time": "2024-08-14T09:36:39.108Z"
   },
   {
    "duration": 11,
    "start_time": "2024-08-14T09:36:39.281Z"
   },
   {
    "duration": 18,
    "start_time": "2024-08-14T09:36:39.479Z"
   },
   {
    "duration": 10,
    "start_time": "2024-08-14T09:36:39.839Z"
   },
   {
    "duration": 23,
    "start_time": "2024-08-14T09:36:40.032Z"
   },
   {
    "duration": 19,
    "start_time": "2024-08-14T09:36:40.224Z"
   },
   {
    "duration": 16,
    "start_time": "2024-08-14T09:36:40.591Z"
   },
   {
    "duration": 41,
    "start_time": "2024-08-14T09:36:40.765Z"
   },
   {
    "duration": 23,
    "start_time": "2024-08-14T09:36:42.377Z"
   },
   {
    "duration": 1776,
    "start_time": "2024-08-14T09:36:42.764Z"
   },
   {
    "duration": 23,
    "start_time": "2024-08-14T09:36:44.542Z"
   },
   {
    "duration": 7,
    "start_time": "2024-08-14T09:36:44.567Z"
   },
   {
    "duration": 4158,
    "start_time": "2024-08-14T09:36:44.616Z"
   },
   {
    "duration": 28,
    "start_time": "2024-08-14T09:36:48.777Z"
   },
   {
    "duration": 200,
    "start_time": "2024-08-14T09:36:48.806Z"
   },
   {
    "duration": 5,
    "start_time": "2024-08-14T09:36:49.009Z"
   },
   {
    "duration": 10,
    "start_time": "2024-08-14T09:36:49.015Z"
   },
   {
    "duration": 96260,
    "start_time": "2024-08-14T09:36:49.026Z"
   },
   {
    "duration": 20,
    "start_time": "2024-08-14T09:38:25.288Z"
   },
   {
    "duration": 47,
    "start_time": "2024-08-14T09:40:23.427Z"
   },
   {
    "duration": 113,
    "start_time": "2024-08-14T09:40:24.655Z"
   },
   {
    "duration": 46,
    "start_time": "2024-08-14T10:00:10.826Z"
   },
   {
    "duration": 39,
    "start_time": "2024-08-14T10:00:49.341Z"
   },
   {
    "duration": 7604,
    "start_time": "2024-08-14T10:01:41.238Z"
   },
   {
    "duration": 7830,
    "start_time": "2024-08-14T10:01:56.485Z"
   },
   {
    "duration": 25,
    "start_time": "2024-08-14T10:02:11.140Z"
   },
   {
    "duration": 7735,
    "start_time": "2024-08-14T10:06:11.437Z"
   },
   {
    "duration": 29,
    "start_time": "2024-08-14T10:06:32.880Z"
   },
   {
    "duration": 26,
    "start_time": "2024-08-14T10:06:37.057Z"
   },
   {
    "duration": 16,
    "start_time": "2024-08-14T10:07:56.091Z"
   },
   {
    "duration": 26,
    "start_time": "2024-08-14T10:08:04.303Z"
   },
   {
    "duration": 21,
    "start_time": "2024-08-14T10:08:04.937Z"
   },
   {
    "duration": 7082,
    "start_time": "2024-08-14T10:08:10.717Z"
   },
   {
    "duration": 22,
    "start_time": "2024-08-14T10:08:22.454Z"
   },
   {
    "duration": 77,
    "start_time": "2024-08-14T10:14:34.779Z"
   },
   {
    "duration": 15,
    "start_time": "2024-08-14T10:19:36.008Z"
   },
   {
    "duration": 7449,
    "start_time": "2024-08-14T10:19:44.612Z"
   },
   {
    "duration": 22,
    "start_time": "2024-08-14T10:19:58.289Z"
   },
   {
    "duration": 28,
    "start_time": "2024-08-14T10:20:52.804Z"
   },
   {
    "duration": 106,
    "start_time": "2024-08-14T10:21:21.929Z"
   },
   {
    "duration": 99,
    "start_time": "2024-08-14T10:23:42.067Z"
   },
   {
    "duration": 107,
    "start_time": "2024-08-14T10:23:55.965Z"
   },
   {
    "duration": 100,
    "start_time": "2024-08-14T10:24:07.523Z"
   },
   {
    "duration": 100,
    "start_time": "2024-08-14T10:38:37.246Z"
   },
   {
    "duration": 28,
    "start_time": "2024-08-14T10:38:54.059Z"
   },
   {
    "duration": 274,
    "start_time": "2024-08-14T10:40:03.213Z"
   },
   {
    "duration": 20,
    "start_time": "2024-08-14T10:40:09.905Z"
   },
   {
    "duration": 14,
    "start_time": "2024-08-14T10:45:05.892Z"
   },
   {
    "duration": 7373,
    "start_time": "2024-08-14T10:46:00.976Z"
   },
   {
    "duration": 20,
    "start_time": "2024-08-14T10:46:11.379Z"
   },
   {
    "duration": 19,
    "start_time": "2024-08-14T10:48:49.135Z"
   },
   {
    "duration": 17,
    "start_time": "2024-08-14T10:48:57.348Z"
   },
   {
    "duration": 19,
    "start_time": "2024-08-14T10:49:02.021Z"
   },
   {
    "duration": 20,
    "start_time": "2024-08-14T10:49:08.275Z"
   },
   {
    "duration": 8363,
    "start_time": "2024-08-14T10:50:04.176Z"
   },
   {
    "duration": 18,
    "start_time": "2024-08-14T10:50:12.540Z"
   },
   {
    "duration": 6,
    "start_time": "2024-08-14T10:54:30.123Z"
   },
   {
    "duration": 5,
    "start_time": "2024-08-14T10:54:32.309Z"
   },
   {
    "duration": 5,
    "start_time": "2024-08-14T10:55:00.397Z"
   },
   {
    "duration": 311,
    "start_time": "2024-08-14T10:55:01.113Z"
   },
   {
    "duration": 278,
    "start_time": "2024-08-14T10:58:58.641Z"
   },
   {
    "duration": 215,
    "start_time": "2024-08-14T10:59:17.251Z"
   },
   {
    "duration": 9,
    "start_time": "2024-08-14T11:05:56.304Z"
   },
   {
    "duration": 141,
    "start_time": "2024-08-14T11:06:04.426Z"
   },
   {
    "duration": 15,
    "start_time": "2024-08-14T11:08:46.364Z"
   },
   {
    "duration": 9,
    "start_time": "2024-08-14T11:09:00.855Z"
   },
   {
    "duration": 246,
    "start_time": "2024-08-14T11:09:35.341Z"
   },
   {
    "duration": 19,
    "start_time": "2024-08-14T11:10:18.884Z"
   },
   {
    "duration": 16,
    "start_time": "2024-08-14T11:10:38.216Z"
   },
   {
    "duration": 13,
    "start_time": "2024-08-14T11:11:41.505Z"
   },
   {
    "duration": 15,
    "start_time": "2024-08-14T11:11:49.673Z"
   },
   {
    "duration": 7,
    "start_time": "2024-08-14T11:11:55.089Z"
   },
   {
    "duration": 38,
    "start_time": "2024-08-14T11:11:57.145Z"
   },
   {
    "duration": 26,
    "start_time": "2024-08-14T11:12:31.393Z"
   },
   {
    "duration": 27,
    "start_time": "2024-08-14T11:12:53.318Z"
   },
   {
    "duration": 26,
    "start_time": "2024-08-14T11:12:58.523Z"
   },
   {
    "duration": 6,
    "start_time": "2024-08-14T11:17:54.459Z"
   },
   {
    "duration": 3,
    "start_time": "2024-08-14T11:18:18.732Z"
   },
   {
    "duration": 4,
    "start_time": "2024-08-14T11:18:38.739Z"
   },
   {
    "duration": 4,
    "start_time": "2024-08-14T11:20:11.769Z"
   },
   {
    "duration": 6,
    "start_time": "2024-08-14T11:20:21.330Z"
   },
   {
    "duration": 11,
    "start_time": "2024-08-14T11:20:29.965Z"
   },
   {
    "duration": 25,
    "start_time": "2024-08-14T11:21:37.159Z"
   },
   {
    "duration": 29600,
    "start_time": "2024-08-14T11:21:43.427Z"
   },
   {
    "duration": 21,
    "start_time": "2024-08-14T11:22:13.030Z"
   },
   {
    "duration": 17,
    "start_time": "2024-08-14T11:22:13.052Z"
   },
   {
    "duration": 19,
    "start_time": "2024-08-14T11:22:13.071Z"
   },
   {
    "duration": 22,
    "start_time": "2024-08-14T11:22:13.091Z"
   },
   {
    "duration": 153,
    "start_time": "2024-08-14T11:23:05.522Z"
   },
   {
    "duration": 329,
    "start_time": "2024-08-14T11:23:19.190Z"
   },
   {
    "duration": 40,
    "start_time": "2024-08-14T11:23:22.527Z"
   },
   {
    "duration": 284,
    "start_time": "2024-08-14T11:23:27.485Z"
   },
   {
    "duration": 6,
    "start_time": "2024-08-14T11:29:20.427Z"
   },
   {
    "duration": 7,
    "start_time": "2024-08-14T11:30:10.254Z"
   },
   {
    "duration": 3,
    "start_time": "2024-08-14T11:30:12.517Z"
   },
   {
    "duration": 7,
    "start_time": "2024-08-14T11:30:18.156Z"
   },
   {
    "duration": 8,
    "start_time": "2024-08-14T11:30:18.707Z"
   },
   {
    "duration": 4,
    "start_time": "2024-08-14T11:30:19.546Z"
   },
   {
    "duration": 23,
    "start_time": "2024-08-14T11:30:21.444Z"
   },
   {
    "duration": 24,
    "start_time": "2024-08-14T11:30:34.191Z"
   },
   {
    "duration": 3,
    "start_time": "2024-08-14T11:31:30.154Z"
   },
   {
    "duration": 8,
    "start_time": "2024-08-14T11:32:55.791Z"
   },
   {
    "duration": 6,
    "start_time": "2024-08-14T11:32:57.387Z"
   },
   {
    "duration": 26,
    "start_time": "2024-08-14T11:32:58.371Z"
   },
   {
    "duration": 26,
    "start_time": "2024-08-14T11:36:24.719Z"
   },
   {
    "duration": 5570,
    "start_time": "2024-08-14T11:36:26.450Z"
   },
   {
    "duration": 18,
    "start_time": "2024-08-14T11:36:32.021Z"
   },
   {
    "duration": 6,
    "start_time": "2024-08-14T11:36:41.510Z"
   },
   {
    "duration": 5,
    "start_time": "2024-08-14T11:36:43.103Z"
   },
   {
    "duration": 19,
    "start_time": "2024-08-14T11:36:44.203Z"
   },
   {
    "duration": 10387,
    "start_time": "2024-08-14T11:43:31.664Z"
   },
   {
    "duration": 1777,
    "start_time": "2024-08-14T11:43:42.053Z"
   },
   {
    "duration": 23,
    "start_time": "2024-08-14T11:43:43.832Z"
   },
   {
    "duration": 209,
    "start_time": "2024-08-14T11:43:43.856Z"
   },
   {
    "duration": 2,
    "start_time": "2024-08-14T11:43:44.068Z"
   },
   {
    "duration": 338,
    "start_time": "2024-08-14T11:43:44.072Z"
   },
   {
    "duration": 37,
    "start_time": "2024-08-14T11:43:44.412Z"
   },
   {
    "duration": 72,
    "start_time": "2024-08-14T11:43:44.451Z"
   },
   {
    "duration": 21,
    "start_time": "2024-08-14T11:43:44.525Z"
   },
   {
    "duration": 170,
    "start_time": "2024-08-14T11:43:44.547Z"
   },
   {
    "duration": 16,
    "start_time": "2024-08-14T11:43:44.719Z"
   },
   {
    "duration": 29,
    "start_time": "2024-08-14T11:43:44.736Z"
   },
   {
    "duration": 19,
    "start_time": "2024-08-14T11:43:44.767Z"
   },
   {
    "duration": 109,
    "start_time": "2024-08-14T11:43:44.789Z"
   },
   {
    "duration": 11,
    "start_time": "2024-08-14T11:43:44.900Z"
   },
   {
    "duration": 9,
    "start_time": "2024-08-14T11:43:44.913Z"
   },
   {
    "duration": 66,
    "start_time": "2024-08-14T11:43:44.924Z"
   },
   {
    "duration": 17,
    "start_time": "2024-08-14T11:43:44.992Z"
   },
   {
    "duration": 19,
    "start_time": "2024-08-14T11:43:45.011Z"
   },
   {
    "duration": 68,
    "start_time": "2024-08-14T11:43:45.031Z"
   },
   {
    "duration": 147,
    "start_time": "2024-08-14T11:43:45.101Z"
   },
   {
    "duration": 70,
    "start_time": "2024-08-14T11:43:45.250Z"
   },
   {
    "duration": 34,
    "start_time": "2024-08-14T11:43:45.321Z"
   },
   {
    "duration": 55,
    "start_time": "2024-08-14T11:43:45.357Z"
   },
   {
    "duration": 13,
    "start_time": "2024-08-14T11:43:45.415Z"
   },
   {
    "duration": 10,
    "start_time": "2024-08-14T11:43:45.430Z"
   },
   {
    "duration": 28,
    "start_time": "2024-08-14T11:43:45.442Z"
   },
   {
    "duration": 264,
    "start_time": "2024-08-14T11:43:45.472Z"
   },
   {
    "duration": 16,
    "start_time": "2024-08-14T11:43:45.738Z"
   },
   {
    "duration": 22,
    "start_time": "2024-08-14T11:43:45.765Z"
   },
   {
    "duration": 45,
    "start_time": "2024-08-14T11:43:45.789Z"
   },
   {
    "duration": 40,
    "start_time": "2024-08-14T11:43:45.835Z"
   },
   {
    "duration": 11,
    "start_time": "2024-08-14T11:43:45.877Z"
   },
   {
    "duration": 17,
    "start_time": "2024-08-14T11:43:45.890Z"
   },
   {
    "duration": 11,
    "start_time": "2024-08-14T11:43:45.908Z"
   },
   {
    "duration": 49,
    "start_time": "2024-08-14T11:43:45.921Z"
   },
   {
    "duration": 13,
    "start_time": "2024-08-14T11:43:45.972Z"
   },
   {
    "duration": 93,
    "start_time": "2024-08-14T11:43:45.987Z"
   },
   {
    "duration": 39,
    "start_time": "2024-08-14T11:43:46.082Z"
   },
   {
    "duration": 22,
    "start_time": "2024-08-14T11:43:46.123Z"
   },
   {
    "duration": 1853,
    "start_time": "2024-08-14T11:43:46.150Z"
   },
   {
    "duration": 11,
    "start_time": "2024-08-14T11:43:48.005Z"
   },
   {
    "duration": 57,
    "start_time": "2024-08-14T11:43:48.017Z"
   },
   {
    "duration": 3823,
    "start_time": "2024-08-14T11:43:48.076Z"
   },
   {
    "duration": 27,
    "start_time": "2024-08-14T11:43:51.902Z"
   },
   {
    "duration": 5912,
    "start_time": "2024-08-14T11:43:51.931Z"
   },
   {
    "duration": 33,
    "start_time": "2024-08-14T11:43:57.844Z"
   },
   {
    "duration": 24,
    "start_time": "2024-08-14T11:43:57.879Z"
   },
   {
    "duration": 42,
    "start_time": "2024-08-14T11:43:57.905Z"
   },
   {
    "duration": 119,
    "start_time": "2024-08-14T11:43:57.949Z"
   },
   {
    "duration": 11321,
    "start_time": "2024-08-14T11:44:19.734Z"
   },
   {
    "duration": 23,
    "start_time": "2024-08-14T11:44:31.057Z"
   },
   {
    "duration": 75,
    "start_time": "2024-08-14T11:44:31.081Z"
   },
   {
    "duration": 63,
    "start_time": "2024-08-14T11:44:31.157Z"
   },
   {
    "duration": 377,
    "start_time": "2024-08-14T11:44:31.221Z"
   },
   {
    "duration": 26,
    "start_time": "2024-08-14T11:44:48.176Z"
   },
   {
    "duration": 5929,
    "start_time": "2024-08-14T11:44:49.060Z"
   },
   {
    "duration": 17,
    "start_time": "2024-08-14T11:44:54.991Z"
   },
   {
    "duration": 23,
    "start_time": "2024-08-14T11:44:55.010Z"
   },
   {
    "duration": 16,
    "start_time": "2024-08-14T11:44:55.035Z"
   },
   {
    "duration": 33,
    "start_time": "2024-08-14T11:44:55.053Z"
   },
   {
    "duration": 42,
    "start_time": "2024-08-14T11:49:34.703Z"
   },
   {
    "duration": 4135,
    "start_time": "2024-08-14T11:49:35.239Z"
   },
   {
    "duration": 16,
    "start_time": "2024-08-14T11:49:39.376Z"
   },
   {
    "duration": 6,
    "start_time": "2024-08-14T11:49:39.394Z"
   },
   {
    "duration": 8,
    "start_time": "2024-08-14T11:49:39.402Z"
   },
   {
    "duration": 20,
    "start_time": "2024-08-14T11:49:39.412Z"
   },
   {
    "duration": 80,
    "start_time": "2024-08-14T12:49:59.436Z"
   },
   {
    "duration": 12,
    "start_time": "2024-08-14T12:50:34.747Z"
   },
   {
    "duration": 10362,
    "start_time": "2024-08-14T12:54:29.308Z"
   },
   {
    "duration": 1804,
    "start_time": "2024-08-14T12:54:39.673Z"
   },
   {
    "duration": 21,
    "start_time": "2024-08-14T12:54:41.479Z"
   },
   {
    "duration": 220,
    "start_time": "2024-08-14T12:54:41.503Z"
   },
   {
    "duration": 3,
    "start_time": "2024-08-14T12:54:41.724Z"
   },
   {
    "duration": 319,
    "start_time": "2024-08-14T12:54:41.729Z"
   },
   {
    "duration": 35,
    "start_time": "2024-08-14T12:54:42.049Z"
   },
   {
    "duration": 61,
    "start_time": "2024-08-14T12:54:42.086Z"
   },
   {
    "duration": 35,
    "start_time": "2024-08-14T12:54:42.149Z"
   },
   {
    "duration": 105,
    "start_time": "2024-08-14T12:54:42.188Z"
   },
   {
    "duration": 16,
    "start_time": "2024-08-14T12:54:42.295Z"
   },
   {
    "duration": 35,
    "start_time": "2024-08-14T12:54:42.313Z"
   },
   {
    "duration": 81,
    "start_time": "2024-08-14T12:54:42.349Z"
   },
   {
    "duration": 79,
    "start_time": "2024-08-14T12:54:42.432Z"
   },
   {
    "duration": 10,
    "start_time": "2024-08-14T12:54:42.513Z"
   },
   {
    "duration": 10,
    "start_time": "2024-08-14T12:54:42.524Z"
   },
   {
    "duration": 69,
    "start_time": "2024-08-14T12:54:42.536Z"
   },
   {
    "duration": 17,
    "start_time": "2024-08-14T12:54:42.606Z"
   },
   {
    "duration": 11,
    "start_time": "2024-08-14T12:54:42.624Z"
   },
   {
    "duration": 12,
    "start_time": "2024-08-14T12:54:42.636Z"
   },
   {
    "duration": 37,
    "start_time": "2024-08-14T12:54:42.649Z"
   },
   {
    "duration": 6,
    "start_time": "2024-08-14T12:54:42.688Z"
   },
   {
    "duration": 23,
    "start_time": "2024-08-14T12:54:42.696Z"
   },
   {
    "duration": 9,
    "start_time": "2024-08-14T12:54:42.720Z"
   },
   {
    "duration": 60,
    "start_time": "2024-08-14T12:54:42.731Z"
   },
   {
    "duration": 32,
    "start_time": "2024-08-14T12:54:42.793Z"
   },
   {
    "duration": 6,
    "start_time": "2024-08-14T12:54:42.827Z"
   },
   {
    "duration": 253,
    "start_time": "2024-08-14T12:54:42.837Z"
   },
   {
    "duration": 16,
    "start_time": "2024-08-14T12:54:43.092Z"
   },
   {
    "duration": 13,
    "start_time": "2024-08-14T12:54:43.109Z"
   },
   {
    "duration": 58,
    "start_time": "2024-08-14T12:54:43.124Z"
   },
   {
    "duration": 20,
    "start_time": "2024-08-14T12:54:43.184Z"
   },
   {
    "duration": 10,
    "start_time": "2024-08-14T12:54:43.206Z"
   },
   {
    "duration": 20,
    "start_time": "2024-08-14T12:54:43.218Z"
   },
   {
    "duration": 10,
    "start_time": "2024-08-14T12:54:43.266Z"
   },
   {
    "duration": 37,
    "start_time": "2024-08-14T12:54:43.278Z"
   },
   {
    "duration": 12,
    "start_time": "2024-08-14T12:54:43.317Z"
   },
   {
    "duration": 12,
    "start_time": "2024-08-14T12:54:43.331Z"
   },
   {
    "duration": 53,
    "start_time": "2024-08-14T12:54:43.344Z"
   },
   {
    "duration": 22,
    "start_time": "2024-08-14T12:54:43.399Z"
   },
   {
    "duration": 1869,
    "start_time": "2024-08-14T12:54:43.423Z"
   },
   {
    "duration": 12,
    "start_time": "2024-08-14T12:54:45.295Z"
   },
   {
    "duration": 64,
    "start_time": "2024-08-14T12:54:45.309Z"
   },
   {
    "duration": 3814,
    "start_time": "2024-08-14T12:54:45.375Z"
   },
   {
    "duration": 27,
    "start_time": "2024-08-14T12:54:49.191Z"
   },
   {
    "duration": 4175,
    "start_time": "2024-08-14T12:54:49.219Z"
   },
   {
    "duration": 16,
    "start_time": "2024-08-14T12:54:53.396Z"
   },
   {
    "duration": 26,
    "start_time": "2024-08-14T12:54:53.414Z"
   },
   {
    "duration": 19,
    "start_time": "2024-08-14T12:54:53.442Z"
   },
   {
    "duration": 22,
    "start_time": "2024-08-14T12:54:53.463Z"
   },
   {
    "duration": 213,
    "start_time": "2024-08-14T12:54:53.487Z"
   },
   {
    "duration": 85,
    "start_time": "2024-08-14T12:57:05.777Z"
   },
   {
    "duration": 77,
    "start_time": "2024-08-14T12:57:12.876Z"
   },
   {
    "duration": 57,
    "start_time": "2024-08-14T12:58:17.998Z"
   },
   {
    "duration": 70,
    "start_time": "2024-08-14T12:59:27.209Z"
   },
   {
    "duration": 57,
    "start_time": "2024-08-14T13:00:31.532Z"
   },
   {
    "duration": 80,
    "start_time": "2024-08-14T13:00:41.016Z"
   },
   {
    "duration": 81,
    "start_time": "2024-08-14T13:00:53.334Z"
   },
   {
    "duration": 17,
    "start_time": "2024-08-14T13:03:24.891Z"
   },
   {
    "duration": 14,
    "start_time": "2024-08-14T13:03:55.022Z"
   },
   {
    "duration": 71,
    "start_time": "2024-08-14T13:03:59.671Z"
   },
   {
    "duration": 26,
    "start_time": "2024-08-14T13:05:41.085Z"
   },
   {
    "duration": 3977,
    "start_time": "2024-08-14T13:05:43.396Z"
   },
   {
    "duration": 19,
    "start_time": "2024-08-14T13:05:47.564Z"
   },
   {
    "duration": 6,
    "start_time": "2024-08-14T13:05:53.032Z"
   },
   {
    "duration": 6,
    "start_time": "2024-08-14T13:05:59.893Z"
   },
   {
    "duration": 21,
    "start_time": "2024-08-14T13:06:03.041Z"
   },
   {
    "duration": 67,
    "start_time": "2024-08-14T13:06:07.955Z"
   },
   {
    "duration": 26,
    "start_time": "2024-08-14T13:07:35.538Z"
   },
   {
    "duration": 4181,
    "start_time": "2024-08-14T13:07:36.947Z"
   },
   {
    "duration": 17,
    "start_time": "2024-08-14T13:07:41.129Z"
   },
   {
    "duration": 28,
    "start_time": "2024-08-14T13:07:41.147Z"
   },
   {
    "duration": 5,
    "start_time": "2024-08-14T13:07:41.277Z"
   },
   {
    "duration": 19,
    "start_time": "2024-08-14T13:07:42.270Z"
   },
   {
    "duration": 18,
    "start_time": "2024-08-14T13:08:42.545Z"
   },
   {
    "duration": 10585,
    "start_time": "2024-08-15T11:49:13.113Z"
   },
   {
    "duration": 1739,
    "start_time": "2024-08-15T11:49:23.701Z"
   },
   {
    "duration": 25,
    "start_time": "2024-08-15T11:49:25.442Z"
   },
   {
    "duration": 237,
    "start_time": "2024-08-15T11:49:25.469Z"
   },
   {
    "duration": 2,
    "start_time": "2024-08-15T11:49:25.708Z"
   },
   {
    "duration": 394,
    "start_time": "2024-08-15T11:49:25.711Z"
   },
   {
    "duration": 36,
    "start_time": "2024-08-15T11:49:26.107Z"
   },
   {
    "duration": 78,
    "start_time": "2024-08-15T11:49:26.145Z"
   },
   {
    "duration": 20,
    "start_time": "2024-08-15T11:49:26.224Z"
   },
   {
    "duration": 132,
    "start_time": "2024-08-15T11:49:26.247Z"
   },
   {
    "duration": 17,
    "start_time": "2024-08-15T11:49:26.380Z"
   },
   {
    "duration": 24,
    "start_time": "2024-08-15T11:49:26.398Z"
   },
   {
    "duration": 20,
    "start_time": "2024-08-15T11:49:26.424Z"
   },
   {
    "duration": 138,
    "start_time": "2024-08-15T11:49:26.446Z"
   },
   {
    "duration": 12,
    "start_time": "2024-08-15T11:49:26.586Z"
   },
   {
    "duration": 13,
    "start_time": "2024-08-15T11:49:26.599Z"
   },
   {
    "duration": 81,
    "start_time": "2024-08-15T11:49:26.614Z"
   },
   {
    "duration": 18,
    "start_time": "2024-08-15T11:49:26.697Z"
   },
   {
    "duration": 11,
    "start_time": "2024-08-15T11:49:26.717Z"
   },
   {
    "duration": 13,
    "start_time": "2024-08-15T11:49:26.729Z"
   },
   {
    "duration": 51,
    "start_time": "2024-08-15T11:49:26.744Z"
   },
   {
    "duration": 51,
    "start_time": "2024-08-15T11:49:26.796Z"
   },
   {
    "duration": 41,
    "start_time": "2024-08-15T11:49:26.849Z"
   },
   {
    "duration": 22,
    "start_time": "2024-08-15T11:49:26.891Z"
   },
   {
    "duration": 22,
    "start_time": "2024-08-15T11:49:26.914Z"
   },
   {
    "duration": 14,
    "start_time": "2024-08-15T11:49:26.938Z"
   },
   {
    "duration": 15,
    "start_time": "2024-08-15T11:49:26.954Z"
   },
   {
    "duration": 271,
    "start_time": "2024-08-15T11:49:26.973Z"
   },
   {
    "duration": 17,
    "start_time": "2024-08-15T11:49:27.245Z"
   },
   {
    "duration": 80,
    "start_time": "2024-08-15T11:49:27.263Z"
   },
   {
    "duration": 58,
    "start_time": "2024-08-15T11:49:27.345Z"
   },
   {
    "duration": 23,
    "start_time": "2024-08-15T11:49:27.405Z"
   },
   {
    "duration": 63,
    "start_time": "2024-08-15T11:49:27.430Z"
   },
   {
    "duration": 31,
    "start_time": "2024-08-15T11:49:27.495Z"
   },
   {
    "duration": 10,
    "start_time": "2024-08-15T11:49:27.529Z"
   },
   {
    "duration": 48,
    "start_time": "2024-08-15T11:49:27.541Z"
   },
   {
    "duration": 15,
    "start_time": "2024-08-15T11:49:27.590Z"
   },
   {
    "duration": 14,
    "start_time": "2024-08-15T11:49:27.606Z"
   },
   {
    "duration": 62,
    "start_time": "2024-08-15T11:49:27.622Z"
   },
   {
    "duration": 23,
    "start_time": "2024-08-15T11:49:27.686Z"
   },
   {
    "duration": 1834,
    "start_time": "2024-08-15T11:49:27.711Z"
   },
   {
    "duration": 9,
    "start_time": "2024-08-15T11:49:29.546Z"
   },
   {
    "duration": 12,
    "start_time": "2024-08-15T11:49:29.557Z"
   },
   {
    "duration": 26,
    "start_time": "2024-08-15T11:49:33.523Z"
   },
   {
    "duration": 4288,
    "start_time": "2024-08-15T11:49:33.551Z"
   },
   {
    "duration": 18,
    "start_time": "2024-08-15T11:49:37.840Z"
   },
   {
    "duration": 28,
    "start_time": "2024-08-15T11:49:37.859Z"
   },
   {
    "duration": 6,
    "start_time": "2024-08-15T11:49:37.888Z"
   },
   {
    "duration": 21,
    "start_time": "2024-08-15T11:49:37.896Z"
   },
   {
    "duration": 214,
    "start_time": "2024-08-15T11:49:37.919Z"
   },
   {
    "duration": 0,
    "start_time": "2024-08-15T11:49:38.134Z"
   },
   {
    "duration": 0,
    "start_time": "2024-08-15T11:49:38.135Z"
   },
   {
    "duration": 0,
    "start_time": "2024-08-15T11:49:38.136Z"
   },
   {
    "duration": 0,
    "start_time": "2024-08-15T11:49:38.138Z"
   },
   {
    "duration": 0,
    "start_time": "2024-08-15T11:49:38.138Z"
   },
   {
    "duration": 3955,
    "start_time": "2024-08-15T11:49:41.706Z"
   },
   {
    "duration": 22,
    "start_time": "2024-08-15T11:49:45.663Z"
   },
   {
    "duration": 31,
    "start_time": "2024-08-15T11:51:29.165Z"
   },
   {
    "duration": 4918,
    "start_time": "2024-08-15T11:51:39.874Z"
   },
   {
    "duration": 19,
    "start_time": "2024-08-15T11:51:45.356Z"
   },
   {
    "duration": 6,
    "start_time": "2024-08-15T11:51:51.211Z"
   },
   {
    "duration": 7,
    "start_time": "2024-08-15T11:51:53.459Z"
   },
   {
    "duration": 28,
    "start_time": "2024-08-15T11:51:54.914Z"
   },
   {
    "duration": 5,
    "start_time": "2024-08-15T11:52:29.540Z"
   },
   {
    "duration": 6,
    "start_time": "2024-08-15T11:52:29.953Z"
   },
   {
    "duration": 25,
    "start_time": "2024-08-15T11:52:30.342Z"
   },
   {
    "duration": 21,
    "start_time": "2024-08-15T11:52:52.137Z"
   },
   {
    "duration": 11077,
    "start_time": "2024-08-15T11:52:59.760Z"
   },
   {
    "duration": 1757,
    "start_time": "2024-08-15T11:53:10.839Z"
   },
   {
    "duration": 25,
    "start_time": "2024-08-15T11:53:12.597Z"
   },
   {
    "duration": 251,
    "start_time": "2024-08-15T11:53:12.623Z"
   },
   {
    "duration": 3,
    "start_time": "2024-08-15T11:53:12.876Z"
   },
   {
    "duration": 401,
    "start_time": "2024-08-15T11:53:12.881Z"
   },
   {
    "duration": 37,
    "start_time": "2024-08-15T11:53:13.284Z"
   },
   {
    "duration": 94,
    "start_time": "2024-08-15T11:53:13.324Z"
   },
   {
    "duration": 21,
    "start_time": "2024-08-15T11:53:13.420Z"
   },
   {
    "duration": 180,
    "start_time": "2024-08-15T11:53:13.442Z"
   },
   {
    "duration": 18,
    "start_time": "2024-08-15T11:53:13.623Z"
   },
   {
    "duration": 73,
    "start_time": "2024-08-15T11:53:13.643Z"
   },
   {
    "duration": 25,
    "start_time": "2024-08-15T11:53:13.718Z"
   },
   {
    "duration": 40,
    "start_time": "2024-08-15T11:53:13.747Z"
   },
   {
    "duration": 15,
    "start_time": "2024-08-15T11:53:13.789Z"
   },
   {
    "duration": 37,
    "start_time": "2024-08-15T11:53:13.806Z"
   },
   {
    "duration": 84,
    "start_time": "2024-08-15T11:53:13.845Z"
   },
   {
    "duration": 20,
    "start_time": "2024-08-15T11:53:13.931Z"
   },
   {
    "duration": 13,
    "start_time": "2024-08-15T11:53:13.953Z"
   },
   {
    "duration": 55,
    "start_time": "2024-08-15T11:53:13.967Z"
   },
   {
    "duration": 58,
    "start_time": "2024-08-15T11:53:14.024Z"
   },
   {
    "duration": 16,
    "start_time": "2024-08-15T11:53:14.084Z"
   },
   {
    "duration": 41,
    "start_time": "2024-08-15T11:53:14.102Z"
   },
   {
    "duration": 23,
    "start_time": "2024-08-15T11:53:14.144Z"
   },
   {
    "duration": 32,
    "start_time": "2024-08-15T11:53:14.169Z"
   },
   {
    "duration": 34,
    "start_time": "2024-08-15T11:53:14.203Z"
   },
   {
    "duration": 44,
    "start_time": "2024-08-15T11:53:14.238Z"
   },
   {
    "duration": 293,
    "start_time": "2024-08-15T11:53:14.284Z"
   },
   {
    "duration": 17,
    "start_time": "2024-08-15T11:53:14.584Z"
   },
   {
    "duration": 45,
    "start_time": "2024-08-15T11:53:14.603Z"
   },
   {
    "duration": 69,
    "start_time": "2024-08-15T11:53:14.649Z"
   },
   {
    "duration": 26,
    "start_time": "2024-08-15T11:53:14.720Z"
   },
   {
    "duration": 17,
    "start_time": "2024-08-15T11:53:14.748Z"
   },
   {
    "duration": 56,
    "start_time": "2024-08-15T11:53:14.767Z"
   },
   {
    "duration": 90,
    "start_time": "2024-08-15T11:53:14.826Z"
   },
   {
    "duration": 50,
    "start_time": "2024-08-15T11:53:14.918Z"
   },
   {
    "duration": 29,
    "start_time": "2024-08-15T11:53:14.969Z"
   },
   {
    "duration": 128,
    "start_time": "2024-08-15T11:53:14.999Z"
   },
   {
    "duration": 65,
    "start_time": "2024-08-15T11:53:15.129Z"
   },
   {
    "duration": 43,
    "start_time": "2024-08-15T11:53:15.196Z"
   },
   {
    "duration": 2075,
    "start_time": "2024-08-15T11:53:15.245Z"
   },
   {
    "duration": 9,
    "start_time": "2024-08-15T11:53:17.322Z"
   },
   {
    "duration": 56,
    "start_time": "2024-08-15T11:53:17.332Z"
   },
   {
    "duration": 4022,
    "start_time": "2024-08-15T11:53:17.390Z"
   },
   {
    "duration": 13,
    "start_time": "2024-08-15T11:53:21.413Z"
   },
   {
    "duration": 98,
    "start_time": "2024-08-15T11:53:21.427Z"
   },
   {
    "duration": 5367,
    "start_time": "2024-08-15T11:53:21.526Z"
   },
   {
    "duration": 19,
    "start_time": "2024-08-15T11:53:26.894Z"
   },
   {
    "duration": 184,
    "start_time": "2024-08-15T11:53:26.914Z"
   },
   {
    "duration": 0,
    "start_time": "2024-08-15T11:53:27.100Z"
   },
   {
    "duration": 0,
    "start_time": "2024-08-15T11:53:27.101Z"
   },
   {
    "duration": 0,
    "start_time": "2024-08-15T11:53:27.102Z"
   },
   {
    "duration": 0,
    "start_time": "2024-08-15T11:53:27.103Z"
   },
   {
    "duration": 0,
    "start_time": "2024-08-15T11:53:27.104Z"
   },
   {
    "duration": 0,
    "start_time": "2024-08-15T11:53:27.105Z"
   },
   {
    "duration": 10636,
    "start_time": "2024-08-15T11:53:50.432Z"
   },
   {
    "duration": 1799,
    "start_time": "2024-08-15T11:54:01.070Z"
   },
   {
    "duration": 28,
    "start_time": "2024-08-15T11:54:02.871Z"
   },
   {
    "duration": 311,
    "start_time": "2024-08-15T11:54:02.900Z"
   },
   {
    "duration": 3,
    "start_time": "2024-08-15T11:54:03.220Z"
   },
   {
    "duration": 451,
    "start_time": "2024-08-15T11:54:03.225Z"
   },
   {
    "duration": 36,
    "start_time": "2024-08-15T11:54:03.678Z"
   },
   {
    "duration": 72,
    "start_time": "2024-08-15T11:54:03.716Z"
   },
   {
    "duration": 21,
    "start_time": "2024-08-15T11:54:03.790Z"
   },
   {
    "duration": 98,
    "start_time": "2024-08-15T11:54:03.813Z"
   },
   {
    "duration": 16,
    "start_time": "2024-08-15T11:54:03.912Z"
   },
   {
    "duration": 27,
    "start_time": "2024-08-15T11:54:03.930Z"
   },
   {
    "duration": 35,
    "start_time": "2024-08-15T11:54:03.958Z"
   },
   {
    "duration": 35,
    "start_time": "2024-08-15T11:54:03.997Z"
   },
   {
    "duration": 11,
    "start_time": "2024-08-15T11:54:04.034Z"
   },
   {
    "duration": 11,
    "start_time": "2024-08-15T11:54:04.047Z"
   },
   {
    "duration": 79,
    "start_time": "2024-08-15T11:54:04.060Z"
   },
   {
    "duration": 18,
    "start_time": "2024-08-15T11:54:04.140Z"
   },
   {
    "duration": 29,
    "start_time": "2024-08-15T11:54:04.159Z"
   },
   {
    "duration": 14,
    "start_time": "2024-08-15T11:54:04.190Z"
   },
   {
    "duration": 62,
    "start_time": "2024-08-15T11:54:04.206Z"
   },
   {
    "duration": 42,
    "start_time": "2024-08-15T11:54:04.269Z"
   },
   {
    "duration": 35,
    "start_time": "2024-08-15T11:54:04.313Z"
   },
   {
    "duration": 11,
    "start_time": "2024-08-15T11:54:04.350Z"
   },
   {
    "duration": 12,
    "start_time": "2024-08-15T11:54:04.363Z"
   },
   {
    "duration": 15,
    "start_time": "2024-08-15T11:54:04.377Z"
   },
   {
    "duration": 16,
    "start_time": "2024-08-15T11:54:04.393Z"
   },
   {
    "duration": 257,
    "start_time": "2024-08-15T11:54:04.411Z"
   },
   {
    "duration": 24,
    "start_time": "2024-08-15T11:54:04.670Z"
   },
   {
    "duration": 22,
    "start_time": "2024-08-15T11:54:04.696Z"
   },
   {
    "duration": 45,
    "start_time": "2024-08-15T11:54:04.719Z"
   },
   {
    "duration": 36,
    "start_time": "2024-08-15T11:54:04.766Z"
   },
   {
    "duration": 11,
    "start_time": "2024-08-15T11:54:04.804Z"
   },
   {
    "duration": 98,
    "start_time": "2024-08-15T11:54:04.817Z"
   },
   {
    "duration": 15,
    "start_time": "2024-08-15T11:54:04.917Z"
   },
   {
    "duration": 24,
    "start_time": "2024-08-15T11:54:04.934Z"
   },
   {
    "duration": 13,
    "start_time": "2024-08-15T11:54:04.959Z"
   },
   {
    "duration": 46,
    "start_time": "2024-08-15T11:54:04.974Z"
   },
   {
    "duration": 84,
    "start_time": "2024-08-15T11:54:05.022Z"
   },
   {
    "duration": 51,
    "start_time": "2024-08-15T11:54:05.108Z"
   },
   {
    "duration": 1890,
    "start_time": "2024-08-15T11:54:05.163Z"
   },
   {
    "duration": 10,
    "start_time": "2024-08-15T11:54:07.054Z"
   },
   {
    "duration": 71,
    "start_time": "2024-08-15T11:54:07.066Z"
   },
   {
    "duration": 3931,
    "start_time": "2024-08-15T11:54:07.138Z"
   },
   {
    "duration": 17,
    "start_time": "2024-08-15T11:54:11.071Z"
   },
   {
    "duration": 50,
    "start_time": "2024-08-15T11:54:11.090Z"
   },
   {
    "duration": 5235,
    "start_time": "2024-08-15T11:54:11.142Z"
   },
   {
    "duration": 24,
    "start_time": "2024-08-15T11:54:16.379Z"
   },
   {
    "duration": 52,
    "start_time": "2024-08-15T11:54:16.406Z"
   },
   {
    "duration": 15,
    "start_time": "2024-08-15T11:54:16.460Z"
   },
   {
    "duration": 37,
    "start_time": "2024-08-15T11:54:16.477Z"
   },
   {
    "duration": 156,
    "start_time": "2024-08-15T11:54:16.585Z"
   },
   {
    "duration": 12980,
    "start_time": "2024-08-15T11:54:16.743Z"
   },
   {
    "duration": 187,
    "start_time": "2024-08-15T11:54:29.725Z"
   },
   {
    "duration": 0,
    "start_time": "2024-08-15T11:54:29.913Z"
   },
   {
    "duration": 10531,
    "start_time": "2024-08-15T11:55:53.299Z"
   },
   {
    "duration": 1679,
    "start_time": "2024-08-15T11:56:03.833Z"
   },
   {
    "duration": 23,
    "start_time": "2024-08-15T11:56:05.513Z"
   },
   {
    "duration": 220,
    "start_time": "2024-08-15T11:56:05.538Z"
   },
   {
    "duration": 2,
    "start_time": "2024-08-15T11:56:05.761Z"
   },
   {
    "duration": 319,
    "start_time": "2024-08-15T11:56:05.764Z"
   },
   {
    "duration": 38,
    "start_time": "2024-08-15T11:56:06.085Z"
   },
   {
    "duration": 81,
    "start_time": "2024-08-15T11:56:06.124Z"
   },
   {
    "duration": 20,
    "start_time": "2024-08-15T11:56:06.207Z"
   },
   {
    "duration": 81,
    "start_time": "2024-08-15T11:56:06.228Z"
   },
   {
    "duration": 15,
    "start_time": "2024-08-15T11:56:06.311Z"
   },
   {
    "duration": 24,
    "start_time": "2024-08-15T11:56:06.328Z"
   },
   {
    "duration": 37,
    "start_time": "2024-08-15T11:56:06.353Z"
   },
   {
    "duration": 35,
    "start_time": "2024-08-15T11:56:06.393Z"
   },
   {
    "duration": 11,
    "start_time": "2024-08-15T11:56:06.429Z"
   },
   {
    "duration": 10,
    "start_time": "2024-08-15T11:56:06.442Z"
   },
   {
    "duration": 77,
    "start_time": "2024-08-15T11:56:06.454Z"
   },
   {
    "duration": 18,
    "start_time": "2024-08-15T11:56:06.533Z"
   },
   {
    "duration": 11,
    "start_time": "2024-08-15T11:56:06.552Z"
   },
   {
    "duration": 31,
    "start_time": "2024-08-15T11:56:06.564Z"
   },
   {
    "duration": 29,
    "start_time": "2024-08-15T11:56:06.596Z"
   },
   {
    "duration": 9,
    "start_time": "2024-08-15T11:56:06.627Z"
   },
   {
    "duration": 24,
    "start_time": "2024-08-15T11:56:06.638Z"
   },
   {
    "duration": 26,
    "start_time": "2024-08-15T11:56:06.664Z"
   },
   {
    "duration": 4,
    "start_time": "2024-08-15T11:56:06.691Z"
   },
   {
    "duration": 10,
    "start_time": "2024-08-15T11:56:06.697Z"
   },
   {
    "duration": 6,
    "start_time": "2024-08-15T11:56:06.709Z"
   },
   {
    "duration": 279,
    "start_time": "2024-08-15T11:56:06.717Z"
   },
   {
    "duration": 16,
    "start_time": "2024-08-15T11:56:06.998Z"
   },
   {
    "duration": 18,
    "start_time": "2024-08-15T11:56:07.016Z"
   },
   {
    "duration": 64,
    "start_time": "2024-08-15T11:56:07.036Z"
   },
   {
    "duration": 39,
    "start_time": "2024-08-15T11:56:07.102Z"
   },
   {
    "duration": 13,
    "start_time": "2024-08-15T11:56:07.143Z"
   },
   {
    "duration": 18,
    "start_time": "2024-08-15T11:56:07.158Z"
   },
   {
    "duration": 37,
    "start_time": "2024-08-15T11:56:07.184Z"
   },
   {
    "duration": 25,
    "start_time": "2024-08-15T11:56:07.222Z"
   },
   {
    "duration": 17,
    "start_time": "2024-08-15T11:56:07.249Z"
   },
   {
    "duration": 108,
    "start_time": "2024-08-15T11:56:07.268Z"
   },
   {
    "duration": 39,
    "start_time": "2024-08-15T11:56:07.378Z"
   },
   {
    "duration": 22,
    "start_time": "2024-08-15T11:56:07.418Z"
   },
   {
    "duration": 1881,
    "start_time": "2024-08-15T11:56:07.444Z"
   },
   {
    "duration": 10,
    "start_time": "2024-08-15T11:56:09.326Z"
   },
   {
    "duration": 54,
    "start_time": "2024-08-15T11:56:09.338Z"
   },
   {
    "duration": 3799,
    "start_time": "2024-08-15T11:56:09.394Z"
   },
   {
    "duration": 11,
    "start_time": "2024-08-15T11:56:13.195Z"
   },
   {
    "duration": 28,
    "start_time": "2024-08-15T11:56:13.208Z"
   },
   {
    "duration": 5325,
    "start_time": "2024-08-15T11:56:13.238Z"
   },
   {
    "duration": 33,
    "start_time": "2024-08-15T11:56:18.565Z"
   },
   {
    "duration": 10,
    "start_time": "2024-08-15T11:56:18.601Z"
   },
   {
    "duration": 11,
    "start_time": "2024-08-15T11:56:18.615Z"
   },
   {
    "duration": 157,
    "start_time": "2024-08-15T11:56:18.628Z"
   },
   {
    "duration": 54,
    "start_time": "2024-08-15T11:56:18.787Z"
   },
   {
    "duration": 11182,
    "start_time": "2024-08-15T11:56:18.843Z"
   },
   {
    "duration": 184,
    "start_time": "2024-08-15T11:56:30.027Z"
   },
   {
    "duration": 0,
    "start_time": "2024-08-15T11:56:30.212Z"
   },
   {
    "duration": 26,
    "start_time": "2024-08-15T11:57:21.630Z"
   },
   {
    "duration": 6197,
    "start_time": "2024-08-15T11:57:22.405Z"
   },
   {
    "duration": 18,
    "start_time": "2024-08-15T11:57:28.604Z"
   },
   {
    "duration": 5,
    "start_time": "2024-08-15T11:57:28.624Z"
   },
   {
    "duration": 13,
    "start_time": "2024-08-15T11:57:28.631Z"
   },
   {
    "duration": 139,
    "start_time": "2024-08-15T11:57:28.645Z"
   },
   {
    "duration": 151,
    "start_time": "2024-08-15T11:57:28.789Z"
   },
   {
    "duration": 10898,
    "start_time": "2024-08-15T11:57:28.941Z"
   },
   {
    "duration": 56,
    "start_time": "2024-08-15T11:57:39.842Z"
   },
   {
    "duration": 0,
    "start_time": "2024-08-15T11:57:39.900Z"
   },
   {
    "duration": 1667,
    "start_time": "2024-08-15T11:57:45.974Z"
   },
   {
    "duration": 27,
    "start_time": "2024-08-15T11:59:37.263Z"
   },
   {
    "duration": 5920,
    "start_time": "2024-08-15T11:59:38.234Z"
   },
   {
    "duration": 17,
    "start_time": "2024-08-15T11:59:44.156Z"
   },
   {
    "duration": 13,
    "start_time": "2024-08-15T11:59:44.174Z"
   },
   {
    "duration": 6,
    "start_time": "2024-08-15T11:59:44.189Z"
   },
   {
    "duration": 88,
    "start_time": "2024-08-15T11:59:44.197Z"
   },
   {
    "duration": 148,
    "start_time": "2024-08-15T11:59:44.288Z"
   },
   {
    "duration": 10890,
    "start_time": "2024-08-15T11:59:44.438Z"
   },
   {
    "duration": 38,
    "start_time": "2024-08-15T11:59:55.330Z"
   },
   {
    "duration": 0,
    "start_time": "2024-08-15T11:59:55.384Z"
   },
   {
    "duration": 1795,
    "start_time": "2024-08-15T12:02:00.921Z"
   },
   {
    "duration": 31,
    "start_time": "2024-08-15T12:11:47.279Z"
   },
   {
    "duration": 1695,
    "start_time": "2024-08-15T12:13:20.849Z"
   },
   {
    "duration": 5,
    "start_time": "2024-08-15T12:13:22.790Z"
   },
   {
    "duration": 40,
    "start_time": "2024-08-15T12:14:16.593Z"
   },
   {
    "duration": 35,
    "start_time": "2024-08-15T12:14:22.593Z"
   },
   {
    "duration": 1609,
    "start_time": "2024-08-15T12:15:55.020Z"
   },
   {
    "duration": 141,
    "start_time": "2024-08-15T12:15:59.497Z"
   },
   {
    "duration": 147,
    "start_time": "2024-08-15T12:16:09.210Z"
   },
   {
    "duration": 11,
    "start_time": "2024-08-15T12:17:01.474Z"
   },
   {
    "duration": 1838,
    "start_time": "2024-08-15T12:17:06.801Z"
   },
   {
    "duration": 202,
    "start_time": "2024-08-15T12:17:22.448Z"
   },
   {
    "duration": 1758,
    "start_time": "2024-08-15T12:18:19.248Z"
   },
   {
    "duration": 172,
    "start_time": "2024-08-15T12:18:21.090Z"
   },
   {
    "duration": 178,
    "start_time": "2024-08-15T12:19:23.390Z"
   },
   {
    "duration": 10,
    "start_time": "2024-08-15T12:19:40.128Z"
   },
   {
    "duration": 79,
    "start_time": "2024-08-15T12:20:05.035Z"
   },
   {
    "duration": 51,
    "start_time": "2024-08-19T03:30:36.556Z"
   },
   {
    "duration": 18107,
    "start_time": "2024-08-19T03:30:44.538Z"
   },
   {
    "duration": 1998,
    "start_time": "2024-08-19T03:31:02.648Z"
   },
   {
    "duration": 25,
    "start_time": "2024-08-19T03:31:04.648Z"
   },
   {
    "duration": 231,
    "start_time": "2024-08-19T03:31:04.675Z"
   },
   {
    "duration": 3,
    "start_time": "2024-08-19T03:31:04.908Z"
   },
   {
    "duration": 396,
    "start_time": "2024-08-19T03:31:04.912Z"
   },
   {
    "duration": 43,
    "start_time": "2024-08-19T03:31:05.310Z"
   },
   {
    "duration": 66,
    "start_time": "2024-08-19T03:31:05.355Z"
   },
   {
    "duration": 36,
    "start_time": "2024-08-19T03:31:05.422Z"
   },
   {
    "duration": 189,
    "start_time": "2024-08-19T03:31:05.460Z"
   },
   {
    "duration": 15,
    "start_time": "2024-08-19T03:31:05.651Z"
   },
   {
    "duration": 52,
    "start_time": "2024-08-19T03:31:05.668Z"
   },
   {
    "duration": 19,
    "start_time": "2024-08-19T03:31:05.721Z"
   },
   {
    "duration": 76,
    "start_time": "2024-08-19T03:31:05.743Z"
   },
   {
    "duration": 10,
    "start_time": "2024-08-19T03:31:05.821Z"
   },
   {
    "duration": 44,
    "start_time": "2024-08-19T03:31:05.832Z"
   },
   {
    "duration": 82,
    "start_time": "2024-08-19T03:31:05.878Z"
   },
   {
    "duration": 17,
    "start_time": "2024-08-19T03:31:05.962Z"
   },
   {
    "duration": 12,
    "start_time": "2024-08-19T03:31:05.980Z"
   },
   {
    "duration": 13,
    "start_time": "2024-08-19T03:31:05.994Z"
   },
   {
    "duration": 45,
    "start_time": "2024-08-19T03:31:06.009Z"
   },
   {
    "duration": 6,
    "start_time": "2024-08-19T03:31:06.055Z"
   },
   {
    "duration": 46,
    "start_time": "2024-08-19T03:31:06.063Z"
   },
   {
    "duration": 9,
    "start_time": "2024-08-19T03:31:06.110Z"
   },
   {
    "duration": 11,
    "start_time": "2024-08-19T03:31:06.121Z"
   },
   {
    "duration": 11,
    "start_time": "2024-08-19T03:31:06.134Z"
   },
   {
    "duration": 9,
    "start_time": "2024-08-19T03:31:06.147Z"
   },
   {
    "duration": 264,
    "start_time": "2024-08-19T03:31:06.158Z"
   },
   {
    "duration": 16,
    "start_time": "2024-08-19T03:31:06.424Z"
   },
   {
    "duration": 14,
    "start_time": "2024-08-19T03:31:06.454Z"
   },
   {
    "duration": 44,
    "start_time": "2024-08-19T03:31:06.470Z"
   },
   {
    "duration": 46,
    "start_time": "2024-08-19T03:31:06.515Z"
   },
   {
    "duration": 13,
    "start_time": "2024-08-19T03:31:06.563Z"
   },
   {
    "duration": 21,
    "start_time": "2024-08-19T03:31:06.578Z"
   },
   {
    "duration": 10,
    "start_time": "2024-08-19T03:31:06.601Z"
   },
   {
    "duration": 60,
    "start_time": "2024-08-19T03:31:06.613Z"
   },
   {
    "duration": 13,
    "start_time": "2024-08-19T03:31:06.675Z"
   },
   {
    "duration": 14,
    "start_time": "2024-08-19T03:31:06.690Z"
   },
   {
    "duration": 59,
    "start_time": "2024-08-19T03:31:06.706Z"
   },
   {
    "duration": 21,
    "start_time": "2024-08-19T03:31:06.767Z"
   },
   {
    "duration": 1916,
    "start_time": "2024-08-19T03:31:06.792Z"
   },
   {
    "duration": 11,
    "start_time": "2024-08-19T03:31:08.709Z"
   },
   {
    "duration": 77,
    "start_time": "2024-08-19T03:31:08.722Z"
   },
   {
    "duration": 3829,
    "start_time": "2024-08-19T03:31:08.801Z"
   },
   {
    "duration": 12,
    "start_time": "2024-08-19T03:31:12.631Z"
   },
   {
    "duration": 28,
    "start_time": "2024-08-19T03:31:12.653Z"
   },
   {
    "duration": 6395,
    "start_time": "2024-08-19T03:31:12.683Z"
   },
   {
    "duration": 18,
    "start_time": "2024-08-19T03:31:19.080Z"
   },
   {
    "duration": 56,
    "start_time": "2024-08-19T03:31:19.100Z"
   },
   {
    "duration": 5,
    "start_time": "2024-08-19T03:31:19.158Z"
   },
   {
    "duration": 91,
    "start_time": "2024-08-19T03:31:19.165Z"
   },
   {
    "duration": 151,
    "start_time": "2024-08-19T03:31:19.259Z"
   },
   {
    "duration": 11096,
    "start_time": "2024-08-19T03:31:19.412Z"
   },
   {
    "duration": 45,
    "start_time": "2024-08-19T03:31:30.510Z"
   },
   {
    "duration": 1819,
    "start_time": "2024-08-19T03:31:30.557Z"
   },
   {
    "duration": 33,
    "start_time": "2024-08-19T03:31:53.749Z"
   },
   {
    "duration": 4,
    "start_time": "2024-08-19T03:32:27.808Z"
   },
   {
    "duration": 32,
    "start_time": "2024-08-19T03:32:31.947Z"
   },
   {
    "duration": 182,
    "start_time": "2024-08-19T03:33:39.317Z"
   },
   {
    "duration": 9688,
    "start_time": "2024-08-19T03:34:58.610Z"
   },
   {
    "duration": 14,
    "start_time": "2024-08-19T03:35:08.352Z"
   },
   {
    "duration": 14,
    "start_time": "2024-08-19T03:35:16.214Z"
   },
   {
    "duration": 11,
    "start_time": "2024-08-19T03:35:21.574Z"
   },
   {
    "duration": 40,
    "start_time": "2024-08-19T03:35:40.621Z"
   },
   {
    "duration": 40,
    "start_time": "2024-08-19T03:36:06.077Z"
   },
   {
    "duration": 44,
    "start_time": "2024-08-19T03:36:14.212Z"
   },
   {
    "duration": 47,
    "start_time": "2024-08-19T03:36:26.752Z"
   },
   {
    "duration": 38,
    "start_time": "2024-08-19T03:37:01.756Z"
   },
   {
    "duration": 6,
    "start_time": "2024-08-19T03:37:17.009Z"
   },
   {
    "duration": 33,
    "start_time": "2024-08-19T04:09:10.081Z"
   },
   {
    "duration": 50,
    "start_time": "2024-08-22T09:14:54.590Z"
   },
   {
    "duration": 6,
    "start_time": "2024-08-22T09:14:55.213Z"
   },
   {
    "duration": 10793,
    "start_time": "2024-08-22T09:15:02.242Z"
   },
   {
    "duration": 1780,
    "start_time": "2024-08-22T09:15:13.038Z"
   },
   {
    "duration": 23,
    "start_time": "2024-08-22T09:15:14.820Z"
   },
   {
    "duration": 982,
    "start_time": "2024-08-22T09:15:14.846Z"
   },
   {
    "duration": 3,
    "start_time": "2024-08-22T09:15:15.829Z"
   },
   {
    "duration": 409,
    "start_time": "2024-08-22T09:15:15.833Z"
   },
   {
    "duration": 36,
    "start_time": "2024-08-22T09:15:16.244Z"
   },
   {
    "duration": 74,
    "start_time": "2024-08-22T09:15:16.282Z"
   },
   {
    "duration": 20,
    "start_time": "2024-08-22T09:15:16.358Z"
   },
   {
    "duration": 147,
    "start_time": "2024-08-22T09:15:16.381Z"
   },
   {
    "duration": 16,
    "start_time": "2024-08-22T09:15:16.530Z"
   },
   {
    "duration": 77,
    "start_time": "2024-08-22T09:15:16.548Z"
   },
   {
    "duration": 21,
    "start_time": "2024-08-22T09:15:16.626Z"
   },
   {
    "duration": 173,
    "start_time": "2024-08-22T09:15:16.648Z"
   },
   {
    "duration": 11,
    "start_time": "2024-08-22T09:15:16.823Z"
   },
   {
    "duration": 11,
    "start_time": "2024-08-22T09:15:16.836Z"
   },
   {
    "duration": 86,
    "start_time": "2024-08-22T09:15:16.849Z"
   },
   {
    "duration": 18,
    "start_time": "2024-08-22T09:15:16.937Z"
   },
   {
    "duration": 12,
    "start_time": "2024-08-22T09:15:16.956Z"
   },
   {
    "duration": 35,
    "start_time": "2024-08-22T09:15:16.969Z"
   },
   {
    "duration": 26,
    "start_time": "2024-08-22T09:15:17.005Z"
   },
   {
    "duration": 9,
    "start_time": "2024-08-22T09:15:17.033Z"
   },
   {
    "duration": 25,
    "start_time": "2024-08-22T09:15:17.044Z"
   },
   {
    "duration": 9,
    "start_time": "2024-08-22T09:15:17.071Z"
   },
   {
    "duration": 24,
    "start_time": "2024-08-22T09:15:17.081Z"
   },
   {
    "duration": 11,
    "start_time": "2024-08-22T09:15:17.107Z"
   },
   {
    "duration": 17,
    "start_time": "2024-08-22T09:15:17.120Z"
   },
   {
    "duration": 343,
    "start_time": "2024-08-22T09:15:17.141Z"
   },
   {
    "duration": 21,
    "start_time": "2024-08-22T09:15:17.486Z"
   },
   {
    "duration": 50,
    "start_time": "2024-08-22T09:15:17.509Z"
   },
   {
    "duration": 45,
    "start_time": "2024-08-22T09:15:17.560Z"
   },
   {
    "duration": 26,
    "start_time": "2024-08-22T09:15:17.607Z"
   },
   {
    "duration": 17,
    "start_time": "2024-08-22T09:15:17.635Z"
   },
   {
    "duration": 94,
    "start_time": "2024-08-22T09:15:17.654Z"
   },
   {
    "duration": 19,
    "start_time": "2024-08-22T09:15:17.750Z"
   },
   {
    "duration": 36,
    "start_time": "2024-08-22T09:15:17.771Z"
   },
   {
    "duration": 14,
    "start_time": "2024-08-22T09:15:17.809Z"
   },
   {
    "duration": 70,
    "start_time": "2024-08-22T09:15:17.824Z"
   },
   {
    "duration": 74,
    "start_time": "2024-08-22T09:15:17.896Z"
   },
   {
    "duration": 61,
    "start_time": "2024-08-22T09:15:17.972Z"
   },
   {
    "duration": 1905,
    "start_time": "2024-08-22T09:15:18.035Z"
   },
   {
    "duration": 9,
    "start_time": "2024-08-22T09:15:19.942Z"
   },
   {
    "duration": 9,
    "start_time": "2024-08-22T09:15:19.953Z"
   },
   {
    "duration": 3878,
    "start_time": "2024-08-22T09:15:19.964Z"
   },
   {
    "duration": 15,
    "start_time": "2024-08-22T09:15:23.844Z"
   },
   {
    "duration": 44,
    "start_time": "2024-08-22T09:15:23.861Z"
   },
   {
    "duration": 6500,
    "start_time": "2024-08-22T09:15:23.907Z"
   },
   {
    "duration": 19,
    "start_time": "2024-08-22T09:15:30.409Z"
   },
   {
    "duration": 40,
    "start_time": "2024-08-22T09:15:30.430Z"
   },
   {
    "duration": 38,
    "start_time": "2024-08-22T09:15:30.471Z"
   },
   {
    "duration": 95,
    "start_time": "2024-08-22T09:15:30.511Z"
   },
   {
    "duration": 253,
    "start_time": "2024-08-22T09:15:30.609Z"
   },
   {
    "duration": 10058,
    "start_time": "2024-08-22T09:15:30.864Z"
   },
   {
    "duration": 13,
    "start_time": "2024-08-22T09:15:40.924Z"
   },
   {
    "duration": 20,
    "start_time": "2024-08-22T09:15:40.939Z"
   },
   {
    "duration": 33,
    "start_time": "2024-08-22T09:15:40.961Z"
   },
   {
    "duration": 1653,
    "start_time": "2024-08-22T09:15:40.995Z"
   }
  ],
  "colab": {
   "collapsed_sections": [
    "650z04L14Swv",
    "68MY65xE7OYt",
    "uynsybnw7D1Z",
    "A-xzVhVD_Gla"
   ],
   "provenance": [],
   "toc_visible": true
  },
  "kernelspec": {
   "display_name": "Python 3 (ipykernel)",
   "language": "python",
   "name": "python3"
  },
  "language_info": {
   "codemirror_mode": {
    "name": "ipython",
    "version": 3
   },
   "file_extension": ".py",
   "mimetype": "text/x-python",
   "name": "python",
   "nbconvert_exporter": "python",
   "pygments_lexer": "ipython3",
   "version": "3.9.5"
  },
  "toc": {
   "base_numbering": 1,
   "nav_menu": {
    "height": "242.8px",
    "width": "340.6px"
   },
   "number_sections": true,
   "sideBar": true,
   "skip_h1_title": true,
   "title_cell": "Table of Contents",
   "title_sidebar": "Contents",
   "toc_cell": false,
   "toc_position": {},
   "toc_section_display": true,
   "toc_window_display": false
  }
 },
 "nbformat": 4,
 "nbformat_minor": 1
}
